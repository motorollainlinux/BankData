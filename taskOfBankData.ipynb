{
  "cells": [
    {
      "cell_type": "markdown",
      "metadata": {
        "id": "view-in-github",
        "colab_type": "text"
      },
      "source": [
        "<a href=\"https://colab.research.google.com/github/motorollainlinux/BankData/blob/main/taskOfBankData.ipynb\" target=\"_parent\"><img src=\"https://colab.research.google.com/assets/colab-badge.svg\" alt=\"Open In Colab\"/></a>"
      ]
    },
    {
      "cell_type": "markdown",
      "metadata": {
        "id": "G4X2ZDUzu3t-",
        "pycharm": {
          "name": "#%% md\n"
        }
      },
      "source": [
        "# День 00 – Сбор и очистка данных"
      ]
    },
    {
      "cell_type": "markdown",
      "metadata": {
        "pycharm": {
          "name": "#%% md\n"
        },
        "id": "KE1bTbwvA825"
      },
      "source": [
        " Добро пожаловать в Jupyter Notebook! Это тот инструмент, в котором дата сайентисты проводят больше всего времени, работая с данными при помощи кода на Python. Здесь очень удобно работать в интерактивном режиме, запуская отдельные ячейки, а не весь код сразу и полностью. Тут же можно делать и отчеты, поскольку помимо кода, здесь удобно строить графики и писать текст."
      ]
    },
    {
      "cell_type": "markdown",
      "metadata": {
        "id": "nGSsI7ysu3uC",
        "pycharm": {
          "name": "#%% md\n"
        }
      },
      "source": [
        "Мы понимаем, что вы не программисты и скорее всего не планируете ими стать, поэтому насколько это возможно мы будем сопровождать такие ноутбуки комментариями и полезными командами, которые могут вам пригодиться для решения задачи. Но естественно здесь будет не всё: что-то вам придется поискать самостоятельно в интернете. Такова уж методология Школы 21, и она приносит свои плоды."
      ]
    },
    {
      "cell_type": "markdown",
      "metadata": {
        "pycharm": {
          "name": "#%% md\n"
        },
        "id": "wNoJxTlfA826"
      },
      "source": [
        "## 0. Импорт библиотек"
      ]
    },
    {
      "cell_type": "markdown",
      "metadata": {
        "pycharm": {
          "name": "#%% md\n"
        },
        "id": "TbOeuMbdA826"
      },
      "source": [
        "Библиотека – это по сути набор полезных функций и методов, которые написали одни программисты, а другие программисты могут уже не писать их с нуля, а пользоваться готовыми. Например, вы хотите посчитать среднее арифметическое значение по ряду. Вы можете самостоятельно написать код, который посчитает сумму по ряду и поделит на количество элементов в ряду, а можете импортировать библиотеку, где уже есть эта функция и воспользоваться ею. Это сэкономит вам время, силы, и код будет менее объемным.\n",
        "\n",
        "Ниже мы импортируем широко используемую библиотеку Pandas. В ней есть много полезных функций для работы с табличными данными. Почти Excel, только взаимодействие с ним через код на Python. Мы будем пользоваться этой библиотекой в течение всего курса."
      ]
    },
    {
      "cell_type": "code",
      "execution_count": null,
      "metadata": {
        "jupyter": {
          "outputs_hidden": false
        },
        "pycharm": {
          "name": "#%%\n"
        },
        "id": "hrPX4wb1A826"
      },
      "outputs": [],
      "source": [
        "import pandas as pd #мы будем часто пользоваться методами этой библиотеки, поэтому введем для нее сокращенное название – pd\n",
        "import numpy as np"
      ]
    },
    {
      "cell_type": "markdown",
      "metadata": {
        "id": "48CHlvSNA827"
      },
      "source": [
        "Давайте познакомимся с библиотекой Pandas. Pandas - это библиотека языка Python, который предоставляет быстрые, гибкие и выразительные структуры данных, разработанные для того, чтобы сделать работу с табличными данными простой и интуитивно понятной."
      ]
    },
    {
      "cell_type": "markdown",
      "metadata": {
        "pycharm": {
          "name": "#%% md\n"
        },
        "id": "Q9LPyJDGA827"
      },
      "source": [
        "## 1. Загрузка данных"
      ]
    },
    {
      "cell_type": "code",
      "execution_count": null,
      "metadata": {
        "id": "o9LpYE15A827"
      },
      "outputs": [],
      "source": [
        "df1 = pd.read_csv('../datasets/dataset_1.csv') #указываем путь к файлу\n",
        "df1.head() #посмотрим несколько первых строк получившегося датафрейма\n",
        "ptd1 = pd.read_csv('../datasets/part_01.csv')\n",
        "ptd2 = pd.read_csv('../datasets/part_02.csv')\n",
        "ptd3 = pd.read_csv('../datasets/part_03.csv')\n",
        "ptd4 = pd.read_csv('../datasets/part_04.csv')\n",
        "ptd5 = pd.read_csv('../datasets/part_05.csv')\n",
        "ptd6 = pd.read_csv('../datasets/part_06.csv')\n",
        "ptd7 = pd.read_csv('../datasets/part_07.csv')\n",
        "ptd8 = pd.read_csv('../datasets/part_08.csv')\n",
        "ptd9 = pd.read_csv('../datasets/part_09.csv')\n",
        "ptd10 = pd.read_csv('../datasets/part_10.csv')\n",
        "ptd11 = pd.read_csv('../datasets/part_11.csv')\n",
        "ptd12 = pd.read_csv('../datasets/part_12.csv')"
      ]
    },
    {
      "cell_type": "code",
      "execution_count": null,
      "metadata": {
        "id": "K0vFzjCEA827",
        "outputId": "53f154fb-955e-4a2e-ee3e-31ec5f5c77f4"
      },
      "outputs": [
        {
          "data": {
            "text/html": [
              "<div>\n",
              "<style scoped>\n",
              "    .dataframe tbody tr th:only-of-type {\n",
              "        vertical-align: middle;\n",
              "    }\n",
              "\n",
              "    .dataframe tbody tr th {\n",
              "        vertical-align: top;\n",
              "    }\n",
              "\n",
              "    .dataframe thead th {\n",
              "        text-align: right;\n",
              "    }\n",
              "</style>\n",
              "<table border=\"1\" class=\"dataframe\">\n",
              "  <thead>\n",
              "    <tr style=\"text-align: right;\">\n",
              "      <th></th>\n",
              "      <th>version https://git-lfs.github.com/spec/v1</th>\n",
              "    </tr>\n",
              "  </thead>\n",
              "  <tbody>\n",
              "    <tr>\n",
              "      <th>0</th>\n",
              "      <td>oid sha256:fade9e846afa2931d45d997fb0b8a509364...</td>\n",
              "    </tr>\n",
              "    <tr>\n",
              "      <th>1</th>\n",
              "      <td>size 273</td>\n",
              "    </tr>\n",
              "  </tbody>\n",
              "</table>\n",
              "</div>"
            ],
            "text/plain": [
              "          version https://git-lfs.github.com/spec/v1\n",
              "0  oid sha256:fade9e846afa2931d45d997fb0b8a509364...\n",
              "1                                           size 273"
            ]
          },
          "execution_count": 4,
          "metadata": {},
          "output_type": "execute_result"
        }
      ],
      "source": [
        "df = pd.read_csv('../datasets/dataset_2.csv')\n",
        "df.head()"
      ]
    },
    {
      "cell_type": "markdown",
      "metadata": {
        "pycharm": {
          "name": "#%% md\n"
        },
        "id": "K_3KAJw_A828"
      },
      "source": [
        "Если всё получилось, то вы увидите небольшой кусок таблицы: шапку, первые пять строчек"
      ]
    },
    {
      "cell_type": "markdown",
      "metadata": {
        "id": "ezHQwNeAA828"
      },
      "source": [
        "Загрузим еще несколько датасетов"
      ]
    },
    {
      "cell_type": "code",
      "execution_count": null,
      "metadata": {
        "id": "nv5Ox9n-A828"
      },
      "outputs": [],
      "source": [
        "df2 = pd.read_csv('../datasets/dataset_2.csv')"
      ]
    },
    {
      "cell_type": "code",
      "execution_count": null,
      "metadata": {
        "id": "7sVIWCQRA828",
        "outputId": "54c5e17a-03f8-4046-806a-5af8e7bebc4c"
      },
      "outputs": [
        {
          "data": {
            "text/html": [
              "<div>\n",
              "<style scoped>\n",
              "    .dataframe tbody tr th:only-of-type {\n",
              "        vertical-align: middle;\n",
              "    }\n",
              "\n",
              "    .dataframe tbody tr th {\n",
              "        vertical-align: top;\n",
              "    }\n",
              "\n",
              "    .dataframe thead th {\n",
              "        text-align: right;\n",
              "    }\n",
              "</style>\n",
              "<table border=\"1\" class=\"dataframe\">\n",
              "  <thead>\n",
              "    <tr style=\"text-align: right;\">\n",
              "      <th></th>\n",
              "      <th>ID</th>\n",
              "      <th>AMOUNT_RUB_SUP_PRC</th>\n",
              "      <th>CNT_TRAN_ATM_TENDENCY1M</th>\n",
              "      <th>APP_COMP_TYPE</th>\n",
              "    </tr>\n",
              "  </thead>\n",
              "  <tbody>\n",
              "    <tr>\n",
              "      <th>0</th>\n",
              "      <td>358628</td>\n",
              "      <td>0.030183</td>\n",
              "      <td>0.216216</td>\n",
              "      <td>NaN</td>\n",
              "    </tr>\n",
              "    <tr>\n",
              "      <th>1</th>\n",
              "      <td>528730</td>\n",
              "      <td>NaN</td>\n",
              "      <td>NaN</td>\n",
              "      <td>PRIVATE</td>\n",
              "    </tr>\n",
              "    <tr>\n",
              "      <th>2</th>\n",
              "      <td>160451</td>\n",
              "      <td>0.000765</td>\n",
              "      <td>NaN</td>\n",
              "      <td>STATE</td>\n",
              "    </tr>\n",
              "    <tr>\n",
              "      <th>3</th>\n",
              "      <td>210467</td>\n",
              "      <td>0.009256</td>\n",
              "      <td>NaN</td>\n",
              "      <td>PRIVATE</td>\n",
              "    </tr>\n",
              "    <tr>\n",
              "      <th>4</th>\n",
              "      <td>211110</td>\n",
              "      <td>0.023359</td>\n",
              "      <td>0.238095</td>\n",
              "      <td>PRIVATE</td>\n",
              "    </tr>\n",
              "    <tr>\n",
              "      <th>5</th>\n",
              "      <td>333131</td>\n",
              "      <td>0.045329</td>\n",
              "      <td>0.400000</td>\n",
              "      <td>NaN</td>\n",
              "    </tr>\n",
              "  </tbody>\n",
              "</table>\n",
              "</div>"
            ],
            "text/plain": [
              "       ID  AMOUNT_RUB_SUP_PRC  CNT_TRAN_ATM_TENDENCY1M APP_COMP_TYPE\n",
              "0  358628            0.030183                 0.216216           NaN\n",
              "1  528730                 NaN                      NaN       PRIVATE\n",
              "2  160451            0.000765                      NaN         STATE\n",
              "3  210467            0.009256                      NaN       PRIVATE\n",
              "4  211110            0.023359                 0.238095       PRIVATE\n",
              "5  333131            0.045329                 0.400000           NaN"
            ]
          },
          "execution_count": 4,
          "metadata": {},
          "output_type": "execute_result"
        }
      ],
      "source": [
        "df2"
      ]
    },
    {
      "cell_type": "code",
      "execution_count": null,
      "metadata": {
        "id": "DoyZjrA_A828"
      },
      "outputs": [],
      "source": [
        "df3 = pd.read_csv('../datasets/dataset_3.csv') #указываем путь к файлу"
      ]
    },
    {
      "cell_type": "code",
      "execution_count": null,
      "metadata": {
        "id": "Juv7u3LxA829",
        "outputId": "42fdf53e-6f66-407b-ce68-ab83bee4cd85"
      },
      "outputs": [
        {
          "data": {
            "text/html": [
              "<div>\n",
              "<style scoped>\n",
              "    .dataframe tbody tr th:only-of-type {\n",
              "        vertical-align: middle;\n",
              "    }\n",
              "\n",
              "    .dataframe tbody tr th {\n",
              "        vertical-align: top;\n",
              "    }\n",
              "\n",
              "    .dataframe thead th {\n",
              "        text-align: right;\n",
              "    }\n",
              "</style>\n",
              "<table border=\"1\" class=\"dataframe\">\n",
              "  <thead>\n",
              "    <tr style=\"text-align: right;\">\n",
              "      <th></th>\n",
              "      <th>ID</th>\n",
              "      <th>AMOUNT_RUB_ATM_PRC</th>\n",
              "      <th>AMOUNT_RUB_CLO_PRC</th>\n",
              "      <th>AMOUNT_RUB_NAS_PRC</th>\n",
              "      <th>AMOUNT_RUB_SUP_PRC</th>\n",
              "      <th>CNT_TRAN_ATM_TENDENCY1M</th>\n",
              "      <th>APP_COMP_TYPE</th>\n",
              "    </tr>\n",
              "  </thead>\n",
              "  <tbody>\n",
              "    <tr>\n",
              "      <th>0</th>\n",
              "      <td>274285</td>\n",
              "      <td>0.998698</td>\n",
              "      <td>0.0</td>\n",
              "      <td>0.000000</td>\n",
              "      <td>0.000000</td>\n",
              "      <td>0.653846</td>\n",
              "      <td>NaN</td>\n",
              "    </tr>\n",
              "    <tr>\n",
              "      <th>1</th>\n",
              "      <td>577671</td>\n",
              "      <td>0.000000</td>\n",
              "      <td>0.0</td>\n",
              "      <td>0.036643</td>\n",
              "      <td>0.150664</td>\n",
              "      <td>NaN</td>\n",
              "      <td>NaN</td>\n",
              "    </tr>\n",
              "  </tbody>\n",
              "</table>\n",
              "</div>"
            ],
            "text/plain": [
              "       ID  AMOUNT_RUB_ATM_PRC  AMOUNT_RUB_CLO_PRC  AMOUNT_RUB_NAS_PRC  \\\n",
              "0  274285            0.998698                 0.0            0.000000   \n",
              "1  577671            0.000000                 0.0            0.036643   \n",
              "\n",
              "   AMOUNT_RUB_SUP_PRC  CNT_TRAN_ATM_TENDENCY1M  APP_COMP_TYPE  \n",
              "0            0.000000                 0.653846            NaN  \n",
              "1            0.150664                      NaN            NaN  "
            ]
          },
          "execution_count": 6,
          "metadata": {},
          "output_type": "execute_result"
        }
      ],
      "source": [
        "df3"
      ]
    },
    {
      "cell_type": "markdown",
      "metadata": {
        "pycharm": {
          "name": "#%% md\n"
        },
        "id": "ufuZJ3G5A829"
      },
      "source": [
        "## 2. Полезные команды"
      ]
    },
    {
      "cell_type": "markdown",
      "metadata": {
        "pycharm": {
          "name": "#%% md\n"
        },
        "id": "TRdee5LqA829"
      },
      "source": [
        "Ниже мы покажем несколько полезных команд, которые вам могут пригодиться для выполнения сегодняшнего задания."
      ]
    },
    {
      "cell_type": "markdown",
      "metadata": {
        "pycharm": {
          "name": "#%% md\n"
        },
        "id": "FzjIekiUA829"
      },
      "source": [
        "1. Узнать **названия полей** в датафрейме."
      ]
    },
    {
      "cell_type": "code",
      "execution_count": null,
      "metadata": {
        "jupyter": {
          "outputs_hidden": false
        },
        "pycharm": {
          "name": "#%%\n"
        },
        "id": "h8nDRnxTA829",
        "outputId": "1c37057f-d231-427d-d05a-4bb5afac989b"
      },
      "outputs": [
        {
          "data": {
            "text/plain": [
              "Index(['ID', 'AMOUNT_RUB_ATM_PRC', 'AMOUNT_RUB_CLO_PRC', 'AMOUNT_RUB_NAS_PRC',\n",
              "       'APP_COMP_TYPE'],\n",
              "      dtype='object')"
            ]
          },
          "execution_count": 7,
          "metadata": {},
          "output_type": "execute_result"
        }
      ],
      "source": [
        "df1.columns"
      ]
    },
    {
      "cell_type": "markdown",
      "metadata": {
        "pycharm": {
          "name": "#%% md\n"
        },
        "id": "7LjZWk2aA829"
      },
      "source": [
        "2. Присоединить датафрейм **справа**:"
      ]
    },
    {
      "cell_type": "code",
      "execution_count": null,
      "metadata": {
        "jupyter": {
          "outputs_hidden": false
        },
        "pycharm": {
          "name": "#%%\n"
        },
        "id": "C5jDw4nHA829"
      },
      "outputs": [],
      "source": [
        "df4 = df1.merge(df2, left_on='ID', right_on='ID') # выбираем ID в качестве ключа, по которому датафреймы будут объединяться"
      ]
    },
    {
      "cell_type": "code",
      "execution_count": null,
      "metadata": {
        "id": "DPkqAnfnA829",
        "outputId": "03ee0db7-1756-4639-b3fe-30e7b37ce6db"
      },
      "outputs": [
        {
          "data": {
            "text/html": [
              "<div>\n",
              "<style scoped>\n",
              "    .dataframe tbody tr th:only-of-type {\n",
              "        vertical-align: middle;\n",
              "    }\n",
              "\n",
              "    .dataframe tbody tr th {\n",
              "        vertical-align: top;\n",
              "    }\n",
              "\n",
              "    .dataframe thead th {\n",
              "        text-align: right;\n",
              "    }\n",
              "</style>\n",
              "<table border=\"1\" class=\"dataframe\">\n",
              "  <thead>\n",
              "    <tr style=\"text-align: right;\">\n",
              "      <th></th>\n",
              "      <th>ID</th>\n",
              "      <th>AMOUNT_RUB_ATM_PRC</th>\n",
              "      <th>AMOUNT_RUB_CLO_PRC</th>\n",
              "      <th>AMOUNT_RUB_NAS_PRC</th>\n",
              "      <th>APP_COMP_TYPE_x</th>\n",
              "      <th>AMOUNT_RUB_SUP_PRC</th>\n",
              "      <th>CNT_TRAN_ATM_TENDENCY1M</th>\n",
              "      <th>APP_COMP_TYPE_y</th>\n",
              "    </tr>\n",
              "  </thead>\n",
              "  <tbody>\n",
              "    <tr>\n",
              "      <th>0</th>\n",
              "      <td>358628</td>\n",
              "      <td>0.914453</td>\n",
              "      <td>0.003802</td>\n",
              "      <td>0.000000</td>\n",
              "      <td>NaN</td>\n",
              "      <td>0.030183</td>\n",
              "      <td>0.216216</td>\n",
              "      <td>NaN</td>\n",
              "    </tr>\n",
              "    <tr>\n",
              "      <th>1</th>\n",
              "      <td>528730</td>\n",
              "      <td>NaN</td>\n",
              "      <td>NaN</td>\n",
              "      <td>NaN</td>\n",
              "      <td>PRIVATE</td>\n",
              "      <td>NaN</td>\n",
              "      <td>NaN</td>\n",
              "      <td>PRIVATE</td>\n",
              "    </tr>\n",
              "    <tr>\n",
              "      <th>2</th>\n",
              "      <td>160451</td>\n",
              "      <td>0.989403</td>\n",
              "      <td>0.000239</td>\n",
              "      <td>0.000992</td>\n",
              "      <td>STATE</td>\n",
              "      <td>0.000765</td>\n",
              "      <td>NaN</td>\n",
              "      <td>STATE</td>\n",
              "    </tr>\n",
              "    <tr>\n",
              "      <th>3</th>\n",
              "      <td>210467</td>\n",
              "      <td>0.561584</td>\n",
              "      <td>0.000000</td>\n",
              "      <td>0.016932</td>\n",
              "      <td>PRIVATE</td>\n",
              "      <td>0.009256</td>\n",
              "      <td>NaN</td>\n",
              "      <td>PRIVATE</td>\n",
              "    </tr>\n",
              "    <tr>\n",
              "      <th>4</th>\n",
              "      <td>211110</td>\n",
              "      <td>0.909531</td>\n",
              "      <td>0.051183</td>\n",
              "      <td>0.000000</td>\n",
              "      <td>PRIVATE</td>\n",
              "      <td>0.023359</td>\n",
              "      <td>0.238095</td>\n",
              "      <td>PRIVATE</td>\n",
              "    </tr>\n",
              "    <tr>\n",
              "      <th>5</th>\n",
              "      <td>333131</td>\n",
              "      <td>0.485581</td>\n",
              "      <td>0.008142</td>\n",
              "      <td>0.000000</td>\n",
              "      <td>NaN</td>\n",
              "      <td>0.045329</td>\n",
              "      <td>0.400000</td>\n",
              "      <td>NaN</td>\n",
              "    </tr>\n",
              "  </tbody>\n",
              "</table>\n",
              "</div>"
            ],
            "text/plain": [
              "       ID  AMOUNT_RUB_ATM_PRC  AMOUNT_RUB_CLO_PRC  AMOUNT_RUB_NAS_PRC  \\\n",
              "0  358628            0.914453            0.003802            0.000000   \n",
              "1  528730                 NaN                 NaN                 NaN   \n",
              "2  160451            0.989403            0.000239            0.000992   \n",
              "3  210467            0.561584            0.000000            0.016932   \n",
              "4  211110            0.909531            0.051183            0.000000   \n",
              "5  333131            0.485581            0.008142            0.000000   \n",
              "\n",
              "  APP_COMP_TYPE_x  AMOUNT_RUB_SUP_PRC  CNT_TRAN_ATM_TENDENCY1M APP_COMP_TYPE_y  \n",
              "0             NaN            0.030183                 0.216216             NaN  \n",
              "1         PRIVATE                 NaN                      NaN         PRIVATE  \n",
              "2           STATE            0.000765                      NaN           STATE  \n",
              "3         PRIVATE            0.009256                      NaN         PRIVATE  \n",
              "4         PRIVATE            0.023359                 0.238095         PRIVATE  \n",
              "5             NaN            0.045329                 0.400000             NaN  "
            ]
          },
          "execution_count": 9,
          "metadata": {},
          "output_type": "execute_result"
        }
      ],
      "source": [
        "df4"
      ]
    },
    {
      "cell_type": "markdown",
      "metadata": {
        "pycharm": {
          "name": "#%% md\n"
        },
        "id": "cB_IhB3-A829"
      },
      "source": [
        "2. Присоединить датафрейм **снизу**:"
      ]
    },
    {
      "cell_type": "code",
      "execution_count": null,
      "metadata": {
        "jupyter": {
          "outputs_hidden": false
        },
        "pycharm": {
          "name": "#%%\n"
        },
        "id": "QthOGoGmA82-",
        "outputId": "e1ca6f8c-a1b8-4403-bf7c-36108ae3f1e8"
      },
      "outputs": [
        {
          "data": {
            "text/html": [
              "<div>\n",
              "<style scoped>\n",
              "    .dataframe tbody tr th:only-of-type {\n",
              "        vertical-align: middle;\n",
              "    }\n",
              "\n",
              "    .dataframe tbody tr th {\n",
              "        vertical-align: top;\n",
              "    }\n",
              "\n",
              "    .dataframe thead th {\n",
              "        text-align: right;\n",
              "    }\n",
              "</style>\n",
              "<table border=\"1\" class=\"dataframe\">\n",
              "  <thead>\n",
              "    <tr style=\"text-align: right;\">\n",
              "      <th></th>\n",
              "      <th>ID</th>\n",
              "      <th>AMOUNT_RUB_SUP_PRC</th>\n",
              "      <th>CNT_TRAN_ATM_TENDENCY1M</th>\n",
              "      <th>APP_COMP_TYPE</th>\n",
              "      <th>AMOUNT_RUB_ATM_PRC</th>\n",
              "      <th>AMOUNT_RUB_CLO_PRC</th>\n",
              "      <th>AMOUNT_RUB_NAS_PRC</th>\n",
              "      <th>APP_COMP_TYPE_x</th>\n",
              "      <th>APP_COMP_TYPE_y</th>\n",
              "    </tr>\n",
              "  </thead>\n",
              "  <tbody>\n",
              "    <tr>\n",
              "      <th>0</th>\n",
              "      <td>358628</td>\n",
              "      <td>0.030183</td>\n",
              "      <td>0.216216</td>\n",
              "      <td>NaN</td>\n",
              "      <td>NaN</td>\n",
              "      <td>NaN</td>\n",
              "      <td>NaN</td>\n",
              "      <td>NaN</td>\n",
              "      <td>NaN</td>\n",
              "    </tr>\n",
              "    <tr>\n",
              "      <th>1</th>\n",
              "      <td>528730</td>\n",
              "      <td>NaN</td>\n",
              "      <td>NaN</td>\n",
              "      <td>PRIVATE</td>\n",
              "      <td>NaN</td>\n",
              "      <td>NaN</td>\n",
              "      <td>NaN</td>\n",
              "      <td>NaN</td>\n",
              "      <td>NaN</td>\n",
              "    </tr>\n",
              "    <tr>\n",
              "      <th>2</th>\n",
              "      <td>160451</td>\n",
              "      <td>0.000765</td>\n",
              "      <td>NaN</td>\n",
              "      <td>STATE</td>\n",
              "      <td>NaN</td>\n",
              "      <td>NaN</td>\n",
              "      <td>NaN</td>\n",
              "      <td>NaN</td>\n",
              "      <td>NaN</td>\n",
              "    </tr>\n",
              "    <tr>\n",
              "      <th>3</th>\n",
              "      <td>210467</td>\n",
              "      <td>0.009256</td>\n",
              "      <td>NaN</td>\n",
              "      <td>PRIVATE</td>\n",
              "      <td>NaN</td>\n",
              "      <td>NaN</td>\n",
              "      <td>NaN</td>\n",
              "      <td>NaN</td>\n",
              "      <td>NaN</td>\n",
              "    </tr>\n",
              "    <tr>\n",
              "      <th>4</th>\n",
              "      <td>211110</td>\n",
              "      <td>0.023359</td>\n",
              "      <td>0.238095</td>\n",
              "      <td>PRIVATE</td>\n",
              "      <td>NaN</td>\n",
              "      <td>NaN</td>\n",
              "      <td>NaN</td>\n",
              "      <td>NaN</td>\n",
              "      <td>NaN</td>\n",
              "    </tr>\n",
              "    <tr>\n",
              "      <th>5</th>\n",
              "      <td>333131</td>\n",
              "      <td>0.045329</td>\n",
              "      <td>0.400000</td>\n",
              "      <td>NaN</td>\n",
              "      <td>NaN</td>\n",
              "      <td>NaN</td>\n",
              "      <td>NaN</td>\n",
              "      <td>NaN</td>\n",
              "      <td>NaN</td>\n",
              "    </tr>\n",
              "    <tr>\n",
              "      <th>6</th>\n",
              "      <td>358628</td>\n",
              "      <td>0.030183</td>\n",
              "      <td>0.216216</td>\n",
              "      <td>NaN</td>\n",
              "      <td>0.914453</td>\n",
              "      <td>0.003802</td>\n",
              "      <td>0.000000</td>\n",
              "      <td>NaN</td>\n",
              "      <td>NaN</td>\n",
              "    </tr>\n",
              "    <tr>\n",
              "      <th>7</th>\n",
              "      <td>528730</td>\n",
              "      <td>NaN</td>\n",
              "      <td>NaN</td>\n",
              "      <td>NaN</td>\n",
              "      <td>NaN</td>\n",
              "      <td>NaN</td>\n",
              "      <td>NaN</td>\n",
              "      <td>PRIVATE</td>\n",
              "      <td>PRIVATE</td>\n",
              "    </tr>\n",
              "    <tr>\n",
              "      <th>8</th>\n",
              "      <td>160451</td>\n",
              "      <td>0.000765</td>\n",
              "      <td>NaN</td>\n",
              "      <td>NaN</td>\n",
              "      <td>0.989403</td>\n",
              "      <td>0.000239</td>\n",
              "      <td>0.000992</td>\n",
              "      <td>STATE</td>\n",
              "      <td>STATE</td>\n",
              "    </tr>\n",
              "    <tr>\n",
              "      <th>9</th>\n",
              "      <td>210467</td>\n",
              "      <td>0.009256</td>\n",
              "      <td>NaN</td>\n",
              "      <td>NaN</td>\n",
              "      <td>0.561584</td>\n",
              "      <td>0.000000</td>\n",
              "      <td>0.016932</td>\n",
              "      <td>PRIVATE</td>\n",
              "      <td>PRIVATE</td>\n",
              "    </tr>\n",
              "    <tr>\n",
              "      <th>10</th>\n",
              "      <td>211110</td>\n",
              "      <td>0.023359</td>\n",
              "      <td>0.238095</td>\n",
              "      <td>NaN</td>\n",
              "      <td>0.909531</td>\n",
              "      <td>0.051183</td>\n",
              "      <td>0.000000</td>\n",
              "      <td>PRIVATE</td>\n",
              "      <td>PRIVATE</td>\n",
              "    </tr>\n",
              "    <tr>\n",
              "      <th>11</th>\n",
              "      <td>333131</td>\n",
              "      <td>0.045329</td>\n",
              "      <td>0.400000</td>\n",
              "      <td>NaN</td>\n",
              "      <td>0.485581</td>\n",
              "      <td>0.008142</td>\n",
              "      <td>0.000000</td>\n",
              "      <td>NaN</td>\n",
              "      <td>NaN</td>\n",
              "    </tr>\n",
              "  </tbody>\n",
              "</table>\n",
              "</div>"
            ],
            "text/plain": [
              "        ID  AMOUNT_RUB_SUP_PRC  CNT_TRAN_ATM_TENDENCY1M APP_COMP_TYPE  \\\n",
              "0   358628            0.030183                 0.216216           NaN   \n",
              "1   528730                 NaN                      NaN       PRIVATE   \n",
              "2   160451            0.000765                      NaN         STATE   \n",
              "3   210467            0.009256                      NaN       PRIVATE   \n",
              "4   211110            0.023359                 0.238095       PRIVATE   \n",
              "5   333131            0.045329                 0.400000           NaN   \n",
              "6   358628            0.030183                 0.216216           NaN   \n",
              "7   528730                 NaN                      NaN           NaN   \n",
              "8   160451            0.000765                      NaN           NaN   \n",
              "9   210467            0.009256                      NaN           NaN   \n",
              "10  211110            0.023359                 0.238095           NaN   \n",
              "11  333131            0.045329                 0.400000           NaN   \n",
              "\n",
              "    AMOUNT_RUB_ATM_PRC  AMOUNT_RUB_CLO_PRC  AMOUNT_RUB_NAS_PRC  \\\n",
              "0                  NaN                 NaN                 NaN   \n",
              "1                  NaN                 NaN                 NaN   \n",
              "2                  NaN                 NaN                 NaN   \n",
              "3                  NaN                 NaN                 NaN   \n",
              "4                  NaN                 NaN                 NaN   \n",
              "5                  NaN                 NaN                 NaN   \n",
              "6             0.914453            0.003802            0.000000   \n",
              "7                  NaN                 NaN                 NaN   \n",
              "8             0.989403            0.000239            0.000992   \n",
              "9             0.561584            0.000000            0.016932   \n",
              "10            0.909531            0.051183            0.000000   \n",
              "11            0.485581            0.008142            0.000000   \n",
              "\n",
              "   APP_COMP_TYPE_x APP_COMP_TYPE_y  \n",
              "0              NaN             NaN  \n",
              "1              NaN             NaN  \n",
              "2              NaN             NaN  \n",
              "3              NaN             NaN  \n",
              "4              NaN             NaN  \n",
              "5              NaN             NaN  \n",
              "6              NaN             NaN  \n",
              "7          PRIVATE         PRIVATE  \n",
              "8            STATE           STATE  \n",
              "9          PRIVATE         PRIVATE  \n",
              "10         PRIVATE         PRIVATE  \n",
              "11             NaN             NaN  "
            ]
          },
          "execution_count": 10,
          "metadata": {},
          "output_type": "execute_result"
        }
      ],
      "source": [
        "df5 = pd.concat([df2, df4], ignore_index=True)\n",
        "df5"
      ]
    },
    {
      "cell_type": "markdown",
      "metadata": {
        "pycharm": {
          "name": "#%% md\n"
        },
        "id": "_DF6zmoYA82-"
      },
      "source": [
        "Теперь перейдем к этапу очистки данных. Напомним: вам нужно значения текстовых полей привести к единообразию. То есть слова, написанные немного по-разному, привести к одному варианту их написания."
      ]
    },
    {
      "cell_type": "markdown",
      "metadata": {
        "pycharm": {
          "name": "#%% md\n"
        },
        "id": "vxO54wi4A82-"
      },
      "source": [
        "Ниже вы найдете перечень команд, которые помогут справиться с этим заданием по очистке полученного на предыдущем шаге датасета."
      ]
    },
    {
      "cell_type": "markdown",
      "metadata": {
        "pycharm": {
          "name": "#%% md\n"
        },
        "id": "N82viZDCA82-"
      },
      "source": [
        "4. Команда, которая поможет вам выявить, какие же поля являются текстовыми."
      ]
    },
    {
      "cell_type": "code",
      "execution_count": null,
      "metadata": {
        "jupyter": {
          "outputs_hidden": false
        },
        "pycharm": {
          "name": "#%%\n"
        },
        "id": "mr4IbcK_A82-",
        "outputId": "22738188-a929-4410-f3c4-c26060d32aae"
      },
      "outputs": [
        {
          "name": "stdout",
          "output_type": "stream",
          "text": [
            "<class 'pandas.core.frame.DataFrame'>\n",
            "RangeIndex: 12 entries, 0 to 11\n",
            "Data columns (total 9 columns):\n",
            " #   Column                   Non-Null Count  Dtype  \n",
            "---  ------                   --------------  -----  \n",
            " 0   ID                       12 non-null     int64  \n",
            " 1   AMOUNT_RUB_SUP_PRC       10 non-null     float64\n",
            " 2   CNT_TRAN_ATM_TENDENCY1M  6 non-null      float64\n",
            " 3   APP_COMP_TYPE            4 non-null      object \n",
            " 4   AMOUNT_RUB_ATM_PRC       5 non-null      float64\n",
            " 5   AMOUNT_RUB_CLO_PRC       5 non-null      float64\n",
            " 6   AMOUNT_RUB_NAS_PRC       5 non-null      float64\n",
            " 7   APP_COMP_TYPE_x          4 non-null      object \n",
            " 8   APP_COMP_TYPE_y          4 non-null      object \n",
            "dtypes: float64(5), int64(1), object(3)\n",
            "memory usage: 992.0+ bytes\n"
          ]
        }
      ],
      "source": [
        "df5.info(verbose=True)"
      ]
    },
    {
      "cell_type": "markdown",
      "metadata": {
        "pycharm": {
          "name": "#%% md\n"
        },
        "id": "bQ6lDSpmA82-"
      },
      "source": [
        "5. Команда, позволяющая посмотреть **список уникальных значений** в столбце:"
      ]
    },
    {
      "cell_type": "code",
      "execution_count": null,
      "metadata": {
        "jupyter": {
          "outputs_hidden": false
        },
        "pycharm": {
          "name": "#%%\n"
        },
        "id": "nVop7aN9A82-",
        "outputId": "9d08d522-ee48-44bd-9411-cd88ea098f40"
      },
      "outputs": [
        {
          "data": {
            "text/plain": [
              "array([nan, 'PRIVATE', 'STATE'], dtype=object)"
            ]
          },
          "execution_count": 12,
          "metadata": {},
          "output_type": "execute_result"
        }
      ],
      "source": [
        "df5.APP_COMP_TYPE.unique()"
      ]
    },
    {
      "cell_type": "markdown",
      "metadata": {
        "pycharm": {
          "name": "#%% md\n"
        },
        "id": "vGAfNKNtA82-"
      },
      "source": [
        " Она же, только представленная **в виде списка**. Бывает полезной, когда уникальных значений слишком много и в предыдущем варианте показываются не все из них. Плюс результат не содержит всякой лишней информации."
      ]
    },
    {
      "cell_type": "code",
      "execution_count": null,
      "metadata": {
        "jupyter": {
          "outputs_hidden": false
        },
        "pycharm": {
          "name": "#%%\n"
        },
        "id": "Cp20SAWCA82-",
        "outputId": "f8442e4d-2fe1-434a-e379-f413bfddeefc"
      },
      "outputs": [
        {
          "data": {
            "text/plain": [
              "[nan, 'PRIVATE', 'STATE']"
            ]
          },
          "execution_count": 13,
          "metadata": {},
          "output_type": "execute_result"
        }
      ],
      "source": [
        "list(df5.APP_COMP_TYPE.unique())"
      ]
    },
    {
      "cell_type": "markdown",
      "metadata": {
        "pycharm": {
          "name": "#%% md\n"
        },
        "id": "iBVZB9QvA82_"
      },
      "source": [
        "6. Команда, которая позволяет привести все значения признака в **в нижний регистр**:"
      ]
    },
    {
      "cell_type": "code",
      "execution_count": null,
      "metadata": {
        "jupyter": {
          "outputs_hidden": false
        },
        "pycharm": {
          "name": "#%%\n"
        },
        "id": "RQYoZE6LA82_"
      },
      "outputs": [],
      "source": [
        "df5.APP_COMP_TYPE = df5.APP_COMP_TYPE.str.lower() #недостаточно просто применить метод lower к столбцу, нужно как бы его перезаписать"
      ]
    },
    {
      "cell_type": "code",
      "execution_count": null,
      "metadata": {
        "jupyter": {
          "outputs_hidden": false
        },
        "pycharm": {
          "name": "#%%\n"
        },
        "id": "oQQUxuMjA82_",
        "outputId": "36875b17-47de-4926-cc12-8991a021b540"
      },
      "outputs": [
        {
          "data": {
            "text/plain": [
              "[nan, 'private', 'state']"
            ]
          },
          "execution_count": 15,
          "metadata": {},
          "output_type": "execute_result"
        }
      ],
      "source": [
        "list(df5.APP_COMP_TYPE.unique())"
      ]
    },
    {
      "cell_type": "markdown",
      "metadata": {
        "pycharm": {
          "name": "#%% md\n"
        },
        "id": "J0AsJU_uA82_"
      },
      "source": [
        "7. Команда, которая позволяет заменить значения в столбце на другие значения:"
      ]
    },
    {
      "cell_type": "code",
      "execution_count": null,
      "metadata": {
        "jupyter": {
          "outputs_hidden": false
        },
        "pycharm": {
          "name": "#%%\n"
        },
        "id": "e05X2bDQA82_"
      },
      "outputs": [],
      "source": [
        "df5.APP_COMP_TYPE.replace('state','гос',inplace=True)"
      ]
    },
    {
      "cell_type": "code",
      "execution_count": null,
      "metadata": {
        "jupyter": {
          "outputs_hidden": false
        },
        "pycharm": {
          "name": "#%%\n"
        },
        "id": "XPTsJQuWA82_",
        "outputId": "7728bd7e-cb5c-4e5f-daf7-df85d26f6d22"
      },
      "outputs": [
        {
          "data": {
            "text/plain": [
              "[nan, 'private', 'гос']"
            ]
          },
          "execution_count": 17,
          "metadata": {},
          "output_type": "execute_result"
        }
      ],
      "source": [
        "list(df5.APP_COMP_TYPE.unique())"
      ]
    },
    {
      "cell_type": "markdown",
      "metadata": {
        "pycharm": {
          "name": "#%% md\n"
        },
        "id": "WKli0hT6A83A"
      },
      "source": [
        "8. Команда, которая позволяет **отсортировать** значения в списке (может пригодиться, чтобы посмотреть на длинный список):"
      ]
    },
    {
      "cell_type": "code",
      "execution_count": null,
      "metadata": {
        "jupyter": {
          "outputs_hidden": false
        },
        "pycharm": {
          "name": "#%%\n"
        },
        "id": "uoLUB8TEA83A",
        "outputId": "4e24d4be-fb60-4659-f6da-a8aa1c8568da"
      },
      "outputs": [
        {
          "ename": "TypeError",
          "evalue": "'<' not supported between instances of 'str' and 'float'",
          "output_type": "error",
          "traceback": [
            "\u001b[0;31m---------------------------------------------------------------------------\u001b[0m",
            "\u001b[0;31mTypeError\u001b[0m                                 Traceback (most recent call last)",
            "\u001b[0;32m/var/folders/05/_5jlrw8d0qn32lkr9k4_3jjw0000gn/T/ipykernel_32979/1690491859.py\u001b[0m in \u001b[0;36m<module>\u001b[0;34m\u001b[0m\n\u001b[0;32m----> 1\u001b[0;31m \u001b[0mlist\u001b[0m\u001b[0;34m(\u001b[0m\u001b[0mdf5\u001b[0m\u001b[0;34m.\u001b[0m\u001b[0mAPP_COMP_TYPE\u001b[0m\u001b[0;34m.\u001b[0m\u001b[0munique\u001b[0m\u001b[0;34m(\u001b[0m\u001b[0;34m)\u001b[0m\u001b[0;34m)\u001b[0m\u001b[0;34m.\u001b[0m\u001b[0msort\u001b[0m\u001b[0;34m(\u001b[0m\u001b[0;34m)\u001b[0m\u001b[0;34m\u001b[0m\u001b[0;34m\u001b[0m\u001b[0m\n\u001b[0m",
            "\u001b[0;31mTypeError\u001b[0m: '<' not supported between instances of 'str' and 'float'"
          ]
        }
      ],
      "source": [
        "list(df5.APP_COMP_TYPE.unique()).sort()"
      ]
    },
    {
      "cell_type": "markdown",
      "metadata": {
        "pycharm": {
          "name": "#%% md\n"
        },
        "id": "r7kk8MJoA83A"
      },
      "source": [
        "После нее выведется ошибка, потому что в списке есть nan – специальный тип данных, обозначающий пустое значение. По этой причине не может отсортировать список: все значения текстовые, а одно значение nan. Нужно этот nan удалить из списка уникальных значений, чтобы не мешался. Не будем вдаваться в подробности почему ниже команда выглядит именно так. Она приводит нас к результату."
      ]
    },
    {
      "cell_type": "code",
      "execution_count": null,
      "metadata": {
        "pycharm": {
          "name": "#%% md\n"
        },
        "id": "yPfInxNyA83A",
        "outputId": "565f9d9c-e701-4924-fd41-4fa626bc4f5c"
      },
      "outputs": [
        {
          "data": {
            "text/plain": [
              "['private', 'гос']"
            ]
          },
          "execution_count": 19,
          "metadata": {},
          "output_type": "execute_result"
        }
      ],
      "source": [
        "spisok = [x for x in list(df5.APP_COMP_TYPE.unique()) if x == x]\n",
        "spisok.sort()\n",
        "spisok"
      ]
    },
    {
      "cell_type": "markdown",
      "metadata": {
        "pycharm": {
          "name": "#%% md\n"
        },
        "id": "0VdKAAHNA83A"
      },
      "source": [
        "9. Команда, которая помогает **удалить из текстового поля числовые значения**, короткие значения, значения, где есть знаки препинания."
      ]
    },
    {
      "cell_type": "code",
      "execution_count": null,
      "metadata": {
        "jupyter": {
          "outputs_hidden": false
        },
        "pycharm": {
          "name": "#%%\n"
        },
        "id": "tywmLFLzA83A"
      },
      "outputs": [],
      "source": [
        "df5.APP_COMP_TYPE.where(df5.APP_COMP_TYPE.str.replace(' ','').str.isalpha(), np.nan, inplace=True)"
      ]
    },
    {
      "cell_type": "markdown",
      "metadata": {
        "id": "1o090lgxu3uK",
        "pycharm": {
          "name": "#%% md\n"
        }
      },
      "source": [
        "Если вам не хватает команд, представленных в этом ноутбуке, то вы можете **самостоятельно воспользоваться поиском в Google**.\n",
        "\n",
        "    \"pandas how to save a csv-file with header\"\n",
        "    \n",
        "    \"pandas how to save a csv-file with header\"\n",
        "     \n",
        "    \"pandas how to compare values of two columns\""
      ]
    },
    {
      "cell_type": "markdown",
      "metadata": {
        "id": "t14ECHnDu3uL",
        "pycharm": {
          "name": "#%% md\n"
        }
      },
      "source": [
        "## 3. Самостоятельная часть"
      ]
    },
    {
      "cell_type": "markdown",
      "metadata": {
        "id": "5Pnmm1v-u3uL",
        "pycharm": {
          "name": "#%% md\n"
        }
      },
      "source": [
        "Ниже вам нужно самим собрать целиком датасет из разрозненных кусков и почистить датасет в части текстовых полей."
      ]
    },
    {
      "cell_type": "markdown",
      "metadata": {
        "id": "3pWgxmSMA83B"
      },
      "source": [
        "### 3.1 Объединение датасета\n",
        "Вам нужно собрать полный датасет, собранный из частей датасета всех участников.\n",
        "1. Датасет должен содержать в шапке названия полей.\n",
        "2. Датасет не должен содержать лишних столбцов – только те, что были представлены в частях датасета.\n",
        "3. Датасет должен быть отсортирован по возрастанию значений поля `ID`.\n",
        "4. В датасете не должно быть дублирующихся строк и столбцов."
      ]
    },
    {
      "cell_type": "markdown",
      "metadata": {
        "id": "zM1maJ5NA83B"
      },
      "source": [
        "5. Выведете первые 10 строк объединенного датасета"
      ]
    },
    {
      "cell_type": "markdown",
      "metadata": {
        "id": "fCpCZqCMu3uM",
        "pycharm": {
          "name": "#%%\n"
        }
      },
      "source": [
        "6. Выведите количество столбцов и колонок в объединенном датасете"
      ]
    },
    {
      "cell_type": "code",
      "source": [
        "from google.colab import drive\n",
        "drive.mount('/content/drive')"
      ],
      "metadata": {
        "id": "_9k89l4l6W-g",
        "outputId": "ab5e6251-a00d-4afb-b0b1-e8f1969fb128",
        "colab": {
          "base_uri": "https://localhost:8080/"
        }
      },
      "execution_count": 1,
      "outputs": [
        {
          "output_type": "stream",
          "name": "stdout",
          "text": [
            "Mounted at /content/drive\n"
          ]
        }
      ]
    },
    {
      "cell_type": "code",
      "execution_count": 77,
      "metadata": {
        "id": "XtKNngqOA83B",
        "outputId": "b104caa7-f6ad-405e-fcab-95eba57def6a",
        "colab": {
          "base_uri": "https://localhost:8080/"
        }
      },
      "outputs": [
        {
          "output_type": "stream",
          "name": "stdout",
          "text": [
            "(338596, 116)\n"
          ]
        }
      ],
      "source": [
        "import pandas as pd\n",
        "import numpy as np\n",
        "\n",
        "ptd1 = pd.read_csv('/content/datasets/part_01.csv')\n",
        "td1 = pd.read_csv('/content/datasets/part_01.csv')\n",
        "td2 = pd.read_csv('/content/datasets/part_09.csv')\n",
        "ptd2 = pd.read_csv('/content/datasets/part_02.csv')\n",
        "ptd3 = pd.read_csv('/content/datasets/part_03.csv')\n",
        "ptd4 = pd.read_csv('/content/datasets/part_04.csv')\n",
        "ptd5 = pd.read_csv('/content/datasets/part_05.csv')\n",
        "ptd6 = pd.read_csv('/content/datasets/part_06.csv')\n",
        "ptd7 = pd.read_csv('/content/datasets/part_07.csv')\n",
        "ptd8 = pd.read_csv('/content/datasets/part_08.csv')\n",
        "ptd9 = pd.read_csv('/content/datasets/part_09.csv')\n",
        "ptd10 = pd.read_csv('/content/datasets/part_10.csv')\n",
        "ptd11 = pd.read_csv('/content/datasets/part_11.csv')\n",
        "ptd12 = pd.read_csv('/content/datasets/part_12.csv')\n",
        "\n",
        "parts_merge = [ptd3, ptd4, ptd5, ptd6]\n",
        "parts_contains = [[ptd1, ptd9], [ptd2, ptd11], [ptd4, ptd7], [ptd5, ptd12] ,[ptd6, ptd10], [ptd3, ptd8], [td1, td2]]\n",
        "\n",
        "for i in parts_contains:\n",
        "  i[0] = pd.concat(i, ignore_index=True, axis=1)\n",
        "  # print(i[0].shape)\n",
        "df = ptd1.merge(ptd2, left_on='ID', right_on='ID')\n",
        "for i in parts_merge:\n",
        "  df = df.merge(i, left_on='ID', right_on='ID', how='outer')\n",
        "df = df.sort_values('ID')\n",
        "\n",
        "print(df.shape)\n",
        "# print(df.head(10))\n",
        "\n"
      ]
    },
    {
      "cell_type": "code",
      "source": [
        "df.head(10)"
      ],
      "metadata": {
        "id": "79RxeBtzQWsP",
        "outputId": "4a8ba7ed-5fcd-4a7e-ba45-ebbb7246ee04",
        "colab": {
          "base_uri": "https://localhost:8080/",
          "height": 412
        }
      },
      "execution_count": 78,
      "outputs": [
        {
          "output_type": "execute_result",
          "data": {
            "text/plain": [
              "            ID  AMOUNT_RUB_ATM_PRC  AMOUNT_RUB_CLO_PRC  AMOUNT_RUB_NAS_PRC  \\\n",
              "155876  146841                 NaN                 NaN                 NaN   \n",
              "140740  146842                 NaN                 NaN                 NaN   \n",
              "264310  146843                 NaN                 NaN                 NaN   \n",
              "258981  146844                 NaN                 NaN                 NaN   \n",
              "202533  146845                 NaN                 NaN                 NaN   \n",
              "129110  146846                 NaN                 NaN                 NaN   \n",
              "96821   146847                 NaN                 NaN                 NaN   \n",
              "16502   146848            0.222794            0.748631                 0.0   \n",
              "92999   146850                 NaN                 NaN                 NaN   \n",
              "173705  146851                 NaN                 NaN                 NaN   \n",
              "\n",
              "        AMOUNT_RUB_SUP_PRC  CNT_TRAN_ATM_TENDENCY1M  CNT_TRAN_ATM_TENDENCY3M  \\\n",
              "155876                 NaN                      NaN                      NaN   \n",
              "140740                 NaN                      NaN                      NaN   \n",
              "264310                 NaN                      NaN                      NaN   \n",
              "258981                 NaN                      NaN                      NaN   \n",
              "202533                 NaN                      NaN                      NaN   \n",
              "129110                 NaN                      NaN                      NaN   \n",
              "96821                  NaN                      NaN                      NaN   \n",
              "16502                  0.0                      NaN                      NaN   \n",
              "92999                  NaN                      NaN                      NaN   \n",
              "173705                 NaN                      NaN                      NaN   \n",
              "\n",
              "        CNT_TRAN_AUT_TENDENCY1M  CNT_TRAN_AUT_TENDENCY3M  \\\n",
              "155876                      NaN                      NaN   \n",
              "140740                      NaN                      NaN   \n",
              "264310                      NaN                      NaN   \n",
              "258981                      NaN                      NaN   \n",
              "202533                      NaN                      NaN   \n",
              "129110                      NaN                      NaN   \n",
              "96821                       NaN                      NaN   \n",
              "16502                       NaN                      NaN   \n",
              "92999                       NaN                      NaN   \n",
              "173705                      NaN                      NaN   \n",
              "\n",
              "        CNT_TRAN_CLO_TENDENCY1M  ...  TURNOVER_CC  TURNOVER_DYNAMIC_CC_1M  \\\n",
              "155876                      NaN  ...          0.0                     0.0   \n",
              "140740                      NaN  ...          NaN                     NaN   \n",
              "264310                      NaN  ...          0.0                     0.0   \n",
              "258981                      NaN  ...          0.0                     0.0   \n",
              "202533                      NaN  ...          0.0                     0.0   \n",
              "129110                      NaN  ...          0.0                     0.0   \n",
              "96821                       NaN  ...          0.0                     0.0   \n",
              "16502                       1.0  ...          NaN                     NaN   \n",
              "92999                       NaN  ...          0.0                     0.0   \n",
              "173705                      NaN  ...          0.0                     0.0   \n",
              "\n",
              "        TURNOVER_DYNAMIC_CC_3M  TURNOVER_DYNAMIC_CUR_1M  \\\n",
              "155876                     0.0                 0.131910   \n",
              "140740                     NaN                      NaN   \n",
              "264310                     0.0                 0.121041   \n",
              "258981                     0.0                 0.000005   \n",
              "202533                     0.0                 0.177869   \n",
              "129110                     0.0                 0.000000   \n",
              "96821                      0.0                 0.000000   \n",
              "16502                      NaN                      NaN   \n",
              "92999                      0.0                 0.911780   \n",
              "173705                     0.0                 0.260106   \n",
              "\n",
              "        TURNOVER_DYNAMIC_CUR_3M  TURNOVER_DYNAMIC_IL_1M  \\\n",
              "155876                 0.442285                     0.0   \n",
              "140740                      NaN                     NaN   \n",
              "264310                 0.522833                     0.0   \n",
              "258981                 0.000189                     0.0   \n",
              "202533                 0.593648                     0.0   \n",
              "129110                 0.000000                     0.0   \n",
              "96821                  0.000000                     0.0   \n",
              "16502                       NaN                     NaN   \n",
              "92999                  0.937303                     0.0   \n",
              "173705                 0.657603                     0.0   \n",
              "\n",
              "        TURNOVER_DYNAMIC_IL_3M  TURNOVER_DYNAMIC_PAYM_1M  \\\n",
              "155876                     0.0                  0.000000   \n",
              "140740                     NaN                       NaN   \n",
              "264310                     0.0                  0.000000   \n",
              "258981                     0.0                  0.000000   \n",
              "202533                     0.0                  0.000000   \n",
              "129110                     0.0                  0.033022   \n",
              "96821                      0.0                  1.000000   \n",
              "16502                      NaN                       NaN   \n",
              "92999                      0.0                  0.000000   \n",
              "173705                     0.0                  0.000000   \n",
              "\n",
              "        TURNOVER_DYNAMIC_PAYM_3M  TURNOVER_PAYM  \n",
              "155876                  0.000000       0.000000  \n",
              "140740                       NaN            NaN  \n",
              "264310                  0.000000       0.000000  \n",
              "258981                  0.000000       0.000000  \n",
              "202533                  0.000000       0.000000  \n",
              "129110                  0.700485  248361.558333  \n",
              "96821                   1.000000    4466.345000  \n",
              "16502                        NaN            NaN  \n",
              "92999                   0.000000       0.000000  \n",
              "173705                  0.000000       0.000000  \n",
              "\n",
              "[10 rows x 116 columns]"
            ],
            "text/html": [
              "\n",
              "  <div id=\"df-21f33e7a-392b-4f60-9df9-fd3603639721\" class=\"colab-df-container\">\n",
              "    <div>\n",
              "<style scoped>\n",
              "    .dataframe tbody tr th:only-of-type {\n",
              "        vertical-align: middle;\n",
              "    }\n",
              "\n",
              "    .dataframe tbody tr th {\n",
              "        vertical-align: top;\n",
              "    }\n",
              "\n",
              "    .dataframe thead th {\n",
              "        text-align: right;\n",
              "    }\n",
              "</style>\n",
              "<table border=\"1\" class=\"dataframe\">\n",
              "  <thead>\n",
              "    <tr style=\"text-align: right;\">\n",
              "      <th></th>\n",
              "      <th>ID</th>\n",
              "      <th>AMOUNT_RUB_ATM_PRC</th>\n",
              "      <th>AMOUNT_RUB_CLO_PRC</th>\n",
              "      <th>AMOUNT_RUB_NAS_PRC</th>\n",
              "      <th>AMOUNT_RUB_SUP_PRC</th>\n",
              "      <th>CNT_TRAN_ATM_TENDENCY1M</th>\n",
              "      <th>CNT_TRAN_ATM_TENDENCY3M</th>\n",
              "      <th>CNT_TRAN_AUT_TENDENCY1M</th>\n",
              "      <th>CNT_TRAN_AUT_TENDENCY3M</th>\n",
              "      <th>CNT_TRAN_CLO_TENDENCY1M</th>\n",
              "      <th>...</th>\n",
              "      <th>TURNOVER_CC</th>\n",
              "      <th>TURNOVER_DYNAMIC_CC_1M</th>\n",
              "      <th>TURNOVER_DYNAMIC_CC_3M</th>\n",
              "      <th>TURNOVER_DYNAMIC_CUR_1M</th>\n",
              "      <th>TURNOVER_DYNAMIC_CUR_3M</th>\n",
              "      <th>TURNOVER_DYNAMIC_IL_1M</th>\n",
              "      <th>TURNOVER_DYNAMIC_IL_3M</th>\n",
              "      <th>TURNOVER_DYNAMIC_PAYM_1M</th>\n",
              "      <th>TURNOVER_DYNAMIC_PAYM_3M</th>\n",
              "      <th>TURNOVER_PAYM</th>\n",
              "    </tr>\n",
              "  </thead>\n",
              "  <tbody>\n",
              "    <tr>\n",
              "      <th>155876</th>\n",
              "      <td>146841</td>\n",
              "      <td>NaN</td>\n",
              "      <td>NaN</td>\n",
              "      <td>NaN</td>\n",
              "      <td>NaN</td>\n",
              "      <td>NaN</td>\n",
              "      <td>NaN</td>\n",
              "      <td>NaN</td>\n",
              "      <td>NaN</td>\n",
              "      <td>NaN</td>\n",
              "      <td>...</td>\n",
              "      <td>0.0</td>\n",
              "      <td>0.0</td>\n",
              "      <td>0.0</td>\n",
              "      <td>0.131910</td>\n",
              "      <td>0.442285</td>\n",
              "      <td>0.0</td>\n",
              "      <td>0.0</td>\n",
              "      <td>0.000000</td>\n",
              "      <td>0.000000</td>\n",
              "      <td>0.000000</td>\n",
              "    </tr>\n",
              "    <tr>\n",
              "      <th>140740</th>\n",
              "      <td>146842</td>\n",
              "      <td>NaN</td>\n",
              "      <td>NaN</td>\n",
              "      <td>NaN</td>\n",
              "      <td>NaN</td>\n",
              "      <td>NaN</td>\n",
              "      <td>NaN</td>\n",
              "      <td>NaN</td>\n",
              "      <td>NaN</td>\n",
              "      <td>NaN</td>\n",
              "      <td>...</td>\n",
              "      <td>NaN</td>\n",
              "      <td>NaN</td>\n",
              "      <td>NaN</td>\n",
              "      <td>NaN</td>\n",
              "      <td>NaN</td>\n",
              "      <td>NaN</td>\n",
              "      <td>NaN</td>\n",
              "      <td>NaN</td>\n",
              "      <td>NaN</td>\n",
              "      <td>NaN</td>\n",
              "    </tr>\n",
              "    <tr>\n",
              "      <th>264310</th>\n",
              "      <td>146843</td>\n",
              "      <td>NaN</td>\n",
              "      <td>NaN</td>\n",
              "      <td>NaN</td>\n",
              "      <td>NaN</td>\n",
              "      <td>NaN</td>\n",
              "      <td>NaN</td>\n",
              "      <td>NaN</td>\n",
              "      <td>NaN</td>\n",
              "      <td>NaN</td>\n",
              "      <td>...</td>\n",
              "      <td>0.0</td>\n",
              "      <td>0.0</td>\n",
              "      <td>0.0</td>\n",
              "      <td>0.121041</td>\n",
              "      <td>0.522833</td>\n",
              "      <td>0.0</td>\n",
              "      <td>0.0</td>\n",
              "      <td>0.000000</td>\n",
              "      <td>0.000000</td>\n",
              "      <td>0.000000</td>\n",
              "    </tr>\n",
              "    <tr>\n",
              "      <th>258981</th>\n",
              "      <td>146844</td>\n",
              "      <td>NaN</td>\n",
              "      <td>NaN</td>\n",
              "      <td>NaN</td>\n",
              "      <td>NaN</td>\n",
              "      <td>NaN</td>\n",
              "      <td>NaN</td>\n",
              "      <td>NaN</td>\n",
              "      <td>NaN</td>\n",
              "      <td>NaN</td>\n",
              "      <td>...</td>\n",
              "      <td>0.0</td>\n",
              "      <td>0.0</td>\n",
              "      <td>0.0</td>\n",
              "      <td>0.000005</td>\n",
              "      <td>0.000189</td>\n",
              "      <td>0.0</td>\n",
              "      <td>0.0</td>\n",
              "      <td>0.000000</td>\n",
              "      <td>0.000000</td>\n",
              "      <td>0.000000</td>\n",
              "    </tr>\n",
              "    <tr>\n",
              "      <th>202533</th>\n",
              "      <td>146845</td>\n",
              "      <td>NaN</td>\n",
              "      <td>NaN</td>\n",
              "      <td>NaN</td>\n",
              "      <td>NaN</td>\n",
              "      <td>NaN</td>\n",
              "      <td>NaN</td>\n",
              "      <td>NaN</td>\n",
              "      <td>NaN</td>\n",
              "      <td>NaN</td>\n",
              "      <td>...</td>\n",
              "      <td>0.0</td>\n",
              "      <td>0.0</td>\n",
              "      <td>0.0</td>\n",
              "      <td>0.177869</td>\n",
              "      <td>0.593648</td>\n",
              "      <td>0.0</td>\n",
              "      <td>0.0</td>\n",
              "      <td>0.000000</td>\n",
              "      <td>0.000000</td>\n",
              "      <td>0.000000</td>\n",
              "    </tr>\n",
              "    <tr>\n",
              "      <th>129110</th>\n",
              "      <td>146846</td>\n",
              "      <td>NaN</td>\n",
              "      <td>NaN</td>\n",
              "      <td>NaN</td>\n",
              "      <td>NaN</td>\n",
              "      <td>NaN</td>\n",
              "      <td>NaN</td>\n",
              "      <td>NaN</td>\n",
              "      <td>NaN</td>\n",
              "      <td>NaN</td>\n",
              "      <td>...</td>\n",
              "      <td>0.0</td>\n",
              "      <td>0.0</td>\n",
              "      <td>0.0</td>\n",
              "      <td>0.000000</td>\n",
              "      <td>0.000000</td>\n",
              "      <td>0.0</td>\n",
              "      <td>0.0</td>\n",
              "      <td>0.033022</td>\n",
              "      <td>0.700485</td>\n",
              "      <td>248361.558333</td>\n",
              "    </tr>\n",
              "    <tr>\n",
              "      <th>96821</th>\n",
              "      <td>146847</td>\n",
              "      <td>NaN</td>\n",
              "      <td>NaN</td>\n",
              "      <td>NaN</td>\n",
              "      <td>NaN</td>\n",
              "      <td>NaN</td>\n",
              "      <td>NaN</td>\n",
              "      <td>NaN</td>\n",
              "      <td>NaN</td>\n",
              "      <td>NaN</td>\n",
              "      <td>...</td>\n",
              "      <td>0.0</td>\n",
              "      <td>0.0</td>\n",
              "      <td>0.0</td>\n",
              "      <td>0.000000</td>\n",
              "      <td>0.000000</td>\n",
              "      <td>0.0</td>\n",
              "      <td>0.0</td>\n",
              "      <td>1.000000</td>\n",
              "      <td>1.000000</td>\n",
              "      <td>4466.345000</td>\n",
              "    </tr>\n",
              "    <tr>\n",
              "      <th>16502</th>\n",
              "      <td>146848</td>\n",
              "      <td>0.222794</td>\n",
              "      <td>0.748631</td>\n",
              "      <td>0.0</td>\n",
              "      <td>0.0</td>\n",
              "      <td>NaN</td>\n",
              "      <td>NaN</td>\n",
              "      <td>NaN</td>\n",
              "      <td>NaN</td>\n",
              "      <td>1.0</td>\n",
              "      <td>...</td>\n",
              "      <td>NaN</td>\n",
              "      <td>NaN</td>\n",
              "      <td>NaN</td>\n",
              "      <td>NaN</td>\n",
              "      <td>NaN</td>\n",
              "      <td>NaN</td>\n",
              "      <td>NaN</td>\n",
              "      <td>NaN</td>\n",
              "      <td>NaN</td>\n",
              "      <td>NaN</td>\n",
              "    </tr>\n",
              "    <tr>\n",
              "      <th>92999</th>\n",
              "      <td>146850</td>\n",
              "      <td>NaN</td>\n",
              "      <td>NaN</td>\n",
              "      <td>NaN</td>\n",
              "      <td>NaN</td>\n",
              "      <td>NaN</td>\n",
              "      <td>NaN</td>\n",
              "      <td>NaN</td>\n",
              "      <td>NaN</td>\n",
              "      <td>NaN</td>\n",
              "      <td>...</td>\n",
              "      <td>0.0</td>\n",
              "      <td>0.0</td>\n",
              "      <td>0.0</td>\n",
              "      <td>0.911780</td>\n",
              "      <td>0.937303</td>\n",
              "      <td>0.0</td>\n",
              "      <td>0.0</td>\n",
              "      <td>0.000000</td>\n",
              "      <td>0.000000</td>\n",
              "      <td>0.000000</td>\n",
              "    </tr>\n",
              "    <tr>\n",
              "      <th>173705</th>\n",
              "      <td>146851</td>\n",
              "      <td>NaN</td>\n",
              "      <td>NaN</td>\n",
              "      <td>NaN</td>\n",
              "      <td>NaN</td>\n",
              "      <td>NaN</td>\n",
              "      <td>NaN</td>\n",
              "      <td>NaN</td>\n",
              "      <td>NaN</td>\n",
              "      <td>NaN</td>\n",
              "      <td>...</td>\n",
              "      <td>0.0</td>\n",
              "      <td>0.0</td>\n",
              "      <td>0.0</td>\n",
              "      <td>0.260106</td>\n",
              "      <td>0.657603</td>\n",
              "      <td>0.0</td>\n",
              "      <td>0.0</td>\n",
              "      <td>0.000000</td>\n",
              "      <td>0.000000</td>\n",
              "      <td>0.000000</td>\n",
              "    </tr>\n",
              "  </tbody>\n",
              "</table>\n",
              "<p>10 rows × 116 columns</p>\n",
              "</div>\n",
              "    <div class=\"colab-df-buttons\">\n",
              "\n",
              "  <div class=\"colab-df-container\">\n",
              "    <button class=\"colab-df-convert\" onclick=\"convertToInteractive('df-21f33e7a-392b-4f60-9df9-fd3603639721')\"\n",
              "            title=\"Convert this dataframe to an interactive table.\"\n",
              "            style=\"display:none;\">\n",
              "\n",
              "  <svg xmlns=\"http://www.w3.org/2000/svg\" height=\"24px\" viewBox=\"0 -960 960 960\">\n",
              "    <path d=\"M120-120v-720h720v720H120Zm60-500h600v-160H180v160Zm220 220h160v-160H400v160Zm0 220h160v-160H400v160ZM180-400h160v-160H180v160Zm440 0h160v-160H620v160ZM180-180h160v-160H180v160Zm440 0h160v-160H620v160Z\"/>\n",
              "  </svg>\n",
              "    </button>\n",
              "\n",
              "  <style>\n",
              "    .colab-df-container {\n",
              "      display:flex;\n",
              "      gap: 12px;\n",
              "    }\n",
              "\n",
              "    .colab-df-convert {\n",
              "      background-color: #E8F0FE;\n",
              "      border: none;\n",
              "      border-radius: 50%;\n",
              "      cursor: pointer;\n",
              "      display: none;\n",
              "      fill: #1967D2;\n",
              "      height: 32px;\n",
              "      padding: 0 0 0 0;\n",
              "      width: 32px;\n",
              "    }\n",
              "\n",
              "    .colab-df-convert:hover {\n",
              "      background-color: #E2EBFA;\n",
              "      box-shadow: 0px 1px 2px rgba(60, 64, 67, 0.3), 0px 1px 3px 1px rgba(60, 64, 67, 0.15);\n",
              "      fill: #174EA6;\n",
              "    }\n",
              "\n",
              "    .colab-df-buttons div {\n",
              "      margin-bottom: 4px;\n",
              "    }\n",
              "\n",
              "    [theme=dark] .colab-df-convert {\n",
              "      background-color: #3B4455;\n",
              "      fill: #D2E3FC;\n",
              "    }\n",
              "\n",
              "    [theme=dark] .colab-df-convert:hover {\n",
              "      background-color: #434B5C;\n",
              "      box-shadow: 0px 1px 3px 1px rgba(0, 0, 0, 0.15);\n",
              "      filter: drop-shadow(0px 1px 2px rgba(0, 0, 0, 0.3));\n",
              "      fill: #FFFFFF;\n",
              "    }\n",
              "  </style>\n",
              "\n",
              "    <script>\n",
              "      const buttonEl =\n",
              "        document.querySelector('#df-21f33e7a-392b-4f60-9df9-fd3603639721 button.colab-df-convert');\n",
              "      buttonEl.style.display =\n",
              "        google.colab.kernel.accessAllowed ? 'block' : 'none';\n",
              "\n",
              "      async function convertToInteractive(key) {\n",
              "        const element = document.querySelector('#df-21f33e7a-392b-4f60-9df9-fd3603639721');\n",
              "        const dataTable =\n",
              "          await google.colab.kernel.invokeFunction('convertToInteractive',\n",
              "                                                    [key], {});\n",
              "        if (!dataTable) return;\n",
              "\n",
              "        const docLinkHtml = 'Like what you see? Visit the ' +\n",
              "          '<a target=\"_blank\" href=https://colab.research.google.com/notebooks/data_table.ipynb>data table notebook</a>'\n",
              "          + ' to learn more about interactive tables.';\n",
              "        element.innerHTML = '';\n",
              "        dataTable['output_type'] = 'display_data';\n",
              "        await google.colab.output.renderOutput(dataTable, element);\n",
              "        const docLink = document.createElement('div');\n",
              "        docLink.innerHTML = docLinkHtml;\n",
              "        element.appendChild(docLink);\n",
              "      }\n",
              "    </script>\n",
              "  </div>\n",
              "\n",
              "\n",
              "<div id=\"df-dcf6860b-e9c7-43cf-b7b4-4de87672976e\">\n",
              "  <button class=\"colab-df-quickchart\" onclick=\"quickchart('df-dcf6860b-e9c7-43cf-b7b4-4de87672976e')\"\n",
              "            title=\"Suggest charts\"\n",
              "            style=\"display:none;\">\n",
              "\n",
              "<svg xmlns=\"http://www.w3.org/2000/svg\" height=\"24px\"viewBox=\"0 0 24 24\"\n",
              "     width=\"24px\">\n",
              "    <g>\n",
              "        <path d=\"M19 3H5c-1.1 0-2 .9-2 2v14c0 1.1.9 2 2 2h14c1.1 0 2-.9 2-2V5c0-1.1-.9-2-2-2zM9 17H7v-7h2v7zm4 0h-2V7h2v10zm4 0h-2v-4h2v4z\"/>\n",
              "    </g>\n",
              "</svg>\n",
              "  </button>\n",
              "\n",
              "<style>\n",
              "  .colab-df-quickchart {\n",
              "      --bg-color: #E8F0FE;\n",
              "      --fill-color: #1967D2;\n",
              "      --hover-bg-color: #E2EBFA;\n",
              "      --hover-fill-color: #174EA6;\n",
              "      --disabled-fill-color: #AAA;\n",
              "      --disabled-bg-color: #DDD;\n",
              "  }\n",
              "\n",
              "  [theme=dark] .colab-df-quickchart {\n",
              "      --bg-color: #3B4455;\n",
              "      --fill-color: #D2E3FC;\n",
              "      --hover-bg-color: #434B5C;\n",
              "      --hover-fill-color: #FFFFFF;\n",
              "      --disabled-bg-color: #3B4455;\n",
              "      --disabled-fill-color: #666;\n",
              "  }\n",
              "\n",
              "  .colab-df-quickchart {\n",
              "    background-color: var(--bg-color);\n",
              "    border: none;\n",
              "    border-radius: 50%;\n",
              "    cursor: pointer;\n",
              "    display: none;\n",
              "    fill: var(--fill-color);\n",
              "    height: 32px;\n",
              "    padding: 0;\n",
              "    width: 32px;\n",
              "  }\n",
              "\n",
              "  .colab-df-quickchart:hover {\n",
              "    background-color: var(--hover-bg-color);\n",
              "    box-shadow: 0 1px 2px rgba(60, 64, 67, 0.3), 0 1px 3px 1px rgba(60, 64, 67, 0.15);\n",
              "    fill: var(--button-hover-fill-color);\n",
              "  }\n",
              "\n",
              "  .colab-df-quickchart-complete:disabled,\n",
              "  .colab-df-quickchart-complete:disabled:hover {\n",
              "    background-color: var(--disabled-bg-color);\n",
              "    fill: var(--disabled-fill-color);\n",
              "    box-shadow: none;\n",
              "  }\n",
              "\n",
              "  .colab-df-spinner {\n",
              "    border: 2px solid var(--fill-color);\n",
              "    border-color: transparent;\n",
              "    border-bottom-color: var(--fill-color);\n",
              "    animation:\n",
              "      spin 1s steps(1) infinite;\n",
              "  }\n",
              "\n",
              "  @keyframes spin {\n",
              "    0% {\n",
              "      border-color: transparent;\n",
              "      border-bottom-color: var(--fill-color);\n",
              "      border-left-color: var(--fill-color);\n",
              "    }\n",
              "    20% {\n",
              "      border-color: transparent;\n",
              "      border-left-color: var(--fill-color);\n",
              "      border-top-color: var(--fill-color);\n",
              "    }\n",
              "    30% {\n",
              "      border-color: transparent;\n",
              "      border-left-color: var(--fill-color);\n",
              "      border-top-color: var(--fill-color);\n",
              "      border-right-color: var(--fill-color);\n",
              "    }\n",
              "    40% {\n",
              "      border-color: transparent;\n",
              "      border-right-color: var(--fill-color);\n",
              "      border-top-color: var(--fill-color);\n",
              "    }\n",
              "    60% {\n",
              "      border-color: transparent;\n",
              "      border-right-color: var(--fill-color);\n",
              "    }\n",
              "    80% {\n",
              "      border-color: transparent;\n",
              "      border-right-color: var(--fill-color);\n",
              "      border-bottom-color: var(--fill-color);\n",
              "    }\n",
              "    90% {\n",
              "      border-color: transparent;\n",
              "      border-bottom-color: var(--fill-color);\n",
              "    }\n",
              "  }\n",
              "</style>\n",
              "\n",
              "  <script>\n",
              "    async function quickchart(key) {\n",
              "      const quickchartButtonEl =\n",
              "        document.querySelector('#' + key + ' button');\n",
              "      quickchartButtonEl.disabled = true;  // To prevent multiple clicks.\n",
              "      quickchartButtonEl.classList.add('colab-df-spinner');\n",
              "      try {\n",
              "        const charts = await google.colab.kernel.invokeFunction(\n",
              "            'suggestCharts', [key], {});\n",
              "      } catch (error) {\n",
              "        console.error('Error during call to suggestCharts:', error);\n",
              "      }\n",
              "      quickchartButtonEl.classList.remove('colab-df-spinner');\n",
              "      quickchartButtonEl.classList.add('colab-df-quickchart-complete');\n",
              "    }\n",
              "    (() => {\n",
              "      let quickchartButtonEl =\n",
              "        document.querySelector('#df-dcf6860b-e9c7-43cf-b7b4-4de87672976e button');\n",
              "      quickchartButtonEl.style.display =\n",
              "        google.colab.kernel.accessAllowed ? 'block' : 'none';\n",
              "    })();\n",
              "  </script>\n",
              "</div>\n",
              "    </div>\n",
              "  </div>\n"
            ]
          },
          "metadata": {},
          "execution_count": 78
        }
      ]
    },
    {
      "cell_type": "markdown",
      "metadata": {
        "id": "xrU97zAGA83B"
      },
      "source": [
        "7. Проверьте датасеты на отсутствие дубликатов"
      ]
    },
    {
      "cell_type": "code",
      "execution_count": 79,
      "metadata": {
        "id": "Hy6FSpebA83B",
        "outputId": "c2d4618b-104e-4784-b3af-b1cc8a2c07ff",
        "colab": {
          "base_uri": "https://localhost:8080/",
          "height": 290
        }
      },
      "outputs": [
        {
          "output_type": "stream",
          "name": "stdout",
          "text": [
            "(0, 116)\n",
            "(338596, 116)\n"
          ]
        },
        {
          "output_type": "execute_result",
          "data": {
            "text/plain": [
              "            ID  AMOUNT_RUB_ATM_PRC  AMOUNT_RUB_CLO_PRC  AMOUNT_RUB_NAS_PRC  \\\n",
              "155876  146841                 NaN                 NaN                 NaN   \n",
              "140740  146842                 NaN                 NaN                 NaN   \n",
              "264310  146843                 NaN                 NaN                 NaN   \n",
              "258981  146844                 NaN                 NaN                 NaN   \n",
              "202533  146845                 NaN                 NaN                 NaN   \n",
              "\n",
              "        AMOUNT_RUB_SUP_PRC  CNT_TRAN_ATM_TENDENCY1M  CNT_TRAN_ATM_TENDENCY3M  \\\n",
              "155876                 NaN                      NaN                      NaN   \n",
              "140740                 NaN                      NaN                      NaN   \n",
              "264310                 NaN                      NaN                      NaN   \n",
              "258981                 NaN                      NaN                      NaN   \n",
              "202533                 NaN                      NaN                      NaN   \n",
              "\n",
              "        CNT_TRAN_AUT_TENDENCY1M  CNT_TRAN_AUT_TENDENCY3M  \\\n",
              "155876                      NaN                      NaN   \n",
              "140740                      NaN                      NaN   \n",
              "264310                      NaN                      NaN   \n",
              "258981                      NaN                      NaN   \n",
              "202533                      NaN                      NaN   \n",
              "\n",
              "        CNT_TRAN_CLO_TENDENCY1M  ...  TURNOVER_CC  TURNOVER_DYNAMIC_CC_1M  \\\n",
              "155876                      NaN  ...          0.0                     0.0   \n",
              "140740                      NaN  ...          NaN                     NaN   \n",
              "264310                      NaN  ...          0.0                     0.0   \n",
              "258981                      NaN  ...          0.0                     0.0   \n",
              "202533                      NaN  ...          0.0                     0.0   \n",
              "\n",
              "        TURNOVER_DYNAMIC_CC_3M  TURNOVER_DYNAMIC_CUR_1M  \\\n",
              "155876                     0.0                 0.131910   \n",
              "140740                     NaN                      NaN   \n",
              "264310                     0.0                 0.121041   \n",
              "258981                     0.0                 0.000005   \n",
              "202533                     0.0                 0.177869   \n",
              "\n",
              "        TURNOVER_DYNAMIC_CUR_3M  TURNOVER_DYNAMIC_IL_1M  \\\n",
              "155876                 0.442285                     0.0   \n",
              "140740                      NaN                     NaN   \n",
              "264310                 0.522833                     0.0   \n",
              "258981                 0.000189                     0.0   \n",
              "202533                 0.593648                     0.0   \n",
              "\n",
              "        TURNOVER_DYNAMIC_IL_3M  TURNOVER_DYNAMIC_PAYM_1M  \\\n",
              "155876                     0.0                       0.0   \n",
              "140740                     NaN                       NaN   \n",
              "264310                     0.0                       0.0   \n",
              "258981                     0.0                       0.0   \n",
              "202533                     0.0                       0.0   \n",
              "\n",
              "        TURNOVER_DYNAMIC_PAYM_3M  TURNOVER_PAYM  \n",
              "155876                       0.0            0.0  \n",
              "140740                       NaN            NaN  \n",
              "264310                       0.0            0.0  \n",
              "258981                       0.0            0.0  \n",
              "202533                       0.0            0.0  \n",
              "\n",
              "[5 rows x 116 columns]"
            ],
            "text/html": [
              "\n",
              "  <div id=\"df-89cb5b73-39e2-4040-ad52-aec0a0aa9094\" class=\"colab-df-container\">\n",
              "    <div>\n",
              "<style scoped>\n",
              "    .dataframe tbody tr th:only-of-type {\n",
              "        vertical-align: middle;\n",
              "    }\n",
              "\n",
              "    .dataframe tbody tr th {\n",
              "        vertical-align: top;\n",
              "    }\n",
              "\n",
              "    .dataframe thead th {\n",
              "        text-align: right;\n",
              "    }\n",
              "</style>\n",
              "<table border=\"1\" class=\"dataframe\">\n",
              "  <thead>\n",
              "    <tr style=\"text-align: right;\">\n",
              "      <th></th>\n",
              "      <th>ID</th>\n",
              "      <th>AMOUNT_RUB_ATM_PRC</th>\n",
              "      <th>AMOUNT_RUB_CLO_PRC</th>\n",
              "      <th>AMOUNT_RUB_NAS_PRC</th>\n",
              "      <th>AMOUNT_RUB_SUP_PRC</th>\n",
              "      <th>CNT_TRAN_ATM_TENDENCY1M</th>\n",
              "      <th>CNT_TRAN_ATM_TENDENCY3M</th>\n",
              "      <th>CNT_TRAN_AUT_TENDENCY1M</th>\n",
              "      <th>CNT_TRAN_AUT_TENDENCY3M</th>\n",
              "      <th>CNT_TRAN_CLO_TENDENCY1M</th>\n",
              "      <th>...</th>\n",
              "      <th>TURNOVER_CC</th>\n",
              "      <th>TURNOVER_DYNAMIC_CC_1M</th>\n",
              "      <th>TURNOVER_DYNAMIC_CC_3M</th>\n",
              "      <th>TURNOVER_DYNAMIC_CUR_1M</th>\n",
              "      <th>TURNOVER_DYNAMIC_CUR_3M</th>\n",
              "      <th>TURNOVER_DYNAMIC_IL_1M</th>\n",
              "      <th>TURNOVER_DYNAMIC_IL_3M</th>\n",
              "      <th>TURNOVER_DYNAMIC_PAYM_1M</th>\n",
              "      <th>TURNOVER_DYNAMIC_PAYM_3M</th>\n",
              "      <th>TURNOVER_PAYM</th>\n",
              "    </tr>\n",
              "  </thead>\n",
              "  <tbody>\n",
              "    <tr>\n",
              "      <th>155876</th>\n",
              "      <td>146841</td>\n",
              "      <td>NaN</td>\n",
              "      <td>NaN</td>\n",
              "      <td>NaN</td>\n",
              "      <td>NaN</td>\n",
              "      <td>NaN</td>\n",
              "      <td>NaN</td>\n",
              "      <td>NaN</td>\n",
              "      <td>NaN</td>\n",
              "      <td>NaN</td>\n",
              "      <td>...</td>\n",
              "      <td>0.0</td>\n",
              "      <td>0.0</td>\n",
              "      <td>0.0</td>\n",
              "      <td>0.131910</td>\n",
              "      <td>0.442285</td>\n",
              "      <td>0.0</td>\n",
              "      <td>0.0</td>\n",
              "      <td>0.0</td>\n",
              "      <td>0.0</td>\n",
              "      <td>0.0</td>\n",
              "    </tr>\n",
              "    <tr>\n",
              "      <th>140740</th>\n",
              "      <td>146842</td>\n",
              "      <td>NaN</td>\n",
              "      <td>NaN</td>\n",
              "      <td>NaN</td>\n",
              "      <td>NaN</td>\n",
              "      <td>NaN</td>\n",
              "      <td>NaN</td>\n",
              "      <td>NaN</td>\n",
              "      <td>NaN</td>\n",
              "      <td>NaN</td>\n",
              "      <td>...</td>\n",
              "      <td>NaN</td>\n",
              "      <td>NaN</td>\n",
              "      <td>NaN</td>\n",
              "      <td>NaN</td>\n",
              "      <td>NaN</td>\n",
              "      <td>NaN</td>\n",
              "      <td>NaN</td>\n",
              "      <td>NaN</td>\n",
              "      <td>NaN</td>\n",
              "      <td>NaN</td>\n",
              "    </tr>\n",
              "    <tr>\n",
              "      <th>264310</th>\n",
              "      <td>146843</td>\n",
              "      <td>NaN</td>\n",
              "      <td>NaN</td>\n",
              "      <td>NaN</td>\n",
              "      <td>NaN</td>\n",
              "      <td>NaN</td>\n",
              "      <td>NaN</td>\n",
              "      <td>NaN</td>\n",
              "      <td>NaN</td>\n",
              "      <td>NaN</td>\n",
              "      <td>...</td>\n",
              "      <td>0.0</td>\n",
              "      <td>0.0</td>\n",
              "      <td>0.0</td>\n",
              "      <td>0.121041</td>\n",
              "      <td>0.522833</td>\n",
              "      <td>0.0</td>\n",
              "      <td>0.0</td>\n",
              "      <td>0.0</td>\n",
              "      <td>0.0</td>\n",
              "      <td>0.0</td>\n",
              "    </tr>\n",
              "    <tr>\n",
              "      <th>258981</th>\n",
              "      <td>146844</td>\n",
              "      <td>NaN</td>\n",
              "      <td>NaN</td>\n",
              "      <td>NaN</td>\n",
              "      <td>NaN</td>\n",
              "      <td>NaN</td>\n",
              "      <td>NaN</td>\n",
              "      <td>NaN</td>\n",
              "      <td>NaN</td>\n",
              "      <td>NaN</td>\n",
              "      <td>...</td>\n",
              "      <td>0.0</td>\n",
              "      <td>0.0</td>\n",
              "      <td>0.0</td>\n",
              "      <td>0.000005</td>\n",
              "      <td>0.000189</td>\n",
              "      <td>0.0</td>\n",
              "      <td>0.0</td>\n",
              "      <td>0.0</td>\n",
              "      <td>0.0</td>\n",
              "      <td>0.0</td>\n",
              "    </tr>\n",
              "    <tr>\n",
              "      <th>202533</th>\n",
              "      <td>146845</td>\n",
              "      <td>NaN</td>\n",
              "      <td>NaN</td>\n",
              "      <td>NaN</td>\n",
              "      <td>NaN</td>\n",
              "      <td>NaN</td>\n",
              "      <td>NaN</td>\n",
              "      <td>NaN</td>\n",
              "      <td>NaN</td>\n",
              "      <td>NaN</td>\n",
              "      <td>...</td>\n",
              "      <td>0.0</td>\n",
              "      <td>0.0</td>\n",
              "      <td>0.0</td>\n",
              "      <td>0.177869</td>\n",
              "      <td>0.593648</td>\n",
              "      <td>0.0</td>\n",
              "      <td>0.0</td>\n",
              "      <td>0.0</td>\n",
              "      <td>0.0</td>\n",
              "      <td>0.0</td>\n",
              "    </tr>\n",
              "  </tbody>\n",
              "</table>\n",
              "<p>5 rows × 116 columns</p>\n",
              "</div>\n",
              "    <div class=\"colab-df-buttons\">\n",
              "\n",
              "  <div class=\"colab-df-container\">\n",
              "    <button class=\"colab-df-convert\" onclick=\"convertToInteractive('df-89cb5b73-39e2-4040-ad52-aec0a0aa9094')\"\n",
              "            title=\"Convert this dataframe to an interactive table.\"\n",
              "            style=\"display:none;\">\n",
              "\n",
              "  <svg xmlns=\"http://www.w3.org/2000/svg\" height=\"24px\" viewBox=\"0 -960 960 960\">\n",
              "    <path d=\"M120-120v-720h720v720H120Zm60-500h600v-160H180v160Zm220 220h160v-160H400v160Zm0 220h160v-160H400v160ZM180-400h160v-160H180v160Zm440 0h160v-160H620v160ZM180-180h160v-160H180v160Zm440 0h160v-160H620v160Z\"/>\n",
              "  </svg>\n",
              "    </button>\n",
              "\n",
              "  <style>\n",
              "    .colab-df-container {\n",
              "      display:flex;\n",
              "      gap: 12px;\n",
              "    }\n",
              "\n",
              "    .colab-df-convert {\n",
              "      background-color: #E8F0FE;\n",
              "      border: none;\n",
              "      border-radius: 50%;\n",
              "      cursor: pointer;\n",
              "      display: none;\n",
              "      fill: #1967D2;\n",
              "      height: 32px;\n",
              "      padding: 0 0 0 0;\n",
              "      width: 32px;\n",
              "    }\n",
              "\n",
              "    .colab-df-convert:hover {\n",
              "      background-color: #E2EBFA;\n",
              "      box-shadow: 0px 1px 2px rgba(60, 64, 67, 0.3), 0px 1px 3px 1px rgba(60, 64, 67, 0.15);\n",
              "      fill: #174EA6;\n",
              "    }\n",
              "\n",
              "    .colab-df-buttons div {\n",
              "      margin-bottom: 4px;\n",
              "    }\n",
              "\n",
              "    [theme=dark] .colab-df-convert {\n",
              "      background-color: #3B4455;\n",
              "      fill: #D2E3FC;\n",
              "    }\n",
              "\n",
              "    [theme=dark] .colab-df-convert:hover {\n",
              "      background-color: #434B5C;\n",
              "      box-shadow: 0px 1px 3px 1px rgba(0, 0, 0, 0.15);\n",
              "      filter: drop-shadow(0px 1px 2px rgba(0, 0, 0, 0.3));\n",
              "      fill: #FFFFFF;\n",
              "    }\n",
              "  </style>\n",
              "\n",
              "    <script>\n",
              "      const buttonEl =\n",
              "        document.querySelector('#df-89cb5b73-39e2-4040-ad52-aec0a0aa9094 button.colab-df-convert');\n",
              "      buttonEl.style.display =\n",
              "        google.colab.kernel.accessAllowed ? 'block' : 'none';\n",
              "\n",
              "      async function convertToInteractive(key) {\n",
              "        const element = document.querySelector('#df-89cb5b73-39e2-4040-ad52-aec0a0aa9094');\n",
              "        const dataTable =\n",
              "          await google.colab.kernel.invokeFunction('convertToInteractive',\n",
              "                                                    [key], {});\n",
              "        if (!dataTable) return;\n",
              "\n",
              "        const docLinkHtml = 'Like what you see? Visit the ' +\n",
              "          '<a target=\"_blank\" href=https://colab.research.google.com/notebooks/data_table.ipynb>data table notebook</a>'\n",
              "          + ' to learn more about interactive tables.';\n",
              "        element.innerHTML = '';\n",
              "        dataTable['output_type'] = 'display_data';\n",
              "        await google.colab.output.renderOutput(dataTable, element);\n",
              "        const docLink = document.createElement('div');\n",
              "        docLink.innerHTML = docLinkHtml;\n",
              "        element.appendChild(docLink);\n",
              "      }\n",
              "    </script>\n",
              "  </div>\n",
              "\n",
              "\n",
              "<div id=\"df-33d90d8f-b83e-45ad-8a94-657777b260dd\">\n",
              "  <button class=\"colab-df-quickchart\" onclick=\"quickchart('df-33d90d8f-b83e-45ad-8a94-657777b260dd')\"\n",
              "            title=\"Suggest charts\"\n",
              "            style=\"display:none;\">\n",
              "\n",
              "<svg xmlns=\"http://www.w3.org/2000/svg\" height=\"24px\"viewBox=\"0 0 24 24\"\n",
              "     width=\"24px\">\n",
              "    <g>\n",
              "        <path d=\"M19 3H5c-1.1 0-2 .9-2 2v14c0 1.1.9 2 2 2h14c1.1 0 2-.9 2-2V5c0-1.1-.9-2-2-2zM9 17H7v-7h2v7zm4 0h-2V7h2v10zm4 0h-2v-4h2v4z\"/>\n",
              "    </g>\n",
              "</svg>\n",
              "  </button>\n",
              "\n",
              "<style>\n",
              "  .colab-df-quickchart {\n",
              "      --bg-color: #E8F0FE;\n",
              "      --fill-color: #1967D2;\n",
              "      --hover-bg-color: #E2EBFA;\n",
              "      --hover-fill-color: #174EA6;\n",
              "      --disabled-fill-color: #AAA;\n",
              "      --disabled-bg-color: #DDD;\n",
              "  }\n",
              "\n",
              "  [theme=dark] .colab-df-quickchart {\n",
              "      --bg-color: #3B4455;\n",
              "      --fill-color: #D2E3FC;\n",
              "      --hover-bg-color: #434B5C;\n",
              "      --hover-fill-color: #FFFFFF;\n",
              "      --disabled-bg-color: #3B4455;\n",
              "      --disabled-fill-color: #666;\n",
              "  }\n",
              "\n",
              "  .colab-df-quickchart {\n",
              "    background-color: var(--bg-color);\n",
              "    border: none;\n",
              "    border-radius: 50%;\n",
              "    cursor: pointer;\n",
              "    display: none;\n",
              "    fill: var(--fill-color);\n",
              "    height: 32px;\n",
              "    padding: 0;\n",
              "    width: 32px;\n",
              "  }\n",
              "\n",
              "  .colab-df-quickchart:hover {\n",
              "    background-color: var(--hover-bg-color);\n",
              "    box-shadow: 0 1px 2px rgba(60, 64, 67, 0.3), 0 1px 3px 1px rgba(60, 64, 67, 0.15);\n",
              "    fill: var(--button-hover-fill-color);\n",
              "  }\n",
              "\n",
              "  .colab-df-quickchart-complete:disabled,\n",
              "  .colab-df-quickchart-complete:disabled:hover {\n",
              "    background-color: var(--disabled-bg-color);\n",
              "    fill: var(--disabled-fill-color);\n",
              "    box-shadow: none;\n",
              "  }\n",
              "\n",
              "  .colab-df-spinner {\n",
              "    border: 2px solid var(--fill-color);\n",
              "    border-color: transparent;\n",
              "    border-bottom-color: var(--fill-color);\n",
              "    animation:\n",
              "      spin 1s steps(1) infinite;\n",
              "  }\n",
              "\n",
              "  @keyframes spin {\n",
              "    0% {\n",
              "      border-color: transparent;\n",
              "      border-bottom-color: var(--fill-color);\n",
              "      border-left-color: var(--fill-color);\n",
              "    }\n",
              "    20% {\n",
              "      border-color: transparent;\n",
              "      border-left-color: var(--fill-color);\n",
              "      border-top-color: var(--fill-color);\n",
              "    }\n",
              "    30% {\n",
              "      border-color: transparent;\n",
              "      border-left-color: var(--fill-color);\n",
              "      border-top-color: var(--fill-color);\n",
              "      border-right-color: var(--fill-color);\n",
              "    }\n",
              "    40% {\n",
              "      border-color: transparent;\n",
              "      border-right-color: var(--fill-color);\n",
              "      border-top-color: var(--fill-color);\n",
              "    }\n",
              "    60% {\n",
              "      border-color: transparent;\n",
              "      border-right-color: var(--fill-color);\n",
              "    }\n",
              "    80% {\n",
              "      border-color: transparent;\n",
              "      border-right-color: var(--fill-color);\n",
              "      border-bottom-color: var(--fill-color);\n",
              "    }\n",
              "    90% {\n",
              "      border-color: transparent;\n",
              "      border-bottom-color: var(--fill-color);\n",
              "    }\n",
              "  }\n",
              "</style>\n",
              "\n",
              "  <script>\n",
              "    async function quickchart(key) {\n",
              "      const quickchartButtonEl =\n",
              "        document.querySelector('#' + key + ' button');\n",
              "      quickchartButtonEl.disabled = true;  // To prevent multiple clicks.\n",
              "      quickchartButtonEl.classList.add('colab-df-spinner');\n",
              "      try {\n",
              "        const charts = await google.colab.kernel.invokeFunction(\n",
              "            'suggestCharts', [key], {});\n",
              "      } catch (error) {\n",
              "        console.error('Error during call to suggestCharts:', error);\n",
              "      }\n",
              "      quickchartButtonEl.classList.remove('colab-df-spinner');\n",
              "      quickchartButtonEl.classList.add('colab-df-quickchart-complete');\n",
              "    }\n",
              "    (() => {\n",
              "      let quickchartButtonEl =\n",
              "        document.querySelector('#df-33d90d8f-b83e-45ad-8a94-657777b260dd button');\n",
              "      quickchartButtonEl.style.display =\n",
              "        google.colab.kernel.accessAllowed ? 'block' : 'none';\n",
              "    })();\n",
              "  </script>\n",
              "</div>\n",
              "    </div>\n",
              "  </div>\n"
            ]
          },
          "metadata": {},
          "execution_count": 79
        }
      ],
      "source": [
        "duplicateRows = df[df.duplicated ()]\n",
        "print(duplicateRows.shape)\n",
        "df.drop_duplicates\n",
        "print(df.shape)\n",
        "df.head()"
      ]
    },
    {
      "cell_type": "markdown",
      "metadata": {
        "pycharm": {
          "name": "#%%\n"
        },
        "id": "KieJb3geA83B"
      },
      "source": [
        "### 3.2. Очистка текстовых данных\n",
        "Теперь можно приступать к очистке данных. Для этого нужно:\n",
        "1. Найти в получившемся датасете все поля, которые являются текстовыми.\n",
        "2. Привести их значения к нижнему регистру.\n",
        "3. В тех полях, где есть одновременно русское и английское написание одного и того же слова, оставить только русское (заменить английское на русское). Это условие не применять к полю `CLNT_JOB_POSITION`. Это будет чересчур даже для нашего курса :)\n",
        "4. Если текстовое значение состоит только из “` `“ (пробел), то его заменить на `NaN` (пустое значение, а не строку 'NaN').\n",
        "5. Если в текстовом значении есть цифры (телефон, дата рождения и др.), то всё значение текстового поля тоже заменить на `NaN`. Поле `PACK` оставить в исходном виде. Оно отвечает за пакет услуг клиента, и нам эта информация может быть важной. Затирать ее на пустые значения было бы опрометчиво.\n",
        "6. Если есть столбцы, которые абсолютно идентичны по своим значениям для одних и тех же строк, то оставить только тот столбец, который идет первее. Речь идет только о текстовых полях."
      ]
    },
    {
      "cell_type": "code",
      "execution_count": 80,
      "metadata": {
        "id": "5ZdvXFAlA83C",
        "outputId": "88149583-01ee-4d56-e91f-82f85a70af80",
        "colab": {
          "base_uri": "https://localhost:8080/"
        }
      },
      "outputs": [
        {
          "output_type": "stream",
          "name": "stderr",
          "text": [
            "<ipython-input-80-fe5e11c2d28f>:9: FutureWarning: In a future version of pandas all arguments of Series.replace except for the arguments 'to_replace' and 'value' will be keyword-only.\n",
            "  df.CLNT_TRUST_RELATION.replace(j, i[1], True)\n"
          ]
        }
      ],
      "source": [
        "\n",
        "df_object = df.select_dtypes(include = ['object'])\n",
        "df_strs = list(df_object)\n",
        "for i in df_strs:\n",
        "  df[i] = df[i].str.lower()\n",
        "words = [['relative','родственник'], ['friend', 'друг'], ['brother','брат'], ['mother','мать']] #CLNT_TRUST_RELATION\n",
        "for i in words:\n",
        "  for j in df.CLNT_TRUST_RELATION:\n",
        "    if i[0] == j:\n",
        "      df.CLNT_TRUST_RELATION.replace(j, i[1], True)\n",
        "df_strs.remove('PACK')\n",
        "for i in df_strs:\n",
        "    df[i].where(df[i].str.replace(' ','').str.isalpha(), np.nan, inplace=True)\n",
        "it = 1\n",
        "for i in df_strs:\n",
        "  if i != df_strs[11]:\n",
        "    if (df[i] == df[df_strs[it]]).all():\n",
        "      del df[df_strs[it]]\n",
        "    it += 1\n"
      ]
    },
    {
      "cell_type": "markdown",
      "metadata": {
        "id": "NF8WhwWeA83C"
      },
      "source": [
        "7. Выведите количество уникальных значения в полях CLNT_TRUST_RELATION, APP_MARITAL_STATUS, CLNT_JOB_POSITION"
      ]
    },
    {
      "cell_type": "code",
      "execution_count": 81,
      "metadata": {
        "id": "WHu5TAxbA83C",
        "colab": {
          "base_uri": "https://localhost:8080/"
        },
        "outputId": "b0c3890c-1f5a-4c56-fed3-68c63331bfba"
      },
      "outputs": [
        {
          "output_type": "stream",
          "name": "stdout",
          "text": [
            "18   8   7375\n"
          ]
        }
      ],
      "source": [
        "print(len(df.CLNT_TRUST_RELATION.unique()), \" \", len(df.APP_MARITAL_STATUS.unique()), \" \", len(df.CLNT_JOB_POSITION.unique()))"
      ]
    },
    {
      "cell_type": "markdown",
      "metadata": {
        "id": "csihkw4IA83C"
      },
      "source": [
        "8. Выведите колонки итогового датасета"
      ]
    },
    {
      "cell_type": "code",
      "execution_count": 82,
      "metadata": {
        "id": "2NYH7pSEA83C",
        "colab": {
          "base_uri": "https://localhost:8080/"
        },
        "outputId": "17b5d18c-c02a-488a-b1cf-1d9e2440b7da"
      },
      "outputs": [
        {
          "output_type": "stream",
          "name": "stdout",
          "text": [
            "Index(['ID', 'AMOUNT_RUB_ATM_PRC', 'AMOUNT_RUB_CLO_PRC', 'AMOUNT_RUB_NAS_PRC',\n",
            "       'AMOUNT_RUB_SUP_PRC', 'CNT_TRAN_ATM_TENDENCY1M',\n",
            "       'CNT_TRAN_ATM_TENDENCY3M', 'CNT_TRAN_AUT_TENDENCY1M',\n",
            "       'CNT_TRAN_AUT_TENDENCY3M', 'CNT_TRAN_CLO_TENDENCY1M',\n",
            "       ...\n",
            "       'TURNOVER_CC', 'TURNOVER_DYNAMIC_CC_1M', 'TURNOVER_DYNAMIC_CC_3M',\n",
            "       'TURNOVER_DYNAMIC_CUR_1M', 'TURNOVER_DYNAMIC_CUR_3M',\n",
            "       'TURNOVER_DYNAMIC_IL_1M', 'TURNOVER_DYNAMIC_IL_3M',\n",
            "       'TURNOVER_DYNAMIC_PAYM_1M', 'TURNOVER_DYNAMIC_PAYM_3M',\n",
            "       'TURNOVER_PAYM'],\n",
            "      dtype='object', length=116)\n"
          ]
        }
      ],
      "source": [
        "print(df.columns)"
      ]
    },
    {
      "cell_type": "code",
      "source": [
        "df"
      ],
      "metadata": {
        "id": "8C6dQSHUQwLX",
        "outputId": "c03fb651-031a-4157-c27e-dcdc82551cb7",
        "colab": {
          "base_uri": "https://localhost:8080/",
          "height": 444
        }
      },
      "execution_count": 83,
      "outputs": [
        {
          "output_type": "execute_result",
          "data": {
            "text/plain": [
              "            ID  AMOUNT_RUB_ATM_PRC  AMOUNT_RUB_CLO_PRC  AMOUNT_RUB_NAS_PRC  \\\n",
              "155876  146841                 NaN                 NaN                 NaN   \n",
              "140740  146842                 NaN                 NaN                 NaN   \n",
              "264310  146843                 NaN                 NaN                 NaN   \n",
              "258981  146844                 NaN                 NaN                 NaN   \n",
              "202533  146845                 NaN                 NaN                 NaN   \n",
              "...        ...                 ...                 ...                 ...   \n",
              "273583  590822                 NaN                 NaN                 NaN   \n",
              "144183  590823                 NaN                 NaN                 NaN   \n",
              "41009   590825                 0.0            0.041298            0.031179   \n",
              "108090  590826                 NaN                 NaN                 NaN   \n",
              "7304    590828                 1.0            0.000000            0.000000   \n",
              "\n",
              "        AMOUNT_RUB_SUP_PRC  CNT_TRAN_ATM_TENDENCY1M  CNT_TRAN_ATM_TENDENCY3M  \\\n",
              "155876                 NaN                      NaN                      NaN   \n",
              "140740                 NaN                      NaN                      NaN   \n",
              "264310                 NaN                      NaN                      NaN   \n",
              "258981                 NaN                      NaN                      NaN   \n",
              "202533                 NaN                      NaN                      NaN   \n",
              "...                    ...                      ...                      ...   \n",
              "273583                 NaN                      NaN                      NaN   \n",
              "144183                 NaN                      NaN                      NaN   \n",
              "41009             0.095187                      NaN                      NaN   \n",
              "108090                 NaN                      NaN                      NaN   \n",
              "7304              0.000000                      NaN                      NaN   \n",
              "\n",
              "        CNT_TRAN_AUT_TENDENCY1M  CNT_TRAN_AUT_TENDENCY3M  \\\n",
              "155876                      NaN                      NaN   \n",
              "140740                      NaN                      NaN   \n",
              "264310                      NaN                      NaN   \n",
              "258981                      NaN                      NaN   \n",
              "202533                      NaN                      NaN   \n",
              "...                         ...                      ...   \n",
              "273583                      NaN                      NaN   \n",
              "144183                      NaN                      NaN   \n",
              "41009                  0.089286                 0.392857   \n",
              "108090                      NaN                      NaN   \n",
              "7304                        NaN                      NaN   \n",
              "\n",
              "        CNT_TRAN_CLO_TENDENCY1M  ...  TURNOVER_CC  TURNOVER_DYNAMIC_CC_1M  \\\n",
              "155876                      NaN  ...          0.0                     0.0   \n",
              "140740                      NaN  ...          NaN                     NaN   \n",
              "264310                      NaN  ...          0.0                     0.0   \n",
              "258981                      NaN  ...          0.0                     0.0   \n",
              "202533                      NaN  ...          0.0                     0.0   \n",
              "...                         ...  ...          ...                     ...   \n",
              "273583                      NaN  ...          0.0                     0.0   \n",
              "144183                      NaN  ...          0.0                     0.0   \n",
              "41009                       NaN  ...          NaN                     NaN   \n",
              "108090                      NaN  ...          0.0                     0.0   \n",
              "7304                        NaN  ...          NaN                     NaN   \n",
              "\n",
              "        TURNOVER_DYNAMIC_CC_3M  TURNOVER_DYNAMIC_CUR_1M  \\\n",
              "155876                     0.0                 0.131910   \n",
              "140740                     NaN                      NaN   \n",
              "264310                     0.0                 0.121041   \n",
              "258981                     0.0                 0.000005   \n",
              "202533                     0.0                 0.177869   \n",
              "...                        ...                      ...   \n",
              "273583                     0.0                 0.119700   \n",
              "144183                     0.0                 0.165218   \n",
              "41009                      NaN                      NaN   \n",
              "108090                     0.0                 0.379720   \n",
              "7304                       NaN                      NaN   \n",
              "\n",
              "        TURNOVER_DYNAMIC_CUR_3M  TURNOVER_DYNAMIC_IL_1M  \\\n",
              "155876                 0.442285                     0.0   \n",
              "140740                      NaN                     NaN   \n",
              "264310                 0.522833                     0.0   \n",
              "258981                 0.000189                     0.0   \n",
              "202533                 0.593648                     0.0   \n",
              "...                         ...                     ...   \n",
              "273583                 0.572322                     0.0   \n",
              "144183                 0.392381                     0.0   \n",
              "41009                       NaN                     NaN   \n",
              "108090                 1.000000                     0.0   \n",
              "7304                        NaN                     NaN   \n",
              "\n",
              "        TURNOVER_DYNAMIC_IL_3M  TURNOVER_DYNAMIC_PAYM_1M  \\\n",
              "155876                     0.0                       0.0   \n",
              "140740                     NaN                       NaN   \n",
              "264310                     0.0                       0.0   \n",
              "258981                     0.0                       0.0   \n",
              "202533                     0.0                       0.0   \n",
              "...                        ...                       ...   \n",
              "273583                     0.0                       0.0   \n",
              "144183                     0.0                       0.0   \n",
              "41009                      NaN                       NaN   \n",
              "108090                     0.0                       0.0   \n",
              "7304                       NaN                       NaN   \n",
              "\n",
              "        TURNOVER_DYNAMIC_PAYM_3M  TURNOVER_PAYM  \n",
              "155876                       0.0            0.0  \n",
              "140740                       NaN            NaN  \n",
              "264310                       0.0            0.0  \n",
              "258981                       0.0            0.0  \n",
              "202533                       0.0            0.0  \n",
              "...                          ...            ...  \n",
              "273583                       0.0            0.0  \n",
              "144183                       0.0            0.0  \n",
              "41009                        NaN            NaN  \n",
              "108090                       0.0            0.0  \n",
              "7304                         NaN            NaN  \n",
              "\n",
              "[338596 rows x 116 columns]"
            ],
            "text/html": [
              "\n",
              "  <div id=\"df-a48d4f9a-32cc-4b8b-9142-ab21502d0fbc\" class=\"colab-df-container\">\n",
              "    <div>\n",
              "<style scoped>\n",
              "    .dataframe tbody tr th:only-of-type {\n",
              "        vertical-align: middle;\n",
              "    }\n",
              "\n",
              "    .dataframe tbody tr th {\n",
              "        vertical-align: top;\n",
              "    }\n",
              "\n",
              "    .dataframe thead th {\n",
              "        text-align: right;\n",
              "    }\n",
              "</style>\n",
              "<table border=\"1\" class=\"dataframe\">\n",
              "  <thead>\n",
              "    <tr style=\"text-align: right;\">\n",
              "      <th></th>\n",
              "      <th>ID</th>\n",
              "      <th>AMOUNT_RUB_ATM_PRC</th>\n",
              "      <th>AMOUNT_RUB_CLO_PRC</th>\n",
              "      <th>AMOUNT_RUB_NAS_PRC</th>\n",
              "      <th>AMOUNT_RUB_SUP_PRC</th>\n",
              "      <th>CNT_TRAN_ATM_TENDENCY1M</th>\n",
              "      <th>CNT_TRAN_ATM_TENDENCY3M</th>\n",
              "      <th>CNT_TRAN_AUT_TENDENCY1M</th>\n",
              "      <th>CNT_TRAN_AUT_TENDENCY3M</th>\n",
              "      <th>CNT_TRAN_CLO_TENDENCY1M</th>\n",
              "      <th>...</th>\n",
              "      <th>TURNOVER_CC</th>\n",
              "      <th>TURNOVER_DYNAMIC_CC_1M</th>\n",
              "      <th>TURNOVER_DYNAMIC_CC_3M</th>\n",
              "      <th>TURNOVER_DYNAMIC_CUR_1M</th>\n",
              "      <th>TURNOVER_DYNAMIC_CUR_3M</th>\n",
              "      <th>TURNOVER_DYNAMIC_IL_1M</th>\n",
              "      <th>TURNOVER_DYNAMIC_IL_3M</th>\n",
              "      <th>TURNOVER_DYNAMIC_PAYM_1M</th>\n",
              "      <th>TURNOVER_DYNAMIC_PAYM_3M</th>\n",
              "      <th>TURNOVER_PAYM</th>\n",
              "    </tr>\n",
              "  </thead>\n",
              "  <tbody>\n",
              "    <tr>\n",
              "      <th>155876</th>\n",
              "      <td>146841</td>\n",
              "      <td>NaN</td>\n",
              "      <td>NaN</td>\n",
              "      <td>NaN</td>\n",
              "      <td>NaN</td>\n",
              "      <td>NaN</td>\n",
              "      <td>NaN</td>\n",
              "      <td>NaN</td>\n",
              "      <td>NaN</td>\n",
              "      <td>NaN</td>\n",
              "      <td>...</td>\n",
              "      <td>0.0</td>\n",
              "      <td>0.0</td>\n",
              "      <td>0.0</td>\n",
              "      <td>0.131910</td>\n",
              "      <td>0.442285</td>\n",
              "      <td>0.0</td>\n",
              "      <td>0.0</td>\n",
              "      <td>0.0</td>\n",
              "      <td>0.0</td>\n",
              "      <td>0.0</td>\n",
              "    </tr>\n",
              "    <tr>\n",
              "      <th>140740</th>\n",
              "      <td>146842</td>\n",
              "      <td>NaN</td>\n",
              "      <td>NaN</td>\n",
              "      <td>NaN</td>\n",
              "      <td>NaN</td>\n",
              "      <td>NaN</td>\n",
              "      <td>NaN</td>\n",
              "      <td>NaN</td>\n",
              "      <td>NaN</td>\n",
              "      <td>NaN</td>\n",
              "      <td>...</td>\n",
              "      <td>NaN</td>\n",
              "      <td>NaN</td>\n",
              "      <td>NaN</td>\n",
              "      <td>NaN</td>\n",
              "      <td>NaN</td>\n",
              "      <td>NaN</td>\n",
              "      <td>NaN</td>\n",
              "      <td>NaN</td>\n",
              "      <td>NaN</td>\n",
              "      <td>NaN</td>\n",
              "    </tr>\n",
              "    <tr>\n",
              "      <th>264310</th>\n",
              "      <td>146843</td>\n",
              "      <td>NaN</td>\n",
              "      <td>NaN</td>\n",
              "      <td>NaN</td>\n",
              "      <td>NaN</td>\n",
              "      <td>NaN</td>\n",
              "      <td>NaN</td>\n",
              "      <td>NaN</td>\n",
              "      <td>NaN</td>\n",
              "      <td>NaN</td>\n",
              "      <td>...</td>\n",
              "      <td>0.0</td>\n",
              "      <td>0.0</td>\n",
              "      <td>0.0</td>\n",
              "      <td>0.121041</td>\n",
              "      <td>0.522833</td>\n",
              "      <td>0.0</td>\n",
              "      <td>0.0</td>\n",
              "      <td>0.0</td>\n",
              "      <td>0.0</td>\n",
              "      <td>0.0</td>\n",
              "    </tr>\n",
              "    <tr>\n",
              "      <th>258981</th>\n",
              "      <td>146844</td>\n",
              "      <td>NaN</td>\n",
              "      <td>NaN</td>\n",
              "      <td>NaN</td>\n",
              "      <td>NaN</td>\n",
              "      <td>NaN</td>\n",
              "      <td>NaN</td>\n",
              "      <td>NaN</td>\n",
              "      <td>NaN</td>\n",
              "      <td>NaN</td>\n",
              "      <td>...</td>\n",
              "      <td>0.0</td>\n",
              "      <td>0.0</td>\n",
              "      <td>0.0</td>\n",
              "      <td>0.000005</td>\n",
              "      <td>0.000189</td>\n",
              "      <td>0.0</td>\n",
              "      <td>0.0</td>\n",
              "      <td>0.0</td>\n",
              "      <td>0.0</td>\n",
              "      <td>0.0</td>\n",
              "    </tr>\n",
              "    <tr>\n",
              "      <th>202533</th>\n",
              "      <td>146845</td>\n",
              "      <td>NaN</td>\n",
              "      <td>NaN</td>\n",
              "      <td>NaN</td>\n",
              "      <td>NaN</td>\n",
              "      <td>NaN</td>\n",
              "      <td>NaN</td>\n",
              "      <td>NaN</td>\n",
              "      <td>NaN</td>\n",
              "      <td>NaN</td>\n",
              "      <td>...</td>\n",
              "      <td>0.0</td>\n",
              "      <td>0.0</td>\n",
              "      <td>0.0</td>\n",
              "      <td>0.177869</td>\n",
              "      <td>0.593648</td>\n",
              "      <td>0.0</td>\n",
              "      <td>0.0</td>\n",
              "      <td>0.0</td>\n",
              "      <td>0.0</td>\n",
              "      <td>0.0</td>\n",
              "    </tr>\n",
              "    <tr>\n",
              "      <th>...</th>\n",
              "      <td>...</td>\n",
              "      <td>...</td>\n",
              "      <td>...</td>\n",
              "      <td>...</td>\n",
              "      <td>...</td>\n",
              "      <td>...</td>\n",
              "      <td>...</td>\n",
              "      <td>...</td>\n",
              "      <td>...</td>\n",
              "      <td>...</td>\n",
              "      <td>...</td>\n",
              "      <td>...</td>\n",
              "      <td>...</td>\n",
              "      <td>...</td>\n",
              "      <td>...</td>\n",
              "      <td>...</td>\n",
              "      <td>...</td>\n",
              "      <td>...</td>\n",
              "      <td>...</td>\n",
              "      <td>...</td>\n",
              "      <td>...</td>\n",
              "    </tr>\n",
              "    <tr>\n",
              "      <th>273583</th>\n",
              "      <td>590822</td>\n",
              "      <td>NaN</td>\n",
              "      <td>NaN</td>\n",
              "      <td>NaN</td>\n",
              "      <td>NaN</td>\n",
              "      <td>NaN</td>\n",
              "      <td>NaN</td>\n",
              "      <td>NaN</td>\n",
              "      <td>NaN</td>\n",
              "      <td>NaN</td>\n",
              "      <td>...</td>\n",
              "      <td>0.0</td>\n",
              "      <td>0.0</td>\n",
              "      <td>0.0</td>\n",
              "      <td>0.119700</td>\n",
              "      <td>0.572322</td>\n",
              "      <td>0.0</td>\n",
              "      <td>0.0</td>\n",
              "      <td>0.0</td>\n",
              "      <td>0.0</td>\n",
              "      <td>0.0</td>\n",
              "    </tr>\n",
              "    <tr>\n",
              "      <th>144183</th>\n",
              "      <td>590823</td>\n",
              "      <td>NaN</td>\n",
              "      <td>NaN</td>\n",
              "      <td>NaN</td>\n",
              "      <td>NaN</td>\n",
              "      <td>NaN</td>\n",
              "      <td>NaN</td>\n",
              "      <td>NaN</td>\n",
              "      <td>NaN</td>\n",
              "      <td>NaN</td>\n",
              "      <td>...</td>\n",
              "      <td>0.0</td>\n",
              "      <td>0.0</td>\n",
              "      <td>0.0</td>\n",
              "      <td>0.165218</td>\n",
              "      <td>0.392381</td>\n",
              "      <td>0.0</td>\n",
              "      <td>0.0</td>\n",
              "      <td>0.0</td>\n",
              "      <td>0.0</td>\n",
              "      <td>0.0</td>\n",
              "    </tr>\n",
              "    <tr>\n",
              "      <th>41009</th>\n",
              "      <td>590825</td>\n",
              "      <td>0.0</td>\n",
              "      <td>0.041298</td>\n",
              "      <td>0.031179</td>\n",
              "      <td>0.095187</td>\n",
              "      <td>NaN</td>\n",
              "      <td>NaN</td>\n",
              "      <td>0.089286</td>\n",
              "      <td>0.392857</td>\n",
              "      <td>NaN</td>\n",
              "      <td>...</td>\n",
              "      <td>NaN</td>\n",
              "      <td>NaN</td>\n",
              "      <td>NaN</td>\n",
              "      <td>NaN</td>\n",
              "      <td>NaN</td>\n",
              "      <td>NaN</td>\n",
              "      <td>NaN</td>\n",
              "      <td>NaN</td>\n",
              "      <td>NaN</td>\n",
              "      <td>NaN</td>\n",
              "    </tr>\n",
              "    <tr>\n",
              "      <th>108090</th>\n",
              "      <td>590826</td>\n",
              "      <td>NaN</td>\n",
              "      <td>NaN</td>\n",
              "      <td>NaN</td>\n",
              "      <td>NaN</td>\n",
              "      <td>NaN</td>\n",
              "      <td>NaN</td>\n",
              "      <td>NaN</td>\n",
              "      <td>NaN</td>\n",
              "      <td>NaN</td>\n",
              "      <td>...</td>\n",
              "      <td>0.0</td>\n",
              "      <td>0.0</td>\n",
              "      <td>0.0</td>\n",
              "      <td>0.379720</td>\n",
              "      <td>1.000000</td>\n",
              "      <td>0.0</td>\n",
              "      <td>0.0</td>\n",
              "      <td>0.0</td>\n",
              "      <td>0.0</td>\n",
              "      <td>0.0</td>\n",
              "    </tr>\n",
              "    <tr>\n",
              "      <th>7304</th>\n",
              "      <td>590828</td>\n",
              "      <td>1.0</td>\n",
              "      <td>0.000000</td>\n",
              "      <td>0.000000</td>\n",
              "      <td>0.000000</td>\n",
              "      <td>NaN</td>\n",
              "      <td>NaN</td>\n",
              "      <td>NaN</td>\n",
              "      <td>NaN</td>\n",
              "      <td>NaN</td>\n",
              "      <td>...</td>\n",
              "      <td>NaN</td>\n",
              "      <td>NaN</td>\n",
              "      <td>NaN</td>\n",
              "      <td>NaN</td>\n",
              "      <td>NaN</td>\n",
              "      <td>NaN</td>\n",
              "      <td>NaN</td>\n",
              "      <td>NaN</td>\n",
              "      <td>NaN</td>\n",
              "      <td>NaN</td>\n",
              "    </tr>\n",
              "  </tbody>\n",
              "</table>\n",
              "<p>338596 rows × 116 columns</p>\n",
              "</div>\n",
              "    <div class=\"colab-df-buttons\">\n",
              "\n",
              "  <div class=\"colab-df-container\">\n",
              "    <button class=\"colab-df-convert\" onclick=\"convertToInteractive('df-a48d4f9a-32cc-4b8b-9142-ab21502d0fbc')\"\n",
              "            title=\"Convert this dataframe to an interactive table.\"\n",
              "            style=\"display:none;\">\n",
              "\n",
              "  <svg xmlns=\"http://www.w3.org/2000/svg\" height=\"24px\" viewBox=\"0 -960 960 960\">\n",
              "    <path d=\"M120-120v-720h720v720H120Zm60-500h600v-160H180v160Zm220 220h160v-160H400v160Zm0 220h160v-160H400v160ZM180-400h160v-160H180v160Zm440 0h160v-160H620v160ZM180-180h160v-160H180v160Zm440 0h160v-160H620v160Z\"/>\n",
              "  </svg>\n",
              "    </button>\n",
              "\n",
              "  <style>\n",
              "    .colab-df-container {\n",
              "      display:flex;\n",
              "      gap: 12px;\n",
              "    }\n",
              "\n",
              "    .colab-df-convert {\n",
              "      background-color: #E8F0FE;\n",
              "      border: none;\n",
              "      border-radius: 50%;\n",
              "      cursor: pointer;\n",
              "      display: none;\n",
              "      fill: #1967D2;\n",
              "      height: 32px;\n",
              "      padding: 0 0 0 0;\n",
              "      width: 32px;\n",
              "    }\n",
              "\n",
              "    .colab-df-convert:hover {\n",
              "      background-color: #E2EBFA;\n",
              "      box-shadow: 0px 1px 2px rgba(60, 64, 67, 0.3), 0px 1px 3px 1px rgba(60, 64, 67, 0.15);\n",
              "      fill: #174EA6;\n",
              "    }\n",
              "\n",
              "    .colab-df-buttons div {\n",
              "      margin-bottom: 4px;\n",
              "    }\n",
              "\n",
              "    [theme=dark] .colab-df-convert {\n",
              "      background-color: #3B4455;\n",
              "      fill: #D2E3FC;\n",
              "    }\n",
              "\n",
              "    [theme=dark] .colab-df-convert:hover {\n",
              "      background-color: #434B5C;\n",
              "      box-shadow: 0px 1px 3px 1px rgba(0, 0, 0, 0.15);\n",
              "      filter: drop-shadow(0px 1px 2px rgba(0, 0, 0, 0.3));\n",
              "      fill: #FFFFFF;\n",
              "    }\n",
              "  </style>\n",
              "\n",
              "    <script>\n",
              "      const buttonEl =\n",
              "        document.querySelector('#df-a48d4f9a-32cc-4b8b-9142-ab21502d0fbc button.colab-df-convert');\n",
              "      buttonEl.style.display =\n",
              "        google.colab.kernel.accessAllowed ? 'block' : 'none';\n",
              "\n",
              "      async function convertToInteractive(key) {\n",
              "        const element = document.querySelector('#df-a48d4f9a-32cc-4b8b-9142-ab21502d0fbc');\n",
              "        const dataTable =\n",
              "          await google.colab.kernel.invokeFunction('convertToInteractive',\n",
              "                                                    [key], {});\n",
              "        if (!dataTable) return;\n",
              "\n",
              "        const docLinkHtml = 'Like what you see? Visit the ' +\n",
              "          '<a target=\"_blank\" href=https://colab.research.google.com/notebooks/data_table.ipynb>data table notebook</a>'\n",
              "          + ' to learn more about interactive tables.';\n",
              "        element.innerHTML = '';\n",
              "        dataTable['output_type'] = 'display_data';\n",
              "        await google.colab.output.renderOutput(dataTable, element);\n",
              "        const docLink = document.createElement('div');\n",
              "        docLink.innerHTML = docLinkHtml;\n",
              "        element.appendChild(docLink);\n",
              "      }\n",
              "    </script>\n",
              "  </div>\n",
              "\n",
              "\n",
              "<div id=\"df-4df37915-1a5a-4750-b2dd-065ed27263fc\">\n",
              "  <button class=\"colab-df-quickchart\" onclick=\"quickchart('df-4df37915-1a5a-4750-b2dd-065ed27263fc')\"\n",
              "            title=\"Suggest charts\"\n",
              "            style=\"display:none;\">\n",
              "\n",
              "<svg xmlns=\"http://www.w3.org/2000/svg\" height=\"24px\"viewBox=\"0 0 24 24\"\n",
              "     width=\"24px\">\n",
              "    <g>\n",
              "        <path d=\"M19 3H5c-1.1 0-2 .9-2 2v14c0 1.1.9 2 2 2h14c1.1 0 2-.9 2-2V5c0-1.1-.9-2-2-2zM9 17H7v-7h2v7zm4 0h-2V7h2v10zm4 0h-2v-4h2v4z\"/>\n",
              "    </g>\n",
              "</svg>\n",
              "  </button>\n",
              "\n",
              "<style>\n",
              "  .colab-df-quickchart {\n",
              "      --bg-color: #E8F0FE;\n",
              "      --fill-color: #1967D2;\n",
              "      --hover-bg-color: #E2EBFA;\n",
              "      --hover-fill-color: #174EA6;\n",
              "      --disabled-fill-color: #AAA;\n",
              "      --disabled-bg-color: #DDD;\n",
              "  }\n",
              "\n",
              "  [theme=dark] .colab-df-quickchart {\n",
              "      --bg-color: #3B4455;\n",
              "      --fill-color: #D2E3FC;\n",
              "      --hover-bg-color: #434B5C;\n",
              "      --hover-fill-color: #FFFFFF;\n",
              "      --disabled-bg-color: #3B4455;\n",
              "      --disabled-fill-color: #666;\n",
              "  }\n",
              "\n",
              "  .colab-df-quickchart {\n",
              "    background-color: var(--bg-color);\n",
              "    border: none;\n",
              "    border-radius: 50%;\n",
              "    cursor: pointer;\n",
              "    display: none;\n",
              "    fill: var(--fill-color);\n",
              "    height: 32px;\n",
              "    padding: 0;\n",
              "    width: 32px;\n",
              "  }\n",
              "\n",
              "  .colab-df-quickchart:hover {\n",
              "    background-color: var(--hover-bg-color);\n",
              "    box-shadow: 0 1px 2px rgba(60, 64, 67, 0.3), 0 1px 3px 1px rgba(60, 64, 67, 0.15);\n",
              "    fill: var(--button-hover-fill-color);\n",
              "  }\n",
              "\n",
              "  .colab-df-quickchart-complete:disabled,\n",
              "  .colab-df-quickchart-complete:disabled:hover {\n",
              "    background-color: var(--disabled-bg-color);\n",
              "    fill: var(--disabled-fill-color);\n",
              "    box-shadow: none;\n",
              "  }\n",
              "\n",
              "  .colab-df-spinner {\n",
              "    border: 2px solid var(--fill-color);\n",
              "    border-color: transparent;\n",
              "    border-bottom-color: var(--fill-color);\n",
              "    animation:\n",
              "      spin 1s steps(1) infinite;\n",
              "  }\n",
              "\n",
              "  @keyframes spin {\n",
              "    0% {\n",
              "      border-color: transparent;\n",
              "      border-bottom-color: var(--fill-color);\n",
              "      border-left-color: var(--fill-color);\n",
              "    }\n",
              "    20% {\n",
              "      border-color: transparent;\n",
              "      border-left-color: var(--fill-color);\n",
              "      border-top-color: var(--fill-color);\n",
              "    }\n",
              "    30% {\n",
              "      border-color: transparent;\n",
              "      border-left-color: var(--fill-color);\n",
              "      border-top-color: var(--fill-color);\n",
              "      border-right-color: var(--fill-color);\n",
              "    }\n",
              "    40% {\n",
              "      border-color: transparent;\n",
              "      border-right-color: var(--fill-color);\n",
              "      border-top-color: var(--fill-color);\n",
              "    }\n",
              "    60% {\n",
              "      border-color: transparent;\n",
              "      border-right-color: var(--fill-color);\n",
              "    }\n",
              "    80% {\n",
              "      border-color: transparent;\n",
              "      border-right-color: var(--fill-color);\n",
              "      border-bottom-color: var(--fill-color);\n",
              "    }\n",
              "    90% {\n",
              "      border-color: transparent;\n",
              "      border-bottom-color: var(--fill-color);\n",
              "    }\n",
              "  }\n",
              "</style>\n",
              "\n",
              "  <script>\n",
              "    async function quickchart(key) {\n",
              "      const quickchartButtonEl =\n",
              "        document.querySelector('#' + key + ' button');\n",
              "      quickchartButtonEl.disabled = true;  // To prevent multiple clicks.\n",
              "      quickchartButtonEl.classList.add('colab-df-spinner');\n",
              "      try {\n",
              "        const charts = await google.colab.kernel.invokeFunction(\n",
              "            'suggestCharts', [key], {});\n",
              "      } catch (error) {\n",
              "        console.error('Error during call to suggestCharts:', error);\n",
              "      }\n",
              "      quickchartButtonEl.classList.remove('colab-df-spinner');\n",
              "      quickchartButtonEl.classList.add('colab-df-quickchart-complete');\n",
              "    }\n",
              "    (() => {\n",
              "      let quickchartButtonEl =\n",
              "        document.querySelector('#df-4df37915-1a5a-4750-b2dd-065ed27263fc button');\n",
              "      quickchartButtonEl.style.display =\n",
              "        google.colab.kernel.accessAllowed ? 'block' : 'none';\n",
              "    })();\n",
              "  </script>\n",
              "</div>\n",
              "    </div>\n",
              "  </div>\n"
            ]
          },
          "metadata": {},
          "execution_count": 83
        }
      ]
    }
  ],
  "metadata": {
    "colab": {
      "provenance": [],
      "include_colab_link": true
    },
    "kernelspec": {
      "display_name": "Python 3 (ipykernel)",
      "language": "python",
      "name": "python3"
    },
    "language_info": {
      "codemirror_mode": {
        "name": "ipython",
        "version": 3
      },
      "file_extension": ".py",
      "mimetype": "text/x-python",
      "name": "python",
      "nbconvert_exporter": "python",
      "pygments_lexer": "ipython3",
      "version": "3.9.10"
    }
  },
  "nbformat": 4,
  "nbformat_minor": 0
}