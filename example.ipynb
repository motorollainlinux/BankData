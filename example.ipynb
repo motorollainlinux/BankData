{
  "cells": [
    {
      "cell_type": "markdown",
      "metadata": {
        "id": "G4X2ZDUzu3t-",
        "pycharm": {
          "name": "#%% md\n"
        }
      },
      "source": [
        "# День 00 – Сбор и очистка данных"
      ]
    },
    {
      "cell_type": "markdown",
      "metadata": {
        "pycharm": {
          "name": "#%% md\n"
        },
        "id": "KE1bTbwvA825"
      },
      "source": [
        " Добро пожаловать в Jupyter Notebook! Это тот инструмент, в котором дата сайентисты проводят больше всего времени, работая с данными при помощи кода на Python. Здесь очень удобно работать в интерактивном режиме, запуская отдельные ячейки, а не весь код сразу и полностью. Тут же можно делать и отчеты, поскольку помимо кода, здесь удобно строить графики и писать текст."
      ]
    },
    {
      "cell_type": "markdown",
      "metadata": {
        "id": "nGSsI7ysu3uC",
        "pycharm": {
          "name": "#%% md\n"
        }
      },
      "source": [
        "Мы понимаем, что вы не программисты и скорее всего не планируете ими стать, поэтому насколько это возможно мы будем сопровождать такие ноутбуки комментариями и полезными командами, которые могут вам пригодиться для решения задачи. Но естественно здесь будет не всё: что-то вам придется поискать самостоятельно в интернете. Такова уж методология Школы 21, и она приносит свои плоды."
      ]
    },
    {
      "cell_type": "markdown",
      "metadata": {
        "pycharm": {
          "name": "#%% md\n"
        },
        "id": "wNoJxTlfA826"
      },
      "source": [
        "## 0. Импорт библиотек"
      ]
    },
    {
      "cell_type": "markdown",
      "metadata": {
        "pycharm": {
          "name": "#%% md\n"
        },
        "id": "TbOeuMbdA826"
      },
      "source": [
        "Библиотека – это по сути набор полезных функций и методов, которые написали одни программисты, а другие программисты могут уже не писать их с нуля, а пользоваться готовыми. Например, вы хотите посчитать среднее арифметическое значение по ряду. Вы можете самостоятельно написать код, который посчитает сумму по ряду и поделит на количество элементов в ряду, а можете импортировать библиотеку, где уже есть эта функция и воспользоваться ею. Это сэкономит вам время, силы, и код будет менее объемным.\n",
        "\n",
        "Ниже мы импортируем широко используемую библиотеку Pandas. В ней есть много полезных функций для работы с табличными данными. Почти Excel, только взаимодействие с ним через код на Python. Мы будем пользоваться этой библиотекой в течение всего курса."
      ]
    },
    {
      "cell_type": "code",
      "execution_count": null,
      "metadata": {
        "jupyter": {
          "outputs_hidden": false
        },
        "pycharm": {
          "name": "#%%\n"
        },
        "id": "hrPX4wb1A826"
      },
      "outputs": [],
      "source": [
        "import pandas as pd #мы будем часто пользоваться методами этой библиотеки, поэтому введем для нее сокращенное название – pd\n",
        "import numpy as np"
      ]
    },
    {
      "cell_type": "markdown",
      "metadata": {
        "id": "48CHlvSNA827"
      },
      "source": [
        "Давайте познакомимся с библиотекой Pandas. Pandas - это библиотека языка Python, который предоставляет быстрые, гибкие и выразительные структуры данных, разработанные для того, чтобы сделать работу с табличными данными простой и интуитивно понятной."
      ]
    },
    {
      "cell_type": "markdown",
      "metadata": {
        "pycharm": {
          "name": "#%% md\n"
        },
        "id": "Q9LPyJDGA827"
      },
      "source": [
        "## 1. Загрузка данных"
      ]
    },
    {
      "cell_type": "code",
      "execution_count": null,
      "metadata": {
        "id": "o9LpYE15A827"
      },
      "outputs": [],
      "source": [
        "df1 = pd.read_csv('../datasets/dataset_1.csv') #указываем путь к файлу\n",
        "df1.head() #посмотрим несколько первых строк получившегося датафрейма\n",
        "ptd1 = pd.read_csv('../datasets/part_01.csv')\n",
        "ptd2 = pd.read_csv('../datasets/part_02.csv')\n",
        "ptd3 = pd.read_csv('../datasets/part_03.csv')\n",
        "ptd4 = pd.read_csv('../datasets/part_04.csv')\n",
        "ptd5 = pd.read_csv('../datasets/part_05.csv')\n",
        "ptd6 = pd.read_csv('../datasets/part_06.csv')\n",
        "ptd7 = pd.read_csv('../datasets/part_07.csv')\n",
        "ptd8 = pd.read_csv('../datasets/part_08.csv')\n",
        "ptd9 = pd.read_csv('../datasets/part_09.csv')\n",
        "ptd10 = pd.read_csv('../datasets/part_10.csv')\n",
        "ptd11 = pd.read_csv('../datasets/part_11.csv')\n",
        "ptd12 = pd.read_csv('../datasets/part_12.csv')"
      ]
    },
    {
      "cell_type": "code",
      "execution_count": null,
      "metadata": {
        "id": "K0vFzjCEA827",
        "outputId": "53f154fb-955e-4a2e-ee3e-31ec5f5c77f4"
      },
      "outputs": [
        {
          "data": {
            "text/html": [
              "<div>\n",
              "<style scoped>\n",
              "    .dataframe tbody tr th:only-of-type {\n",
              "        vertical-align: middle;\n",
              "    }\n",
              "\n",
              "    .dataframe tbody tr th {\n",
              "        vertical-align: top;\n",
              "    }\n",
              "\n",
              "    .dataframe thead th {\n",
              "        text-align: right;\n",
              "    }\n",
              "</style>\n",
              "<table border=\"1\" class=\"dataframe\">\n",
              "  <thead>\n",
              "    <tr style=\"text-align: right;\">\n",
              "      <th></th>\n",
              "      <th>version https://git-lfs.github.com/spec/v1</th>\n",
              "    </tr>\n",
              "  </thead>\n",
              "  <tbody>\n",
              "    <tr>\n",
              "      <th>0</th>\n",
              "      <td>oid sha256:fade9e846afa2931d45d997fb0b8a509364...</td>\n",
              "    </tr>\n",
              "    <tr>\n",
              "      <th>1</th>\n",
              "      <td>size 273</td>\n",
              "    </tr>\n",
              "  </tbody>\n",
              "</table>\n",
              "</div>"
            ],
            "text/plain": [
              "          version https://git-lfs.github.com/spec/v1\n",
              "0  oid sha256:fade9e846afa2931d45d997fb0b8a509364...\n",
              "1                                           size 273"
            ]
          },
          "execution_count": 4,
          "metadata": {},
          "output_type": "execute_result"
        }
      ],
      "source": [
        "df = pd.read_csv('../datasets/dataset_2.csv')\n",
        "df.head()"
      ]
    },
    {
      "cell_type": "markdown",
      "metadata": {
        "pycharm": {
          "name": "#%% md\n"
        },
        "id": "K_3KAJw_A828"
      },
      "source": [
        "Если всё получилось, то вы увидите небольшой кусок таблицы: шапку, первые пять строчек"
      ]
    },
    {
      "cell_type": "markdown",
      "metadata": {
        "id": "ezHQwNeAA828"
      },
      "source": [
        "Загрузим еще несколько датасетов"
      ]
    },
    {
      "cell_type": "code",
      "execution_count": null,
      "metadata": {
        "id": "nv5Ox9n-A828"
      },
      "outputs": [],
      "source": [
        "df2 = pd.read_csv('../datasets/dataset_2.csv')"
      ]
    },
    {
      "cell_type": "code",
      "execution_count": null,
      "metadata": {
        "id": "7sVIWCQRA828",
        "outputId": "54c5e17a-03f8-4046-806a-5af8e7bebc4c"
      },
      "outputs": [
        {
          "data": {
            "text/html": [
              "<div>\n",
              "<style scoped>\n",
              "    .dataframe tbody tr th:only-of-type {\n",
              "        vertical-align: middle;\n",
              "    }\n",
              "\n",
              "    .dataframe tbody tr th {\n",
              "        vertical-align: top;\n",
              "    }\n",
              "\n",
              "    .dataframe thead th {\n",
              "        text-align: right;\n",
              "    }\n",
              "</style>\n",
              "<table border=\"1\" class=\"dataframe\">\n",
              "  <thead>\n",
              "    <tr style=\"text-align: right;\">\n",
              "      <th></th>\n",
              "      <th>ID</th>\n",
              "      <th>AMOUNT_RUB_SUP_PRC</th>\n",
              "      <th>CNT_TRAN_ATM_TENDENCY1M</th>\n",
              "      <th>APP_COMP_TYPE</th>\n",
              "    </tr>\n",
              "  </thead>\n",
              "  <tbody>\n",
              "    <tr>\n",
              "      <th>0</th>\n",
              "      <td>358628</td>\n",
              "      <td>0.030183</td>\n",
              "      <td>0.216216</td>\n",
              "      <td>NaN</td>\n",
              "    </tr>\n",
              "    <tr>\n",
              "      <th>1</th>\n",
              "      <td>528730</td>\n",
              "      <td>NaN</td>\n",
              "      <td>NaN</td>\n",
              "      <td>PRIVATE</td>\n",
              "    </tr>\n",
              "    <tr>\n",
              "      <th>2</th>\n",
              "      <td>160451</td>\n",
              "      <td>0.000765</td>\n",
              "      <td>NaN</td>\n",
              "      <td>STATE</td>\n",
              "    </tr>\n",
              "    <tr>\n",
              "      <th>3</th>\n",
              "      <td>210467</td>\n",
              "      <td>0.009256</td>\n",
              "      <td>NaN</td>\n",
              "      <td>PRIVATE</td>\n",
              "    </tr>\n",
              "    <tr>\n",
              "      <th>4</th>\n",
              "      <td>211110</td>\n",
              "      <td>0.023359</td>\n",
              "      <td>0.238095</td>\n",
              "      <td>PRIVATE</td>\n",
              "    </tr>\n",
              "    <tr>\n",
              "      <th>5</th>\n",
              "      <td>333131</td>\n",
              "      <td>0.045329</td>\n",
              "      <td>0.400000</td>\n",
              "      <td>NaN</td>\n",
              "    </tr>\n",
              "  </tbody>\n",
              "</table>\n",
              "</div>"
            ],
            "text/plain": [
              "       ID  AMOUNT_RUB_SUP_PRC  CNT_TRAN_ATM_TENDENCY1M APP_COMP_TYPE\n",
              "0  358628            0.030183                 0.216216           NaN\n",
              "1  528730                 NaN                      NaN       PRIVATE\n",
              "2  160451            0.000765                      NaN         STATE\n",
              "3  210467            0.009256                      NaN       PRIVATE\n",
              "4  211110            0.023359                 0.238095       PRIVATE\n",
              "5  333131            0.045329                 0.400000           NaN"
            ]
          },
          "execution_count": 4,
          "metadata": {},
          "output_type": "execute_result"
        }
      ],
      "source": [
        "df2"
      ]
    },
    {
      "cell_type": "code",
      "execution_count": null,
      "metadata": {
        "id": "DoyZjrA_A828"
      },
      "outputs": [],
      "source": [
        "df3 = pd.read_csv('../datasets/dataset_3.csv') #указываем путь к файлу"
      ]
    },
    {
      "cell_type": "code",
      "execution_count": null,
      "metadata": {
        "id": "Juv7u3LxA829",
        "outputId": "42fdf53e-6f66-407b-ce68-ab83bee4cd85"
      },
      "outputs": [
        {
          "data": {
            "text/html": [
              "<div>\n",
              "<style scoped>\n",
              "    .dataframe tbody tr th:only-of-type {\n",
              "        vertical-align: middle;\n",
              "    }\n",
              "\n",
              "    .dataframe tbody tr th {\n",
              "        vertical-align: top;\n",
              "    }\n",
              "\n",
              "    .dataframe thead th {\n",
              "        text-align: right;\n",
              "    }\n",
              "</style>\n",
              "<table border=\"1\" class=\"dataframe\">\n",
              "  <thead>\n",
              "    <tr style=\"text-align: right;\">\n",
              "      <th></th>\n",
              "      <th>ID</th>\n",
              "      <th>AMOUNT_RUB_ATM_PRC</th>\n",
              "      <th>AMOUNT_RUB_CLO_PRC</th>\n",
              "      <th>AMOUNT_RUB_NAS_PRC</th>\n",
              "      <th>AMOUNT_RUB_SUP_PRC</th>\n",
              "      <th>CNT_TRAN_ATM_TENDENCY1M</th>\n",
              "      <th>APP_COMP_TYPE</th>\n",
              "    </tr>\n",
              "  </thead>\n",
              "  <tbody>\n",
              "    <tr>\n",
              "      <th>0</th>\n",
              "      <td>274285</td>\n",
              "      <td>0.998698</td>\n",
              "      <td>0.0</td>\n",
              "      <td>0.000000</td>\n",
              "      <td>0.000000</td>\n",
              "      <td>0.653846</td>\n",
              "      <td>NaN</td>\n",
              "    </tr>\n",
              "    <tr>\n",
              "      <th>1</th>\n",
              "      <td>577671</td>\n",
              "      <td>0.000000</td>\n",
              "      <td>0.0</td>\n",
              "      <td>0.036643</td>\n",
              "      <td>0.150664</td>\n",
              "      <td>NaN</td>\n",
              "      <td>NaN</td>\n",
              "    </tr>\n",
              "  </tbody>\n",
              "</table>\n",
              "</div>"
            ],
            "text/plain": [
              "       ID  AMOUNT_RUB_ATM_PRC  AMOUNT_RUB_CLO_PRC  AMOUNT_RUB_NAS_PRC  \\\n",
              "0  274285            0.998698                 0.0            0.000000   \n",
              "1  577671            0.000000                 0.0            0.036643   \n",
              "\n",
              "   AMOUNT_RUB_SUP_PRC  CNT_TRAN_ATM_TENDENCY1M  APP_COMP_TYPE  \n",
              "0            0.000000                 0.653846            NaN  \n",
              "1            0.150664                      NaN            NaN  "
            ]
          },
          "execution_count": 6,
          "metadata": {},
          "output_type": "execute_result"
        }
      ],
      "source": [
        "df3"
      ]
    },
    {
      "cell_type": "markdown",
      "metadata": {
        "pycharm": {
          "name": "#%% md\n"
        },
        "id": "ufuZJ3G5A829"
      },
      "source": [
        "## 2. Полезные команды"
      ]
    },
    {
      "cell_type": "markdown",
      "metadata": {
        "pycharm": {
          "name": "#%% md\n"
        },
        "id": "TRdee5LqA829"
      },
      "source": [
        "Ниже мы покажем несколько полезных команд, которые вам могут пригодиться для выполнения сегодняшнего задания."
      ]
    },
    {
      "cell_type": "markdown",
      "metadata": {
        "pycharm": {
          "name": "#%% md\n"
        },
        "id": "FzjIekiUA829"
      },
      "source": [
        "1. Узнать **названия полей** в датафрейме."
      ]
    },
    {
      "cell_type": "code",
      "execution_count": null,
      "metadata": {
        "jupyter": {
          "outputs_hidden": false
        },
        "pycharm": {
          "name": "#%%\n"
        },
        "id": "h8nDRnxTA829",
        "outputId": "1c37057f-d231-427d-d05a-4bb5afac989b"
      },
      "outputs": [
        {
          "data": {
            "text/plain": [
              "Index(['ID', 'AMOUNT_RUB_ATM_PRC', 'AMOUNT_RUB_CLO_PRC', 'AMOUNT_RUB_NAS_PRC',\n",
              "       'APP_COMP_TYPE'],\n",
              "      dtype='object')"
            ]
          },
          "execution_count": 7,
          "metadata": {},
          "output_type": "execute_result"
        }
      ],
      "source": [
        "df1.columns"
      ]
    },
    {
      "cell_type": "markdown",
      "metadata": {
        "pycharm": {
          "name": "#%% md\n"
        },
        "id": "7LjZWk2aA829"
      },
      "source": [
        "2. Присоединить датафрейм **справа**:"
      ]
    },
    {
      "cell_type": "code",
      "execution_count": null,
      "metadata": {
        "jupyter": {
          "outputs_hidden": false
        },
        "pycharm": {
          "name": "#%%\n"
        },
        "id": "C5jDw4nHA829"
      },
      "outputs": [],
      "source": [
        "df4 = df1.merge(df2, left_on='ID', right_on='ID') # выбираем ID в качестве ключа, по которому датафреймы будут объединяться"
      ]
    },
    {
      "cell_type": "code",
      "execution_count": null,
      "metadata": {
        "id": "DPkqAnfnA829",
        "outputId": "03ee0db7-1756-4639-b3fe-30e7b37ce6db"
      },
      "outputs": [
        {
          "data": {
            "text/html": [
              "<div>\n",
              "<style scoped>\n",
              "    .dataframe tbody tr th:only-of-type {\n",
              "        vertical-align: middle;\n",
              "    }\n",
              "\n",
              "    .dataframe tbody tr th {\n",
              "        vertical-align: top;\n",
              "    }\n",
              "\n",
              "    .dataframe thead th {\n",
              "        text-align: right;\n",
              "    }\n",
              "</style>\n",
              "<table border=\"1\" class=\"dataframe\">\n",
              "  <thead>\n",
              "    <tr style=\"text-align: right;\">\n",
              "      <th></th>\n",
              "      <th>ID</th>\n",
              "      <th>AMOUNT_RUB_ATM_PRC</th>\n",
              "      <th>AMOUNT_RUB_CLO_PRC</th>\n",
              "      <th>AMOUNT_RUB_NAS_PRC</th>\n",
              "      <th>APP_COMP_TYPE_x</th>\n",
              "      <th>AMOUNT_RUB_SUP_PRC</th>\n",
              "      <th>CNT_TRAN_ATM_TENDENCY1M</th>\n",
              "      <th>APP_COMP_TYPE_y</th>\n",
              "    </tr>\n",
              "  </thead>\n",
              "  <tbody>\n",
              "    <tr>\n",
              "      <th>0</th>\n",
              "      <td>358628</td>\n",
              "      <td>0.914453</td>\n",
              "      <td>0.003802</td>\n",
              "      <td>0.000000</td>\n",
              "      <td>NaN</td>\n",
              "      <td>0.030183</td>\n",
              "      <td>0.216216</td>\n",
              "      <td>NaN</td>\n",
              "    </tr>\n",
              "    <tr>\n",
              "      <th>1</th>\n",
              "      <td>528730</td>\n",
              "      <td>NaN</td>\n",
              "      <td>NaN</td>\n",
              "      <td>NaN</td>\n",
              "      <td>PRIVATE</td>\n",
              "      <td>NaN</td>\n",
              "      <td>NaN</td>\n",
              "      <td>PRIVATE</td>\n",
              "    </tr>\n",
              "    <tr>\n",
              "      <th>2</th>\n",
              "      <td>160451</td>\n",
              "      <td>0.989403</td>\n",
              "      <td>0.000239</td>\n",
              "      <td>0.000992</td>\n",
              "      <td>STATE</td>\n",
              "      <td>0.000765</td>\n",
              "      <td>NaN</td>\n",
              "      <td>STATE</td>\n",
              "    </tr>\n",
              "    <tr>\n",
              "      <th>3</th>\n",
              "      <td>210467</td>\n",
              "      <td>0.561584</td>\n",
              "      <td>0.000000</td>\n",
              "      <td>0.016932</td>\n",
              "      <td>PRIVATE</td>\n",
              "      <td>0.009256</td>\n",
              "      <td>NaN</td>\n",
              "      <td>PRIVATE</td>\n",
              "    </tr>\n",
              "    <tr>\n",
              "      <th>4</th>\n",
              "      <td>211110</td>\n",
              "      <td>0.909531</td>\n",
              "      <td>0.051183</td>\n",
              "      <td>0.000000</td>\n",
              "      <td>PRIVATE</td>\n",
              "      <td>0.023359</td>\n",
              "      <td>0.238095</td>\n",
              "      <td>PRIVATE</td>\n",
              "    </tr>\n",
              "    <tr>\n",
              "      <th>5</th>\n",
              "      <td>333131</td>\n",
              "      <td>0.485581</td>\n",
              "      <td>0.008142</td>\n",
              "      <td>0.000000</td>\n",
              "      <td>NaN</td>\n",
              "      <td>0.045329</td>\n",
              "      <td>0.400000</td>\n",
              "      <td>NaN</td>\n",
              "    </tr>\n",
              "  </tbody>\n",
              "</table>\n",
              "</div>"
            ],
            "text/plain": [
              "       ID  AMOUNT_RUB_ATM_PRC  AMOUNT_RUB_CLO_PRC  AMOUNT_RUB_NAS_PRC  \\\n",
              "0  358628            0.914453            0.003802            0.000000   \n",
              "1  528730                 NaN                 NaN                 NaN   \n",
              "2  160451            0.989403            0.000239            0.000992   \n",
              "3  210467            0.561584            0.000000            0.016932   \n",
              "4  211110            0.909531            0.051183            0.000000   \n",
              "5  333131            0.485581            0.008142            0.000000   \n",
              "\n",
              "  APP_COMP_TYPE_x  AMOUNT_RUB_SUP_PRC  CNT_TRAN_ATM_TENDENCY1M APP_COMP_TYPE_y  \n",
              "0             NaN            0.030183                 0.216216             NaN  \n",
              "1         PRIVATE                 NaN                      NaN         PRIVATE  \n",
              "2           STATE            0.000765                      NaN           STATE  \n",
              "3         PRIVATE            0.009256                      NaN         PRIVATE  \n",
              "4         PRIVATE            0.023359                 0.238095         PRIVATE  \n",
              "5             NaN            0.045329                 0.400000             NaN  "
            ]
          },
          "execution_count": 9,
          "metadata": {},
          "output_type": "execute_result"
        }
      ],
      "source": [
        "df4"
      ]
    },
    {
      "cell_type": "markdown",
      "metadata": {
        "pycharm": {
          "name": "#%% md\n"
        },
        "id": "cB_IhB3-A829"
      },
      "source": [
        "2. Присоединить датафрейм **снизу**:"
      ]
    },
    {
      "cell_type": "code",
      "execution_count": null,
      "metadata": {
        "jupyter": {
          "outputs_hidden": false
        },
        "pycharm": {
          "name": "#%%\n"
        },
        "id": "QthOGoGmA82-",
        "outputId": "e1ca6f8c-a1b8-4403-bf7c-36108ae3f1e8"
      },
      "outputs": [
        {
          "data": {
            "text/html": [
              "<div>\n",
              "<style scoped>\n",
              "    .dataframe tbody tr th:only-of-type {\n",
              "        vertical-align: middle;\n",
              "    }\n",
              "\n",
              "    .dataframe tbody tr th {\n",
              "        vertical-align: top;\n",
              "    }\n",
              "\n",
              "    .dataframe thead th {\n",
              "        text-align: right;\n",
              "    }\n",
              "</style>\n",
              "<table border=\"1\" class=\"dataframe\">\n",
              "  <thead>\n",
              "    <tr style=\"text-align: right;\">\n",
              "      <th></th>\n",
              "      <th>ID</th>\n",
              "      <th>AMOUNT_RUB_SUP_PRC</th>\n",
              "      <th>CNT_TRAN_ATM_TENDENCY1M</th>\n",
              "      <th>APP_COMP_TYPE</th>\n",
              "      <th>AMOUNT_RUB_ATM_PRC</th>\n",
              "      <th>AMOUNT_RUB_CLO_PRC</th>\n",
              "      <th>AMOUNT_RUB_NAS_PRC</th>\n",
              "      <th>APP_COMP_TYPE_x</th>\n",
              "      <th>APP_COMP_TYPE_y</th>\n",
              "    </tr>\n",
              "  </thead>\n",
              "  <tbody>\n",
              "    <tr>\n",
              "      <th>0</th>\n",
              "      <td>358628</td>\n",
              "      <td>0.030183</td>\n",
              "      <td>0.216216</td>\n",
              "      <td>NaN</td>\n",
              "      <td>NaN</td>\n",
              "      <td>NaN</td>\n",
              "      <td>NaN</td>\n",
              "      <td>NaN</td>\n",
              "      <td>NaN</td>\n",
              "    </tr>\n",
              "    <tr>\n",
              "      <th>1</th>\n",
              "      <td>528730</td>\n",
              "      <td>NaN</td>\n",
              "      <td>NaN</td>\n",
              "      <td>PRIVATE</td>\n",
              "      <td>NaN</td>\n",
              "      <td>NaN</td>\n",
              "      <td>NaN</td>\n",
              "      <td>NaN</td>\n",
              "      <td>NaN</td>\n",
              "    </tr>\n",
              "    <tr>\n",
              "      <th>2</th>\n",
              "      <td>160451</td>\n",
              "      <td>0.000765</td>\n",
              "      <td>NaN</td>\n",
              "      <td>STATE</td>\n",
              "      <td>NaN</td>\n",
              "      <td>NaN</td>\n",
              "      <td>NaN</td>\n",
              "      <td>NaN</td>\n",
              "      <td>NaN</td>\n",
              "    </tr>\n",
              "    <tr>\n",
              "      <th>3</th>\n",
              "      <td>210467</td>\n",
              "      <td>0.009256</td>\n",
              "      <td>NaN</td>\n",
              "      <td>PRIVATE</td>\n",
              "      <td>NaN</td>\n",
              "      <td>NaN</td>\n",
              "      <td>NaN</td>\n",
              "      <td>NaN</td>\n",
              "      <td>NaN</td>\n",
              "    </tr>\n",
              "    <tr>\n",
              "      <th>4</th>\n",
              "      <td>211110</td>\n",
              "      <td>0.023359</td>\n",
              "      <td>0.238095</td>\n",
              "      <td>PRIVATE</td>\n",
              "      <td>NaN</td>\n",
              "      <td>NaN</td>\n",
              "      <td>NaN</td>\n",
              "      <td>NaN</td>\n",
              "      <td>NaN</td>\n",
              "    </tr>\n",
              "    <tr>\n",
              "      <th>5</th>\n",
              "      <td>333131</td>\n",
              "      <td>0.045329</td>\n",
              "      <td>0.400000</td>\n",
              "      <td>NaN</td>\n",
              "      <td>NaN</td>\n",
              "      <td>NaN</td>\n",
              "      <td>NaN</td>\n",
              "      <td>NaN</td>\n",
              "      <td>NaN</td>\n",
              "    </tr>\n",
              "    <tr>\n",
              "      <th>6</th>\n",
              "      <td>358628</td>\n",
              "      <td>0.030183</td>\n",
              "      <td>0.216216</td>\n",
              "      <td>NaN</td>\n",
              "      <td>0.914453</td>\n",
              "      <td>0.003802</td>\n",
              "      <td>0.000000</td>\n",
              "      <td>NaN</td>\n",
              "      <td>NaN</td>\n",
              "    </tr>\n",
              "    <tr>\n",
              "      <th>7</th>\n",
              "      <td>528730</td>\n",
              "      <td>NaN</td>\n",
              "      <td>NaN</td>\n",
              "      <td>NaN</td>\n",
              "      <td>NaN</td>\n",
              "      <td>NaN</td>\n",
              "      <td>NaN</td>\n",
              "      <td>PRIVATE</td>\n",
              "      <td>PRIVATE</td>\n",
              "    </tr>\n",
              "    <tr>\n",
              "      <th>8</th>\n",
              "      <td>160451</td>\n",
              "      <td>0.000765</td>\n",
              "      <td>NaN</td>\n",
              "      <td>NaN</td>\n",
              "      <td>0.989403</td>\n",
              "      <td>0.000239</td>\n",
              "      <td>0.000992</td>\n",
              "      <td>STATE</td>\n",
              "      <td>STATE</td>\n",
              "    </tr>\n",
              "    <tr>\n",
              "      <th>9</th>\n",
              "      <td>210467</td>\n",
              "      <td>0.009256</td>\n",
              "      <td>NaN</td>\n",
              "      <td>NaN</td>\n",
              "      <td>0.561584</td>\n",
              "      <td>0.000000</td>\n",
              "      <td>0.016932</td>\n",
              "      <td>PRIVATE</td>\n",
              "      <td>PRIVATE</td>\n",
              "    </tr>\n",
              "    <tr>\n",
              "      <th>10</th>\n",
              "      <td>211110</td>\n",
              "      <td>0.023359</td>\n",
              "      <td>0.238095</td>\n",
              "      <td>NaN</td>\n",
              "      <td>0.909531</td>\n",
              "      <td>0.051183</td>\n",
              "      <td>0.000000</td>\n",
              "      <td>PRIVATE</td>\n",
              "      <td>PRIVATE</td>\n",
              "    </tr>\n",
              "    <tr>\n",
              "      <th>11</th>\n",
              "      <td>333131</td>\n",
              "      <td>0.045329</td>\n",
              "      <td>0.400000</td>\n",
              "      <td>NaN</td>\n",
              "      <td>0.485581</td>\n",
              "      <td>0.008142</td>\n",
              "      <td>0.000000</td>\n",
              "      <td>NaN</td>\n",
              "      <td>NaN</td>\n",
              "    </tr>\n",
              "  </tbody>\n",
              "</table>\n",
              "</div>"
            ],
            "text/plain": [
              "        ID  AMOUNT_RUB_SUP_PRC  CNT_TRAN_ATM_TENDENCY1M APP_COMP_TYPE  \\\n",
              "0   358628            0.030183                 0.216216           NaN   \n",
              "1   528730                 NaN                      NaN       PRIVATE   \n",
              "2   160451            0.000765                      NaN         STATE   \n",
              "3   210467            0.009256                      NaN       PRIVATE   \n",
              "4   211110            0.023359                 0.238095       PRIVATE   \n",
              "5   333131            0.045329                 0.400000           NaN   \n",
              "6   358628            0.030183                 0.216216           NaN   \n",
              "7   528730                 NaN                      NaN           NaN   \n",
              "8   160451            0.000765                      NaN           NaN   \n",
              "9   210467            0.009256                      NaN           NaN   \n",
              "10  211110            0.023359                 0.238095           NaN   \n",
              "11  333131            0.045329                 0.400000           NaN   \n",
              "\n",
              "    AMOUNT_RUB_ATM_PRC  AMOUNT_RUB_CLO_PRC  AMOUNT_RUB_NAS_PRC  \\\n",
              "0                  NaN                 NaN                 NaN   \n",
              "1                  NaN                 NaN                 NaN   \n",
              "2                  NaN                 NaN                 NaN   \n",
              "3                  NaN                 NaN                 NaN   \n",
              "4                  NaN                 NaN                 NaN   \n",
              "5                  NaN                 NaN                 NaN   \n",
              "6             0.914453            0.003802            0.000000   \n",
              "7                  NaN                 NaN                 NaN   \n",
              "8             0.989403            0.000239            0.000992   \n",
              "9             0.561584            0.000000            0.016932   \n",
              "10            0.909531            0.051183            0.000000   \n",
              "11            0.485581            0.008142            0.000000   \n",
              "\n",
              "   APP_COMP_TYPE_x APP_COMP_TYPE_y  \n",
              "0              NaN             NaN  \n",
              "1              NaN             NaN  \n",
              "2              NaN             NaN  \n",
              "3              NaN             NaN  \n",
              "4              NaN             NaN  \n",
              "5              NaN             NaN  \n",
              "6              NaN             NaN  \n",
              "7          PRIVATE         PRIVATE  \n",
              "8            STATE           STATE  \n",
              "9          PRIVATE         PRIVATE  \n",
              "10         PRIVATE         PRIVATE  \n",
              "11             NaN             NaN  "
            ]
          },
          "execution_count": 10,
          "metadata": {},
          "output_type": "execute_result"
        }
      ],
      "source": [
        "df5 = pd.concat([df2, df4], ignore_index=True)\n",
        "df5"
      ]
    },
    {
      "cell_type": "markdown",
      "metadata": {
        "pycharm": {
          "name": "#%% md\n"
        },
        "id": "_DF6zmoYA82-"
      },
      "source": [
        "Теперь перейдем к этапу очистки данных. Напомним: вам нужно значения текстовых полей привести к единообразию. То есть слова, написанные немного по-разному, привести к одному варианту их написания."
      ]
    },
    {
      "cell_type": "markdown",
      "metadata": {
        "pycharm": {
          "name": "#%% md\n"
        },
        "id": "vxO54wi4A82-"
      },
      "source": [
        "Ниже вы найдете перечень команд, которые помогут справиться с этим заданием по очистке полученного на предыдущем шаге датасета."
      ]
    },
    {
      "cell_type": "markdown",
      "metadata": {
        "pycharm": {
          "name": "#%% md\n"
        },
        "id": "N82viZDCA82-"
      },
      "source": [
        "4. Команда, которая поможет вам выявить, какие же поля являются текстовыми."
      ]
    },
    {
      "cell_type": "code",
      "execution_count": null,
      "metadata": {
        "jupyter": {
          "outputs_hidden": false
        },
        "pycharm": {
          "name": "#%%\n"
        },
        "id": "mr4IbcK_A82-",
        "outputId": "22738188-a929-4410-f3c4-c26060d32aae"
      },
      "outputs": [
        {
          "name": "stdout",
          "output_type": "stream",
          "text": [
            "<class 'pandas.core.frame.DataFrame'>\n",
            "RangeIndex: 12 entries, 0 to 11\n",
            "Data columns (total 9 columns):\n",
            " #   Column                   Non-Null Count  Dtype  \n",
            "---  ------                   --------------  -----  \n",
            " 0   ID                       12 non-null     int64  \n",
            " 1   AMOUNT_RUB_SUP_PRC       10 non-null     float64\n",
            " 2   CNT_TRAN_ATM_TENDENCY1M  6 non-null      float64\n",
            " 3   APP_COMP_TYPE            4 non-null      object \n",
            " 4   AMOUNT_RUB_ATM_PRC       5 non-null      float64\n",
            " 5   AMOUNT_RUB_CLO_PRC       5 non-null      float64\n",
            " 6   AMOUNT_RUB_NAS_PRC       5 non-null      float64\n",
            " 7   APP_COMP_TYPE_x          4 non-null      object \n",
            " 8   APP_COMP_TYPE_y          4 non-null      object \n",
            "dtypes: float64(5), int64(1), object(3)\n",
            "memory usage: 992.0+ bytes\n"
          ]
        }
      ],
      "source": [
        "df5.info(verbose=True)"
      ]
    },
    {
      "cell_type": "markdown",
      "metadata": {
        "pycharm": {
          "name": "#%% md\n"
        },
        "id": "bQ6lDSpmA82-"
      },
      "source": [
        "5. Команда, позволяющая посмотреть **список уникальных значений** в столбце:"
      ]
    },
    {
      "cell_type": "code",
      "execution_count": null,
      "metadata": {
        "jupyter": {
          "outputs_hidden": false
        },
        "pycharm": {
          "name": "#%%\n"
        },
        "id": "nVop7aN9A82-",
        "outputId": "9d08d522-ee48-44bd-9411-cd88ea098f40"
      },
      "outputs": [
        {
          "data": {
            "text/plain": [
              "array([nan, 'PRIVATE', 'STATE'], dtype=object)"
            ]
          },
          "execution_count": 12,
          "metadata": {},
          "output_type": "execute_result"
        }
      ],
      "source": [
        "df5.APP_COMP_TYPE.unique()"
      ]
    },
    {
      "cell_type": "markdown",
      "metadata": {
        "pycharm": {
          "name": "#%% md\n"
        },
        "id": "vGAfNKNtA82-"
      },
      "source": [
        " Она же, только представленная **в виде списка**. Бывает полезной, когда уникальных значений слишком много и в предыдущем варианте показываются не все из них. Плюс результат не содержит всякой лишней информации."
      ]
    },
    {
      "cell_type": "code",
      "execution_count": null,
      "metadata": {
        "jupyter": {
          "outputs_hidden": false
        },
        "pycharm": {
          "name": "#%%\n"
        },
        "id": "Cp20SAWCA82-",
        "outputId": "f8442e4d-2fe1-434a-e379-f413bfddeefc"
      },
      "outputs": [
        {
          "data": {
            "text/plain": [
              "[nan, 'PRIVATE', 'STATE']"
            ]
          },
          "execution_count": 13,
          "metadata": {},
          "output_type": "execute_result"
        }
      ],
      "source": [
        "list(df5.APP_COMP_TYPE.unique())"
      ]
    },
    {
      "cell_type": "markdown",
      "metadata": {
        "pycharm": {
          "name": "#%% md\n"
        },
        "id": "iBVZB9QvA82_"
      },
      "source": [
        "6. Команда, которая позволяет привести все значения признака в **в нижний регистр**:"
      ]
    },
    {
      "cell_type": "code",
      "execution_count": null,
      "metadata": {
        "jupyter": {
          "outputs_hidden": false
        },
        "pycharm": {
          "name": "#%%\n"
        },
        "id": "RQYoZE6LA82_"
      },
      "outputs": [],
      "source": [
        "df5.APP_COMP_TYPE = df5.APP_COMP_TYPE.str.lower() #недостаточно просто применить метод lower к столбцу, нужно как бы его перезаписать"
      ]
    },
    {
      "cell_type": "code",
      "execution_count": null,
      "metadata": {
        "jupyter": {
          "outputs_hidden": false
        },
        "pycharm": {
          "name": "#%%\n"
        },
        "id": "oQQUxuMjA82_",
        "outputId": "36875b17-47de-4926-cc12-8991a021b540"
      },
      "outputs": [
        {
          "data": {
            "text/plain": [
              "[nan, 'private', 'state']"
            ]
          },
          "execution_count": 15,
          "metadata": {},
          "output_type": "execute_result"
        }
      ],
      "source": [
        "list(df5.APP_COMP_TYPE.unique())"
      ]
    },
    {
      "cell_type": "markdown",
      "metadata": {
        "pycharm": {
          "name": "#%% md\n"
        },
        "id": "J0AsJU_uA82_"
      },
      "source": [
        "7. Команда, которая позволяет заменить значения в столбце на другие значения:"
      ]
    },
    {
      "cell_type": "code",
      "execution_count": null,
      "metadata": {
        "jupyter": {
          "outputs_hidden": false
        },
        "pycharm": {
          "name": "#%%\n"
        },
        "id": "e05X2bDQA82_"
      },
      "outputs": [],
      "source": [
        "df5.APP_COMP_TYPE.replace('state','гос',inplace=True)"
      ]
    },
    {
      "cell_type": "code",
      "execution_count": null,
      "metadata": {
        "jupyter": {
          "outputs_hidden": false
        },
        "pycharm": {
          "name": "#%%\n"
        },
        "id": "XPTsJQuWA82_",
        "outputId": "7728bd7e-cb5c-4e5f-daf7-df85d26f6d22"
      },
      "outputs": [
        {
          "data": {
            "text/plain": [
              "[nan, 'private', 'гос']"
            ]
          },
          "execution_count": 17,
          "metadata": {},
          "output_type": "execute_result"
        }
      ],
      "source": [
        "list(df5.APP_COMP_TYPE.unique())"
      ]
    },
    {
      "cell_type": "markdown",
      "metadata": {
        "pycharm": {
          "name": "#%% md\n"
        },
        "id": "WKli0hT6A83A"
      },
      "source": [
        "8. Команда, которая позволяет **отсортировать** значения в списке (может пригодиться, чтобы посмотреть на длинный список):"
      ]
    },
    {
      "cell_type": "code",
      "execution_count": null,
      "metadata": {
        "jupyter": {
          "outputs_hidden": false
        },
        "pycharm": {
          "name": "#%%\n"
        },
        "id": "uoLUB8TEA83A",
        "outputId": "4e24d4be-fb60-4659-f6da-a8aa1c8568da"
      },
      "outputs": [
        {
          "ename": "TypeError",
          "evalue": "'<' not supported between instances of 'str' and 'float'",
          "output_type": "error",
          "traceback": [
            "\u001b[0;31m---------------------------------------------------------------------------\u001b[0m",
            "\u001b[0;31mTypeError\u001b[0m                                 Traceback (most recent call last)",
            "\u001b[0;32m/var/folders/05/_5jlrw8d0qn32lkr9k4_3jjw0000gn/T/ipykernel_32979/1690491859.py\u001b[0m in \u001b[0;36m<module>\u001b[0;34m\u001b[0m\n\u001b[0;32m----> 1\u001b[0;31m \u001b[0mlist\u001b[0m\u001b[0;34m(\u001b[0m\u001b[0mdf5\u001b[0m\u001b[0;34m.\u001b[0m\u001b[0mAPP_COMP_TYPE\u001b[0m\u001b[0;34m.\u001b[0m\u001b[0munique\u001b[0m\u001b[0;34m(\u001b[0m\u001b[0;34m)\u001b[0m\u001b[0;34m)\u001b[0m\u001b[0;34m.\u001b[0m\u001b[0msort\u001b[0m\u001b[0;34m(\u001b[0m\u001b[0;34m)\u001b[0m\u001b[0;34m\u001b[0m\u001b[0;34m\u001b[0m\u001b[0m\n\u001b[0m",
            "\u001b[0;31mTypeError\u001b[0m: '<' not supported between instances of 'str' and 'float'"
          ]
        }
      ],
      "source": [
        "list(df5.APP_COMP_TYPE.unique()).sort()"
      ]
    },
    {
      "cell_type": "markdown",
      "metadata": {
        "pycharm": {
          "name": "#%% md\n"
        },
        "id": "r7kk8MJoA83A"
      },
      "source": [
        "После нее выведется ошибка, потому что в списке есть nan – специальный тип данных, обозначающий пустое значение. По этой причине не может отсортировать список: все значения текстовые, а одно значение nan. Нужно этот nan удалить из списка уникальных значений, чтобы не мешался. Не будем вдаваться в подробности почему ниже команда выглядит именно так. Она приводит нас к результату."
      ]
    },
    {
      "cell_type": "code",
      "execution_count": null,
      "metadata": {
        "pycharm": {
          "name": "#%% md\n"
        },
        "id": "yPfInxNyA83A",
        "outputId": "565f9d9c-e701-4924-fd41-4fa626bc4f5c"
      },
      "outputs": [
        {
          "data": {
            "text/plain": [
              "['private', 'гос']"
            ]
          },
          "execution_count": 19,
          "metadata": {},
          "output_type": "execute_result"
        }
      ],
      "source": [
        "spisok = [x for x in list(df5.APP_COMP_TYPE.unique()) if x == x]\n",
        "spisok.sort()\n",
        "spisok"
      ]
    },
    {
      "cell_type": "markdown",
      "metadata": {
        "pycharm": {
          "name": "#%% md\n"
        },
        "id": "0VdKAAHNA83A"
      },
      "source": [
        "9. Команда, которая помогает **удалить из текстового поля числовые значения**, короткие значения, значения, где есть знаки препинания."
      ]
    },
    {
      "cell_type": "code",
      "execution_count": null,
      "metadata": {
        "jupyter": {
          "outputs_hidden": false
        },
        "pycharm": {
          "name": "#%%\n"
        },
        "id": "tywmLFLzA83A"
      },
      "outputs": [],
      "source": [
        "df5.APP_COMP_TYPE.where(df5.APP_COMP_TYPE.str.replace(' ','').str.isalpha(), np.nan, inplace=True)"
      ]
    },
    {
      "cell_type": "markdown",
      "metadata": {
        "id": "1o090lgxu3uK",
        "pycharm": {
          "name": "#%% md\n"
        }
      },
      "source": [
        "Если вам не хватает команд, представленных в этом ноутбуке, то вы можете **самостоятельно воспользоваться поиском в Google**.\n",
        "\n",
        "    \"pandas how to save a csv-file with header\"\n",
        "    \n",
        "    \"pandas how to save a csv-file with header\"\n",
        "     \n",
        "    \"pandas how to compare values of two columns\""
      ]
    },
    {
      "cell_type": "markdown",
      "metadata": {
        "id": "t14ECHnDu3uL",
        "pycharm": {
          "name": "#%% md\n"
        }
      },
      "source": [
        "## 3. Самостоятельная часть"
      ]
    },
    {
      "cell_type": "markdown",
      "metadata": {
        "id": "5Pnmm1v-u3uL",
        "pycharm": {
          "name": "#%% md\n"
        }
      },
      "source": [
        "Ниже вам нужно самим собрать целиком датасет из разрозненных кусков и почистить датасет в части текстовых полей."
      ]
    },
    {
      "cell_type": "markdown",
      "metadata": {
        "id": "3pWgxmSMA83B"
      },
      "source": [
        "### 3.1 Объединение датасета\n",
        "Вам нужно собрать полный датасет, собранный из частей датасета всех участников.\n",
        "1. Датасет должен содержать в шапке названия полей.\n",
        "2. Датасет не должен содержать лишних столбцов – только те, что были представлены в частях датасета.\n",
        "3. Датасет должен быть отсортирован по возрастанию значений поля `ID`.\n",
        "4. В датасете не должно быть дублирующихся строк и столбцов."
      ]
    },
    {
      "cell_type": "markdown",
      "metadata": {
        "id": "zM1maJ5NA83B"
      },
      "source": [
        "5. Выведете первые 10 строк объединенного датасета"
      ]
    },
    {
      "cell_type": "markdown",
      "metadata": {
        "id": "fCpCZqCMu3uM",
        "pycharm": {
          "name": "#%%\n"
        }
      },
      "source": [
        "6. Выведите количество столбцов и колонок в объединенном датасете"
      ]
    },
    {
      "cell_type": "code",
      "execution_count": 27,
      "metadata": {
        "id": "XtKNngqOA83B",
        "outputId": "57419885-6324-47d5-8346-a60429a43a2f",
        "colab": {
          "base_uri": "https://localhost:8080/"
        }
      },
      "outputs": [
        {
          "output_type": "stream",
          "name": "stdout",
          "text": [
            "ptd 1 \n",
            "\n",
            "<class 'pandas.core.frame.DataFrame'>\n",
            "RangeIndex: 177595 entries, 0 to 177594\n",
            "Data columns (total 30 columns):\n",
            " #   Column                   Non-Null Count   Dtype  \n",
            "---  ------                   --------------   -----  \n",
            " 0   ID                       177595 non-null  int64  \n",
            " 1   AMOUNT_RUB_ATM_PRC       158449 non-null  float64\n",
            " 2   AMOUNT_RUB_CLO_PRC       158449 non-null  float64\n",
            " 3   AMOUNT_RUB_NAS_PRC       158449 non-null  float64\n",
            " 4   AMOUNT_RUB_SUP_PRC       158449 non-null  float64\n",
            " 5   CNT_TRAN_ATM_TENDENCY1M  103065 non-null  float64\n",
            " 6   CNT_TRAN_ATM_TENDENCY3M  127814 non-null  float64\n",
            " 7   CNT_TRAN_AUT_TENDENCY1M  38697 non-null   float64\n",
            " 8   CNT_TRAN_AUT_TENDENCY3M  55499 non-null   float64\n",
            " 9   CNT_TRAN_CLO_TENDENCY1M  32838 non-null   float64\n",
            " 10  CNT_TRAN_CLO_TENDENCY3M  57049 non-null   float64\n",
            " 11  CNT_TRAN_MED_TENDENCY1M  34600 non-null   float64\n",
            " 12  CNT_TRAN_MED_TENDENCY3M  57872 non-null   float64\n",
            " 13  CNT_TRAN_SUP_TENDENCY1M  77836 non-null   float64\n",
            " 14  CNT_TRAN_SUP_TENDENCY3M  99138 non-null   float64\n",
            " 15  SUM_TRAN_ATM_TENDENCY1M  103065 non-null  float64\n",
            " 16  SUM_TRAN_ATM_TENDENCY3M  127814 non-null  float64\n",
            " 17  SUM_TRAN_AUT_TENDENCY1M  38697 non-null   float64\n",
            " 18  SUM_TRAN_AUT_TENDENCY3M  55499 non-null   float64\n",
            " 19  SUM_TRAN_CLO_TENDENCY1M  32838 non-null   float64\n",
            " 20  SUM_TRAN_CLO_TENDENCY3M  57049 non-null   float64\n",
            " 21  SUM_TRAN_MED_TENDENCY1M  34600 non-null   float64\n",
            " 22  SUM_TRAN_MED_TENDENCY3M  57872 non-null   float64\n",
            " 23  SUM_TRAN_SUP_TENDENCY1M  77836 non-null   float64\n",
            " 24  SUM_TRAN_SUP_TENDENCY3M  99138 non-null   float64\n",
            " 25  TRANS_AMOUNT_TENDENCY3M  151583 non-null  float64\n",
            " 26  TRANS_CNT_TENDENCY3M     151583 non-null  float64\n",
            " 27  TRANS_COUNT_ATM_PRC      158449 non-null  float64\n",
            " 28  TRANS_COUNT_NAS_PRC      158449 non-null  float64\n",
            " 29  TRANS_COUNT_SUP_PRC      158449 non-null  float64\n",
            "dtypes: float64(29), int64(1)\n",
            "memory usage: 40.6 MB\n",
            "ptd 2 \n",
            "\n",
            "<class 'pandas.core.frame.DataFrame'>\n",
            "RangeIndex: 177595 entries, 0 to 177594\n",
            "Data columns (total 12 columns):\n",
            " #   Column                       Non-Null Count   Dtype  \n",
            "---  ------                       --------------   -----  \n",
            " 0   ID                           177595 non-null  int64  \n",
            " 1   AGE                          177595 non-null  int64  \n",
            " 2   APP_CAR                      28696 non-null   object \n",
            " 3   APP_COMP_TYPE                33717 non-null   object \n",
            " 4   APP_DRIVING_LICENSE          28696 non-null   object \n",
            " 5   APP_EDUCATION                34111 non-null   object \n",
            " 6   APP_EMP_TYPE                 33717 non-null   object \n",
            " 7   APP_KIND_OF_PROP_HABITATION  29712 non-null   object \n",
            " 8   APP_MARITAL_STATUS           34174 non-null   object \n",
            " 9   APP_POSITION_TYPE            30297 non-null   object \n",
            " 10  APP_REGISTR_RGN_CODE         30383 non-null   float64\n",
            " 11  APP_TRAVEL_PASS              28696 non-null   object \n",
            "dtypes: float64(1), int64(2), object(9)\n",
            "memory usage: 16.3+ MB\n",
            "ptd 3 \n",
            "\n",
            "<class 'pandas.core.frame.DataFrame'>\n",
            "RangeIndex: 177595 entries, 0 to 177594\n",
            "Data columns (total 30 columns):\n",
            " #   Column                      Non-Null Count   Dtype  \n",
            "---  ------                      --------------   -----  \n",
            " 0   ID                          177595 non-null  int64  \n",
            " 1   AVG_PCT_DEBT_TO_DEAL_AMT    953 non-null     float64\n",
            " 2   AVG_PCT_MONTH_TO_PCLOSE     822 non-null     float64\n",
            " 3   DEAL_GRACE_DAYS_ACC_AVG     34530 non-null   float64\n",
            " 4   DEAL_GRACE_DAYS_ACC_MAX     34530 non-null   float64\n",
            " 5   DEAL_GRACE_DAYS_ACC_S1X1    35027 non-null   float64\n",
            " 6   DEAL_YQZ_IR_MAX             4056 non-null    float64\n",
            " 7   DEAL_YQZ_IR_MIN             4056 non-null    float64\n",
            " 8   DEAL_YWZ_IR_MAX             47683 non-null   float64\n",
            " 9   DEAL_YWZ_IR_MIN             47683 non-null   float64\n",
            " 10  LDEAL_ACT_DAYS_ACC_PCT_AVG  46560 non-null   float64\n",
            " 11  LDEAL_ACT_DAYS_PCT_AAVG     48960 non-null   float64\n",
            " 12  LDEAL_ACT_DAYS_PCT_CURR     46560 non-null   float64\n",
            " 13  LDEAL_ACT_DAYS_PCT_TR       46560 non-null   float64\n",
            " 14  LDEAL_ACT_DAYS_PCT_TR3      46560 non-null   float64\n",
            " 15  LDEAL_ACT_DAYS_PCT_TR4      46560 non-null   float64\n",
            " 16  LDEAL_AMT_MONTH             953 non-null     float64\n",
            " 17  LDEAL_DELINQ_PER_MAXYQZ     4056 non-null    float64\n",
            " 18  LDEAL_DELINQ_PER_MAXYWZ     47683 non-null   float64\n",
            " 19  LDEAL_GRACE_DAYS_PCT_MED    177595 non-null  float64\n",
            " 20  LDEAL_TENOR_MAX             4056 non-null    float64\n",
            " 21  LDEAL_TENOR_MIN             4056 non-null    float64\n",
            " 22  LDEAL_USED_AMT_AVG_YQZ      4056 non-null    float64\n",
            " 23  LDEAL_USED_AMT_AVG_YWZ      47683 non-null   float64\n",
            " 24  LDEAL_YQZ_CHRG              625 non-null     float64\n",
            " 25  LDEAL_YQZ_COM               628 non-null     float64\n",
            " 26  LDEAL_YQZ_PC                1415 non-null    float64\n",
            " 27  MAX_PCLOSE_DATE             950 non-null     float64\n",
            " 28  MED_DEBT_PRC_YQZ            4056 non-null    float64\n",
            " 29  MED_DEBT_PRC_YWZ            47683 non-null   float64\n",
            "dtypes: float64(29), int64(1)\n",
            "memory usage: 40.6 MB\n",
            "ptd 4 \n",
            "\n",
            "<class 'pandas.core.frame.DataFrame'>\n",
            "RangeIndex: 177595 entries, 0 to 177594\n",
            "Data columns (total 14 columns):\n",
            " #   Column                  Non-Null Count   Dtype  \n",
            "---  ------                  --------------   -----  \n",
            " 0   ID                      177595 non-null  int64  \n",
            " 1   CLNT_JOB_POSITION       105294 non-null  object \n",
            " 2   CLNT_JOB_POSITION_TYPE  22236 non-null   object \n",
            " 3   CLNT_SALARY_VALUE       337 non-null     float64\n",
            " 4   CLNT_SETUP_TENOR        177595 non-null  float64\n",
            " 5   CLNT_TRUST_RELATION     34575 non-null   object \n",
            " 6   CR_PROD_CNT_CC          177595 non-null  int64  \n",
            " 7   CR_PROD_CNT_CCFP        177595 non-null  int64  \n",
            " 8   CR_PROD_CNT_IL          177595 non-null  int64  \n",
            " 9   CR_PROD_CNT_PIL         177595 non-null  int64  \n",
            " 10  CR_PROD_CNT_TOVR        177595 non-null  int64  \n",
            " 11  CR_PROD_CNT_VCU         177595 non-null  int64  \n",
            " 12  PACK                    177595 non-null  object \n",
            " 13  TARGET                  177595 non-null  int64  \n",
            "dtypes: float64(2), int64(8), object(4)\n",
            "memory usage: 19.0+ MB\n",
            "ptd 5 \n",
            "\n",
            "<class 'pandas.core.frame.DataFrame'>\n",
            "RangeIndex: 177595 entries, 0 to 177594\n",
            "Data columns (total 11 columns):\n",
            " #   Column                    Non-Null Count   Dtype  \n",
            "---  ------                    --------------   -----  \n",
            " 0   ID                        177595 non-null  int64  \n",
            " 1   CNT_ACCEPTS_MTP           77666 non-null   float64\n",
            " 2   CNT_ACCEPTS_TK            77666 non-null   float64\n",
            " 3   PRC_ACCEPTS_A_AMOBILE     77666 non-null   float64\n",
            " 4   PRC_ACCEPTS_A_ATM         77666 non-null   float64\n",
            " 5   PRC_ACCEPTS_A_EMAIL_LINK  77666 non-null   float64\n",
            " 6   PRC_ACCEPTS_A_MTP         77666 non-null   float64\n",
            " 7   PRC_ACCEPTS_A_POS         77666 non-null   float64\n",
            " 8   PRC_ACCEPTS_A_TK          77666 non-null   float64\n",
            " 9   PRC_ACCEPTS_MTP           77666 non-null   float64\n",
            " 10  PRC_ACCEPTS_TK            77666 non-null   float64\n",
            "dtypes: float64(10), int64(1)\n",
            "memory usage: 14.9 MB\n",
            "ptd 6 \n",
            "\n",
            "<class 'pandas.core.frame.DataFrame'>\n",
            "RangeIndex: 177595 entries, 0 to 177594\n",
            "Data columns (total 24 columns):\n",
            " #   Column                    Non-Null Count   Dtype  \n",
            "---  ------                    --------------   -----  \n",
            " 0   ID                        177595 non-null  int64  \n",
            " 1   REST_AVG_CUR              177595 non-null  float64\n",
            " 2   REST_AVG_PAYM             177595 non-null  float64\n",
            " 3   REST_DYNAMIC_CC_1M        177595 non-null  float64\n",
            " 4   REST_DYNAMIC_CC_3M        177595 non-null  float64\n",
            " 5   REST_DYNAMIC_CUR_1M       177595 non-null  float64\n",
            " 6   REST_DYNAMIC_CUR_3M       177595 non-null  float64\n",
            " 7   REST_DYNAMIC_FDEP_1M      177595 non-null  float64\n",
            " 8   REST_DYNAMIC_FDEP_3M      177595 non-null  float64\n",
            " 9   REST_DYNAMIC_IL_1M        177595 non-null  float64\n",
            " 10  REST_DYNAMIC_IL_3M        177595 non-null  float64\n",
            " 11  REST_DYNAMIC_PAYM_1M      177595 non-null  float64\n",
            " 12  REST_DYNAMIC_PAYM_3M      177595 non-null  float64\n",
            " 13  REST_DYNAMIC_SAVE_3M      177595 non-null  float64\n",
            " 14  TURNOVER_CC               177595 non-null  float64\n",
            " 15  TURNOVER_DYNAMIC_CC_1M    177595 non-null  float64\n",
            " 16  TURNOVER_DYNAMIC_CC_3M    177595 non-null  float64\n",
            " 17  TURNOVER_DYNAMIC_CUR_1M   177595 non-null  float64\n",
            " 18  TURNOVER_DYNAMIC_CUR_3M   177595 non-null  float64\n",
            " 19  TURNOVER_DYNAMIC_IL_1M    177595 non-null  float64\n",
            " 20  TURNOVER_DYNAMIC_IL_3M    177595 non-null  float64\n",
            " 21  TURNOVER_DYNAMIC_PAYM_1M  177595 non-null  float64\n",
            " 22  TURNOVER_DYNAMIC_PAYM_3M  177595 non-null  float64\n",
            " 23  TURNOVER_PAYM             177595 non-null  float64\n",
            "dtypes: float64(23), int64(1)\n",
            "memory usage: 32.5 MB\n",
            "ptd 7 \n",
            "\n",
            "<class 'pandas.core.frame.DataFrame'>\n",
            "RangeIndex: 177595 entries, 0 to 177594\n",
            "Data columns (total 14 columns):\n",
            " #   Column                  Non-Null Count   Dtype  \n",
            "---  ------                  --------------   -----  \n",
            " 0   ID                      177595 non-null  int64  \n",
            " 1   CLNT_JOB_POSITION       105517 non-null  object \n",
            " 2   CLNT_JOB_POSITION_TYPE  22545 non-null   object \n",
            " 3   CLNT_SALARY_VALUE       375 non-null     float64\n",
            " 4   CLNT_SETUP_TENOR        177595 non-null  float64\n",
            " 5   CLNT_TRUST_RELATION     34846 non-null   object \n",
            " 6   CR_PROD_CNT_CC          177595 non-null  int64  \n",
            " 7   CR_PROD_CNT_CCFP        177595 non-null  int64  \n",
            " 8   CR_PROD_CNT_IL          177595 non-null  int64  \n",
            " 9   CR_PROD_CNT_PIL         177595 non-null  int64  \n",
            " 10  CR_PROD_CNT_TOVR        177595 non-null  int64  \n",
            " 11  CR_PROD_CNT_VCU         177595 non-null  int64  \n",
            " 12  PACK                    177595 non-null  object \n",
            " 13  TARGET                  177595 non-null  int64  \n",
            "dtypes: float64(2), int64(8), object(4)\n",
            "memory usage: 19.0+ MB\n",
            "ptd 8 \n",
            "\n",
            "<class 'pandas.core.frame.DataFrame'>\n",
            "RangeIndex: 177595 entries, 0 to 177594\n",
            "Data columns (total 30 columns):\n",
            " #   Column                      Non-Null Count   Dtype  \n",
            "---  ------                      --------------   -----  \n",
            " 0   ID                          177595 non-null  int64  \n",
            " 1   AVG_PCT_DEBT_TO_DEAL_AMT    935 non-null     float64\n",
            " 2   AVG_PCT_MONTH_TO_PCLOSE     806 non-null     float64\n",
            " 3   DEAL_GRACE_DAYS_ACC_AVG     34903 non-null   float64\n",
            " 4   DEAL_GRACE_DAYS_ACC_MAX     34903 non-null   float64\n",
            " 5   DEAL_GRACE_DAYS_ACC_S1X1    35422 non-null   float64\n",
            " 6   DEAL_YQZ_IR_MAX             3945 non-null    float64\n",
            " 7   DEAL_YQZ_IR_MIN             3945 non-null    float64\n",
            " 8   DEAL_YWZ_IR_MAX             48030 non-null   float64\n",
            " 9   DEAL_YWZ_IR_MIN             48030 non-null   float64\n",
            " 10  LDEAL_ACT_DAYS_ACC_PCT_AVG  46888 non-null   float64\n",
            " 11  LDEAL_ACT_DAYS_PCT_AAVG     49215 non-null   float64\n",
            " 12  LDEAL_ACT_DAYS_PCT_CURR     46888 non-null   float64\n",
            " 13  LDEAL_ACT_DAYS_PCT_TR       46888 non-null   float64\n",
            " 14  LDEAL_ACT_DAYS_PCT_TR3      46888 non-null   float64\n",
            " 15  LDEAL_ACT_DAYS_PCT_TR4      46888 non-null   float64\n",
            " 16  LDEAL_AMT_MONTH             935 non-null     float64\n",
            " 17  LDEAL_DELINQ_PER_MAXYQZ     3945 non-null    float64\n",
            " 18  LDEAL_DELINQ_PER_MAXYWZ     48030 non-null   float64\n",
            " 19  LDEAL_GRACE_DAYS_PCT_MED    177595 non-null  float64\n",
            " 20  LDEAL_TENOR_MAX             3945 non-null    float64\n",
            " 21  LDEAL_TENOR_MIN             3945 non-null    float64\n",
            " 22  LDEAL_USED_AMT_AVG_YQZ      3945 non-null    float64\n",
            " 23  LDEAL_USED_AMT_AVG_YWZ      48030 non-null   float64\n",
            " 24  LDEAL_YQZ_CHRG              616 non-null     float64\n",
            " 25  LDEAL_YQZ_COM               612 non-null     float64\n",
            " 26  LDEAL_YQZ_PC                1393 non-null    float64\n",
            " 27  MAX_PCLOSE_DATE             931 non-null     float64\n",
            " 28  MED_DEBT_PRC_YQZ            3945 non-null    float64\n",
            " 29  MED_DEBT_PRC_YWZ            48030 non-null   float64\n",
            "dtypes: float64(29), int64(1)\n",
            "memory usage: 40.6 MB\n",
            "ptd 9 \n",
            "\n",
            "<class 'pandas.core.frame.DataFrame'>\n",
            "RangeIndex: 177595 entries, 0 to 177594\n",
            "Data columns (total 30 columns):\n",
            " #   Column                   Non-Null Count   Dtype  \n",
            "---  ------                   --------------   -----  \n",
            " 0   ID                       177595 non-null  int64  \n",
            " 1   AMOUNT_RUB_ATM_PRC       158418 non-null  float64\n",
            " 2   AMOUNT_RUB_CLO_PRC       158418 non-null  float64\n",
            " 3   AMOUNT_RUB_NAS_PRC       158418 non-null  float64\n",
            " 4   AMOUNT_RUB_SUP_PRC       158418 non-null  float64\n",
            " 5   CNT_TRAN_ATM_TENDENCY1M  102809 non-null  float64\n",
            " 6   CNT_TRAN_ATM_TENDENCY3M  127781 non-null  float64\n",
            " 7   CNT_TRAN_AUT_TENDENCY1M  38415 non-null   float64\n",
            " 8   CNT_TRAN_AUT_TENDENCY3M  55553 non-null   float64\n",
            " 9   CNT_TRAN_CLO_TENDENCY1M  33458 non-null   float64\n",
            " 10  CNT_TRAN_CLO_TENDENCY3M  57849 non-null   float64\n",
            " 11  CNT_TRAN_MED_TENDENCY1M  34367 non-null   float64\n",
            " 12  CNT_TRAN_MED_TENDENCY3M  58005 non-null   float64\n",
            " 13  CNT_TRAN_SUP_TENDENCY1M  78159 non-null   float64\n",
            " 14  CNT_TRAN_SUP_TENDENCY3M  99580 non-null   float64\n",
            " 15  SUM_TRAN_ATM_TENDENCY1M  102809 non-null  float64\n",
            " 16  SUM_TRAN_ATM_TENDENCY3M  127781 non-null  float64\n",
            " 17  SUM_TRAN_AUT_TENDENCY1M  38415 non-null   float64\n",
            " 18  SUM_TRAN_AUT_TENDENCY3M  55553 non-null   float64\n",
            " 19  SUM_TRAN_CLO_TENDENCY1M  33458 non-null   float64\n",
            " 20  SUM_TRAN_CLO_TENDENCY3M  57849 non-null   float64\n",
            " 21  SUM_TRAN_MED_TENDENCY1M  34367 non-null   float64\n",
            " 22  SUM_TRAN_MED_TENDENCY3M  58005 non-null   float64\n",
            " 23  SUM_TRAN_SUP_TENDENCY1M  78159 non-null   float64\n",
            " 24  SUM_TRAN_SUP_TENDENCY3M  99580 non-null   float64\n",
            " 25  TRANS_AMOUNT_TENDENCY3M  151611 non-null  float64\n",
            " 26  TRANS_CNT_TENDENCY3M     151611 non-null  float64\n",
            " 27  TRANS_COUNT_ATM_PRC      158418 non-null  float64\n",
            " 28  TRANS_COUNT_NAS_PRC      158418 non-null  float64\n",
            " 29  TRANS_COUNT_SUP_PRC      158418 non-null  float64\n",
            "dtypes: float64(29), int64(1)\n",
            "memory usage: 40.6 MB\n",
            "ptd 10 \n",
            "\n",
            "<class 'pandas.core.frame.DataFrame'>\n",
            "RangeIndex: 177595 entries, 0 to 177594\n",
            "Data columns (total 24 columns):\n",
            " #   Column                    Non-Null Count   Dtype  \n",
            "---  ------                    --------------   -----  \n",
            " 0   ID                        177595 non-null  int64  \n",
            " 1   REST_AVG_CUR              177595 non-null  float64\n",
            " 2   REST_AVG_PAYM             177595 non-null  float64\n",
            " 3   REST_DYNAMIC_CC_1M        177595 non-null  float64\n",
            " 4   REST_DYNAMIC_CC_3M        177595 non-null  float64\n",
            " 5   REST_DYNAMIC_CUR_1M       177595 non-null  float64\n",
            " 6   REST_DYNAMIC_CUR_3M       177595 non-null  float64\n",
            " 7   REST_DYNAMIC_FDEP_1M      177595 non-null  float64\n",
            " 8   REST_DYNAMIC_FDEP_3M      177595 non-null  float64\n",
            " 9   REST_DYNAMIC_IL_1M        177595 non-null  float64\n",
            " 10  REST_DYNAMIC_IL_3M        177595 non-null  float64\n",
            " 11  REST_DYNAMIC_PAYM_1M      177595 non-null  float64\n",
            " 12  REST_DYNAMIC_PAYM_3M      177595 non-null  float64\n",
            " 13  REST_DYNAMIC_SAVE_3M      177595 non-null  float64\n",
            " 14  TURNOVER_CC               177595 non-null  float64\n",
            " 15  TURNOVER_DYNAMIC_CC_1M    177595 non-null  float64\n",
            " 16  TURNOVER_DYNAMIC_CC_3M    177595 non-null  float64\n",
            " 17  TURNOVER_DYNAMIC_CUR_1M   177595 non-null  float64\n",
            " 18  TURNOVER_DYNAMIC_CUR_3M   177595 non-null  float64\n",
            " 19  TURNOVER_DYNAMIC_IL_1M    177595 non-null  float64\n",
            " 20  TURNOVER_DYNAMIC_IL_3M    177595 non-null  float64\n",
            " 21  TURNOVER_DYNAMIC_PAYM_1M  177595 non-null  float64\n",
            " 22  TURNOVER_DYNAMIC_PAYM_3M  177595 non-null  float64\n",
            " 23  TURNOVER_PAYM             177595 non-null  float64\n",
            "dtypes: float64(23), int64(1)\n",
            "memory usage: 32.5 MB\n",
            "ptd 11 \n",
            "\n",
            "<class 'pandas.core.frame.DataFrame'>\n",
            "RangeIndex: 177595 entries, 0 to 177594\n",
            "Data columns (total 12 columns):\n",
            " #   Column                       Non-Null Count   Dtype  \n",
            "---  ------                       --------------   -----  \n",
            " 0   ID                           177595 non-null  int64  \n",
            " 1   AGE                          177595 non-null  int64  \n",
            " 2   APP_CAR                      28560 non-null   object \n",
            " 3   APP_COMP_TYPE                33645 non-null   object \n",
            " 4   APP_DRIVING_LICENSE          28561 non-null   object \n",
            " 5   APP_EDUCATION                33993 non-null   object \n",
            " 6   APP_EMP_TYPE                 33645 non-null   object \n",
            " 7   APP_KIND_OF_PROP_HABITATION  29649 non-null   object \n",
            " 8   APP_MARITAL_STATUS           34060 non-null   object \n",
            " 9   APP_POSITION_TYPE            30248 non-null   object \n",
            " 10  APP_REGISTR_RGN_CODE         30167 non-null   float64\n",
            " 11  APP_TRAVEL_PASS              28561 non-null   object \n",
            "dtypes: float64(1), int64(2), object(9)\n",
            "memory usage: 16.3+ MB\n",
            "ptd 12 \n",
            "\n",
            "<class 'pandas.core.frame.DataFrame'>\n",
            "RangeIndex: 177595 entries, 0 to 177594\n",
            "Data columns (total 11 columns):\n",
            " #   Column                    Non-Null Count   Dtype  \n",
            "---  ------                    --------------   -----  \n",
            " 0   ID                        177595 non-null  int64  \n",
            " 1   CNT_ACCEPTS_MTP           77497 non-null   float64\n",
            " 2   CNT_ACCEPTS_TK            77497 non-null   float64\n",
            " 3   PRC_ACCEPTS_A_AMOBILE     77497 non-null   float64\n",
            " 4   PRC_ACCEPTS_A_ATM         77497 non-null   float64\n",
            " 5   PRC_ACCEPTS_A_EMAIL_LINK  77497 non-null   float64\n",
            " 6   PRC_ACCEPTS_A_MTP         77497 non-null   float64\n",
            " 7   PRC_ACCEPTS_A_POS         77497 non-null   float64\n",
            " 8   PRC_ACCEPTS_A_TK          77497 non-null   float64\n",
            " 9   PRC_ACCEPTS_MTP           77497 non-null   float64\n",
            " 10  PRC_ACCEPTS_TK            77497 non-null   float64\n",
            "dtypes: float64(10), int64(1)\n",
            "memory usage: 14.9 MB\n"
          ]
        }
      ],
      "source": [
        "import pandas as pd\n",
        "import numpy as np\n",
        "\n",
        "ptd1 = pd.read_csv('/content/datasets/part_01.csv')\n",
        "ptd2 = pd.read_csv('/content/datasets/part_02.csv')\n",
        "ptd3 = pd.read_csv('/content/datasets/part_03.csv')\n",
        "ptd4 = pd.read_csv('/content/datasets/part_04.csv')\n",
        "ptd5 = pd.read_csv('/content/datasets/part_05.csv')\n",
        "ptd6 = pd.read_csv('/content/datasets/part_06.csv')\n",
        "ptd7 = pd.read_csv('/content/datasets/part_07.csv')\n",
        "ptd8 = pd.read_csv('/content/datasets/part_08.csv')\n",
        "ptd9 = pd.read_csv('/content/datasets/part_09.csv')\n",
        "ptd10 = pd.read_csv('/content/datasets/part_10.csv')\n",
        "ptd11 = pd.read_csv('/content/datasets/part_11.csv')\n",
        "ptd12 = pd.read_csv('/content/datasets/part_12.csv')\n",
        "parts = [ptd1, ptd2, ptd3, ptd4, ptd5, ptd6, ptd7, ptd8, ptd9, ptd10, ptd11, ptd12]\n",
        "parts_contains = [[ptd1, ptd9], [ptd2, ptd11], [ptd4, ptd7], [ptd5, ptd12] ,[ptd6, ptd10]]\n",
        "itter = 1\n",
        "# for i in parts:\n",
        "#   print('ptd' , itter , '\\n')\n",
        "#   i.info()\n",
        "#   itter = itter+1\n",
        "  # ptd4-ptd7, ptd1-ptd9, 2-11, 12-5 10-6"
      ]
    },
    {
      "cell_type": "code",
      "source": [
        "ptd1.info()"
      ],
      "metadata": {
        "id": "L-z61TgQMkEL",
        "outputId": "3ea81df1-6a92-44e3-cf2f-88dad1566ff1",
        "colab": {
          "base_uri": "https://localhost:8080/"
        }
      },
      "execution_count": 12,
      "outputs": [
        {
          "output_type": "stream",
          "name": "stdout",
          "text": [
            "<class 'pandas.core.frame.DataFrame'>\n",
            "RangeIndex: 177595 entries, 0 to 177594\n",
            "Data columns (total 30 columns):\n",
            " #   Column                   Non-Null Count   Dtype  \n",
            "---  ------                   --------------   -----  \n",
            " 0   ID                       177595 non-null  int64  \n",
            " 1   AMOUNT_RUB_ATM_PRC       158449 non-null  float64\n",
            " 2   AMOUNT_RUB_CLO_PRC       158449 non-null  float64\n",
            " 3   AMOUNT_RUB_NAS_PRC       158449 non-null  float64\n",
            " 4   AMOUNT_RUB_SUP_PRC       158449 non-null  float64\n",
            " 5   CNT_TRAN_ATM_TENDENCY1M  103065 non-null  float64\n",
            " 6   CNT_TRAN_ATM_TENDENCY3M  127814 non-null  float64\n",
            " 7   CNT_TRAN_AUT_TENDENCY1M  38697 non-null   float64\n",
            " 8   CNT_TRAN_AUT_TENDENCY3M  55499 non-null   float64\n",
            " 9   CNT_TRAN_CLO_TENDENCY1M  32838 non-null   float64\n",
            " 10  CNT_TRAN_CLO_TENDENCY3M  57049 non-null   float64\n",
            " 11  CNT_TRAN_MED_TENDENCY1M  34600 non-null   float64\n",
            " 12  CNT_TRAN_MED_TENDENCY3M  57872 non-null   float64\n",
            " 13  CNT_TRAN_SUP_TENDENCY1M  77836 non-null   float64\n",
            " 14  CNT_TRAN_SUP_TENDENCY3M  99138 non-null   float64\n",
            " 15  SUM_TRAN_ATM_TENDENCY1M  103065 non-null  float64\n",
            " 16  SUM_TRAN_ATM_TENDENCY3M  127814 non-null  float64\n",
            " 17  SUM_TRAN_AUT_TENDENCY1M  38697 non-null   float64\n",
            " 18  SUM_TRAN_AUT_TENDENCY3M  55499 non-null   float64\n",
            " 19  SUM_TRAN_CLO_TENDENCY1M  32838 non-null   float64\n",
            " 20  SUM_TRAN_CLO_TENDENCY3M  57049 non-null   float64\n",
            " 21  SUM_TRAN_MED_TENDENCY1M  34600 non-null   float64\n",
            " 22  SUM_TRAN_MED_TENDENCY3M  57872 non-null   float64\n",
            " 23  SUM_TRAN_SUP_TENDENCY1M  77836 non-null   float64\n",
            " 24  SUM_TRAN_SUP_TENDENCY3M  99138 non-null   float64\n",
            " 25  TRANS_AMOUNT_TENDENCY3M  151583 non-null  float64\n",
            " 26  TRANS_CNT_TENDENCY3M     151583 non-null  float64\n",
            " 27  TRANS_COUNT_ATM_PRC      158449 non-null  float64\n",
            " 28  TRANS_COUNT_NAS_PRC      158449 non-null  float64\n",
            " 29  TRANS_COUNT_SUP_PRC      158449 non-null  float64\n",
            "dtypes: float64(29), int64(1)\n",
            "memory usage: 40.6 MB\n"
          ]
        }
      ]
    },
    {
      "cell_type": "code",
      "source": [
        "ptd2.info()"
      ],
      "metadata": {
        "id": "-1daXN1jM-F6",
        "outputId": "7095de1b-a01a-46fa-a8ee-75258fb5efa7",
        "colab": {
          "base_uri": "https://localhost:8080/"
        }
      },
      "execution_count": 13,
      "outputs": [
        {
          "output_type": "stream",
          "name": "stdout",
          "text": [
            "<class 'pandas.core.frame.DataFrame'>\n",
            "RangeIndex: 177595 entries, 0 to 177594\n",
            "Data columns (total 12 columns):\n",
            " #   Column                       Non-Null Count   Dtype  \n",
            "---  ------                       --------------   -----  \n",
            " 0   ID                           177595 non-null  int64  \n",
            " 1   AGE                          177595 non-null  int64  \n",
            " 2   APP_CAR                      28696 non-null   object \n",
            " 3   APP_COMP_TYPE                33717 non-null   object \n",
            " 4   APP_DRIVING_LICENSE          28696 non-null   object \n",
            " 5   APP_EDUCATION                34111 non-null   object \n",
            " 6   APP_EMP_TYPE                 33717 non-null   object \n",
            " 7   APP_KIND_OF_PROP_HABITATION  29712 non-null   object \n",
            " 8   APP_MARITAL_STATUS           34174 non-null   object \n",
            " 9   APP_POSITION_TYPE            30297 non-null   object \n",
            " 10  APP_REGISTR_RGN_CODE         30383 non-null   float64\n",
            " 11  APP_TRAVEL_PASS              28696 non-null   object \n",
            "dtypes: float64(1), int64(2), object(9)\n",
            "memory usage: 16.3+ MB\n"
          ]
        }
      ]
    },
    {
      "cell_type": "code",
      "source": [
        "ptd3.info()"
      ],
      "metadata": {
        "id": "RJyq6L4_NBZy",
        "outputId": "d7b555b8-5db1-4d67-8054-1a80f693f402",
        "colab": {
          "base_uri": "https://localhost:8080/"
        }
      },
      "execution_count": 14,
      "outputs": [
        {
          "output_type": "stream",
          "name": "stdout",
          "text": [
            "<class 'pandas.core.frame.DataFrame'>\n",
            "RangeIndex: 177595 entries, 0 to 177594\n",
            "Data columns (total 30 columns):\n",
            " #   Column                      Non-Null Count   Dtype  \n",
            "---  ------                      --------------   -----  \n",
            " 0   ID                          177595 non-null  int64  \n",
            " 1   AVG_PCT_DEBT_TO_DEAL_AMT    953 non-null     float64\n",
            " 2   AVG_PCT_MONTH_TO_PCLOSE     822 non-null     float64\n",
            " 3   DEAL_GRACE_DAYS_ACC_AVG     34530 non-null   float64\n",
            " 4   DEAL_GRACE_DAYS_ACC_MAX     34530 non-null   float64\n",
            " 5   DEAL_GRACE_DAYS_ACC_S1X1    35027 non-null   float64\n",
            " 6   DEAL_YQZ_IR_MAX             4056 non-null    float64\n",
            " 7   DEAL_YQZ_IR_MIN             4056 non-null    float64\n",
            " 8   DEAL_YWZ_IR_MAX             47683 non-null   float64\n",
            " 9   DEAL_YWZ_IR_MIN             47683 non-null   float64\n",
            " 10  LDEAL_ACT_DAYS_ACC_PCT_AVG  46560 non-null   float64\n",
            " 11  LDEAL_ACT_DAYS_PCT_AAVG     48960 non-null   float64\n",
            " 12  LDEAL_ACT_DAYS_PCT_CURR     46560 non-null   float64\n",
            " 13  LDEAL_ACT_DAYS_PCT_TR       46560 non-null   float64\n",
            " 14  LDEAL_ACT_DAYS_PCT_TR3      46560 non-null   float64\n",
            " 15  LDEAL_ACT_DAYS_PCT_TR4      46560 non-null   float64\n",
            " 16  LDEAL_AMT_MONTH             953 non-null     float64\n",
            " 17  LDEAL_DELINQ_PER_MAXYQZ     4056 non-null    float64\n",
            " 18  LDEAL_DELINQ_PER_MAXYWZ     47683 non-null   float64\n",
            " 19  LDEAL_GRACE_DAYS_PCT_MED    177595 non-null  float64\n",
            " 20  LDEAL_TENOR_MAX             4056 non-null    float64\n",
            " 21  LDEAL_TENOR_MIN             4056 non-null    float64\n",
            " 22  LDEAL_USED_AMT_AVG_YQZ      4056 non-null    float64\n",
            " 23  LDEAL_USED_AMT_AVG_YWZ      47683 non-null   float64\n",
            " 24  LDEAL_YQZ_CHRG              625 non-null     float64\n",
            " 25  LDEAL_YQZ_COM               628 non-null     float64\n",
            " 26  LDEAL_YQZ_PC                1415 non-null    float64\n",
            " 27  MAX_PCLOSE_DATE             950 non-null     float64\n",
            " 28  MED_DEBT_PRC_YQZ            4056 non-null    float64\n",
            " 29  MED_DEBT_PRC_YWZ            47683 non-null   float64\n",
            "dtypes: float64(29), int64(1)\n",
            "memory usage: 40.6 MB\n"
          ]
        }
      ]
    },
    {
      "cell_type": "code",
      "source": [
        "ptd4.info()"
      ],
      "metadata": {
        "id": "q9k-B586NGLZ",
        "outputId": "b279b96f-909e-4b3c-f2dc-a1c2d717019c",
        "colab": {
          "base_uri": "https://localhost:8080/"
        }
      },
      "execution_count": 15,
      "outputs": [
        {
          "output_type": "stream",
          "name": "stdout",
          "text": [
            "<class 'pandas.core.frame.DataFrame'>\n",
            "RangeIndex: 177595 entries, 0 to 177594\n",
            "Data columns (total 14 columns):\n",
            " #   Column                  Non-Null Count   Dtype  \n",
            "---  ------                  --------------   -----  \n",
            " 0   ID                      177595 non-null  int64  \n",
            " 1   CLNT_JOB_POSITION       105294 non-null  object \n",
            " 2   CLNT_JOB_POSITION_TYPE  22236 non-null   object \n",
            " 3   CLNT_SALARY_VALUE       337 non-null     float64\n",
            " 4   CLNT_SETUP_TENOR        177595 non-null  float64\n",
            " 5   CLNT_TRUST_RELATION     34575 non-null   object \n",
            " 6   CR_PROD_CNT_CC          177595 non-null  int64  \n",
            " 7   CR_PROD_CNT_CCFP        177595 non-null  int64  \n",
            " 8   CR_PROD_CNT_IL          177595 non-null  int64  \n",
            " 9   CR_PROD_CNT_PIL         177595 non-null  int64  \n",
            " 10  CR_PROD_CNT_TOVR        177595 non-null  int64  \n",
            " 11  CR_PROD_CNT_VCU         177595 non-null  int64  \n",
            " 12  PACK                    177595 non-null  object \n",
            " 13  TARGET                  177595 non-null  int64  \n",
            "dtypes: float64(2), int64(8), object(4)\n",
            "memory usage: 19.0+ MB\n"
          ]
        }
      ]
    },
    {
      "cell_type": "code",
      "source": [
        "ptd5.info()"
      ],
      "metadata": {
        "id": "JfwOZXckNJTp",
        "outputId": "4498b0e3-b481-4173-bd21-e109137d07b6",
        "colab": {
          "base_uri": "https://localhost:8080/"
        }
      },
      "execution_count": 16,
      "outputs": [
        {
          "output_type": "stream",
          "name": "stdout",
          "text": [
            "<class 'pandas.core.frame.DataFrame'>\n",
            "RangeIndex: 177595 entries, 0 to 177594\n",
            "Data columns (total 11 columns):\n",
            " #   Column                    Non-Null Count   Dtype  \n",
            "---  ------                    --------------   -----  \n",
            " 0   ID                        177595 non-null  int64  \n",
            " 1   CNT_ACCEPTS_MTP           77666 non-null   float64\n",
            " 2   CNT_ACCEPTS_TK            77666 non-null   float64\n",
            " 3   PRC_ACCEPTS_A_AMOBILE     77666 non-null   float64\n",
            " 4   PRC_ACCEPTS_A_ATM         77666 non-null   float64\n",
            " 5   PRC_ACCEPTS_A_EMAIL_LINK  77666 non-null   float64\n",
            " 6   PRC_ACCEPTS_A_MTP         77666 non-null   float64\n",
            " 7   PRC_ACCEPTS_A_POS         77666 non-null   float64\n",
            " 8   PRC_ACCEPTS_A_TK          77666 non-null   float64\n",
            " 9   PRC_ACCEPTS_MTP           77666 non-null   float64\n",
            " 10  PRC_ACCEPTS_TK            77666 non-null   float64\n",
            "dtypes: float64(10), int64(1)\n",
            "memory usage: 14.9 MB\n"
          ]
        }
      ]
    },
    {
      "cell_type": "code",
      "source": [
        "ptd6.info()"
      ],
      "metadata": {
        "id": "_GWbZLPZNNzC",
        "outputId": "0cacb2e6-cf9f-48a5-db6c-a5cd3f9833d1",
        "colab": {
          "base_uri": "https://localhost:8080/"
        }
      },
      "execution_count": 17,
      "outputs": [
        {
          "output_type": "stream",
          "name": "stdout",
          "text": [
            "<class 'pandas.core.frame.DataFrame'>\n",
            "RangeIndex: 177595 entries, 0 to 177594\n",
            "Data columns (total 24 columns):\n",
            " #   Column                    Non-Null Count   Dtype  \n",
            "---  ------                    --------------   -----  \n",
            " 0   ID                        177595 non-null  int64  \n",
            " 1   REST_AVG_CUR              177595 non-null  float64\n",
            " 2   REST_AVG_PAYM             177595 non-null  float64\n",
            " 3   REST_DYNAMIC_CC_1M        177595 non-null  float64\n",
            " 4   REST_DYNAMIC_CC_3M        177595 non-null  float64\n",
            " 5   REST_DYNAMIC_CUR_1M       177595 non-null  float64\n",
            " 6   REST_DYNAMIC_CUR_3M       177595 non-null  float64\n",
            " 7   REST_DYNAMIC_FDEP_1M      177595 non-null  float64\n",
            " 8   REST_DYNAMIC_FDEP_3M      177595 non-null  float64\n",
            " 9   REST_DYNAMIC_IL_1M        177595 non-null  float64\n",
            " 10  REST_DYNAMIC_IL_3M        177595 non-null  float64\n",
            " 11  REST_DYNAMIC_PAYM_1M      177595 non-null  float64\n",
            " 12  REST_DYNAMIC_PAYM_3M      177595 non-null  float64\n",
            " 13  REST_DYNAMIC_SAVE_3M      177595 non-null  float64\n",
            " 14  TURNOVER_CC               177595 non-null  float64\n",
            " 15  TURNOVER_DYNAMIC_CC_1M    177595 non-null  float64\n",
            " 16  TURNOVER_DYNAMIC_CC_3M    177595 non-null  float64\n",
            " 17  TURNOVER_DYNAMIC_CUR_1M   177595 non-null  float64\n",
            " 18  TURNOVER_DYNAMIC_CUR_3M   177595 non-null  float64\n",
            " 19  TURNOVER_DYNAMIC_IL_1M    177595 non-null  float64\n",
            " 20  TURNOVER_DYNAMIC_IL_3M    177595 non-null  float64\n",
            " 21  TURNOVER_DYNAMIC_PAYM_1M  177595 non-null  float64\n",
            " 22  TURNOVER_DYNAMIC_PAYM_3M  177595 non-null  float64\n",
            " 23  TURNOVER_PAYM             177595 non-null  float64\n",
            "dtypes: float64(23), int64(1)\n",
            "memory usage: 32.5 MB\n"
          ]
        }
      ]
    },
    {
      "cell_type": "code",
      "source": [
        "ptd7.info()"
      ],
      "metadata": {
        "id": "NNuu9KiQNR_Q",
        "outputId": "0cc34469-b82e-41e7-a550-2e4f4b417875",
        "colab": {
          "base_uri": "https://localhost:8080/"
        }
      },
      "execution_count": 18,
      "outputs": [
        {
          "output_type": "stream",
          "name": "stdout",
          "text": [
            "<class 'pandas.core.frame.DataFrame'>\n",
            "RangeIndex: 177595 entries, 0 to 177594\n",
            "Data columns (total 14 columns):\n",
            " #   Column                  Non-Null Count   Dtype  \n",
            "---  ------                  --------------   -----  \n",
            " 0   ID                      177595 non-null  int64  \n",
            " 1   CLNT_JOB_POSITION       105517 non-null  object \n",
            " 2   CLNT_JOB_POSITION_TYPE  22545 non-null   object \n",
            " 3   CLNT_SALARY_VALUE       375 non-null     float64\n",
            " 4   CLNT_SETUP_TENOR        177595 non-null  float64\n",
            " 5   CLNT_TRUST_RELATION     34846 non-null   object \n",
            " 6   CR_PROD_CNT_CC          177595 non-null  int64  \n",
            " 7   CR_PROD_CNT_CCFP        177595 non-null  int64  \n",
            " 8   CR_PROD_CNT_IL          177595 non-null  int64  \n",
            " 9   CR_PROD_CNT_PIL         177595 non-null  int64  \n",
            " 10  CR_PROD_CNT_TOVR        177595 non-null  int64  \n",
            " 11  CR_PROD_CNT_VCU         177595 non-null  int64  \n",
            " 12  PACK                    177595 non-null  object \n",
            " 13  TARGET                  177595 non-null  int64  \n",
            "dtypes: float64(2), int64(8), object(4)\n",
            "memory usage: 19.0+ MB\n"
          ]
        }
      ]
    },
    {
      "cell_type": "markdown",
      "metadata": {
        "id": "xrU97zAGA83B"
      },
      "source": [
        "7. Проверьте датасеты на отсутствие дубликатов"
      ]
    },
    {
      "cell_type": "code",
      "execution_count": 20,
      "metadata": {
        "id": "Hy6FSpebA83B",
        "outputId": "95f60cef-e04e-4f98-cf0c-23d36c3f611d",
        "colab": {
          "base_uri": "https://localhost:8080/"
        }
      },
      "outputs": [
        {
          "output_type": "stream",
          "name": "stdout",
          "text": [
            "<class 'pandas.core.frame.DataFrame'>\n",
            "RangeIndex: 355190 entries, 0 to 355189\n",
            "Data columns (total 14 columns):\n",
            " #   Column                  Non-Null Count   Dtype  \n",
            "---  ------                  --------------   -----  \n",
            " 0   ID                      355190 non-null  int64  \n",
            " 1   CLNT_JOB_POSITION       210811 non-null  object \n",
            " 2   CLNT_JOB_POSITION_TYPE  44781 non-null   object \n",
            " 3   CLNT_SALARY_VALUE       712 non-null     float64\n",
            " 4   CLNT_SETUP_TENOR        355190 non-null  float64\n",
            " 5   CLNT_TRUST_RELATION     69421 non-null   object \n",
            " 6   CR_PROD_CNT_CC          355190 non-null  int64  \n",
            " 7   CR_PROD_CNT_CCFP        355190 non-null  int64  \n",
            " 8   CR_PROD_CNT_IL          355190 non-null  int64  \n",
            " 9   CR_PROD_CNT_PIL         355190 non-null  int64  \n",
            " 10  CR_PROD_CNT_TOVR        355190 non-null  int64  \n",
            " 11  CR_PROD_CNT_VCU         355190 non-null  int64  \n",
            " 12  PACK                    355190 non-null  object \n",
            " 13  TARGET                  355190 non-null  int64  \n",
            "dtypes: float64(2), int64(8), object(4)\n",
            "memory usage: 37.9+ MB\n"
          ]
        }
      ],
      "source": [
        "ptd4 = pd.concat([ptd4, ptd7], ignore_index=True)\n",
        "ptd4.info()"
      ]
    },
    {
      "cell_type": "markdown",
      "metadata": {
        "pycharm": {
          "name": "#%%\n"
        },
        "id": "KieJb3geA83B"
      },
      "source": [
        "### 3.2. Очистка текстовых данных\n",
        "Теперь можно приступать к очистке данных. Для этого нужно:\n",
        "1. Найти в получившемся датасете все поля, которые являются текстовыми.\n",
        "2. Привести их значения к нижнему регистру.\n",
        "3. В тех полях, где есть одновременно русское и английское написание одного и того же слова, оставить только русское (заменить английское на русское). Это условие не применять к полю `CLNT_JOB_POSITION`. Это будет чересчур даже для нашего курса :)\n",
        "4. Если текстовое значение состоит только из “` `“ (пробел), то его заменить на `NaN` (пустое значение, а не строку 'NaN').\n",
        "5. Если в текстовом значении есть цифры (телефон, дата рождения и др.), то всё значение текстового поля тоже заменить на `NaN`. Поле `PACK` оставить в исходном виде. Оно отвечает за пакет услуг клиента, и нам эта информация может быть важной. Затирать ее на пустые значения было бы опрометчиво.\n",
        "6. Если есть столбцы, которые абсолютно идентичны по своим значениям для одних и тех же строк, то оставить только тот столбец, который идет первее. Речь идет только о текстовых полях."
      ]
    },
    {
      "cell_type": "code",
      "execution_count": null,
      "metadata": {
        "id": "5ZdvXFAlA83C"
      },
      "outputs": [],
      "source": []
    },
    {
      "cell_type": "code",
      "execution_count": null,
      "metadata": {
        "id": "vPyBm_sCA83C"
      },
      "outputs": [],
      "source": []
    },
    {
      "cell_type": "code",
      "execution_count": null,
      "metadata": {
        "id": "JzPaMNcwA83C"
      },
      "outputs": [],
      "source": []
    },
    {
      "cell_type": "markdown",
      "metadata": {
        "id": "NF8WhwWeA83C"
      },
      "source": [
        "7. Выведите количество уникальных значения в полях CLNT_TRUST_RELATION, APP_MARITAL_STATUS, CLNT_JOB_POSITION"
      ]
    },
    {
      "cell_type": "code",
      "execution_count": null,
      "metadata": {
        "id": "WHu5TAxbA83C"
      },
      "outputs": [],
      "source": []
    },
    {
      "cell_type": "markdown",
      "metadata": {
        "id": "csihkw4IA83C"
      },
      "source": [
        "8. Выведите колонки итогового датасета"
      ]
    },
    {
      "cell_type": "code",
      "execution_count": null,
      "metadata": {
        "id": "2NYH7pSEA83C"
      },
      "outputs": [],
      "source": []
    }
  ],
  "metadata": {
    "colab": {
      "name": "d00_task.ipynb",
      "provenance": []
    },
    "kernelspec": {
      "display_name": "Python 3 (ipykernel)",
      "language": "python",
      "name": "python3"
    },
    "language_info": {
      "codemirror_mode": {
        "name": "ipython",
        "version": 3
      },
      "file_extension": ".py",
      "mimetype": "text/x-python",
      "name": "python",
      "nbconvert_exporter": "python",
      "pygments_lexer": "ipython3",
      "version": "3.9.10"
    }
  },
  "nbformat": 4,
  "nbformat_minor": 0
}