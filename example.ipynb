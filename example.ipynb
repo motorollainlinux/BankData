{
 "cells": [
  {
   "cell_type": "markdown",
   "metadata": {
    "id": "G4X2ZDUzu3t-",
    "pycharm": {
     "name": "#%% md\n"
    }
   },
   "source": [
    "# День 00 – Сбор и очистка данных"
   ]
  },
  {
   "cell_type": "markdown",
   "metadata": {
    "pycharm": {
     "name": "#%% md\n"
    }
   },
   "source": [
    " Добро пожаловать в Jupyter Notebook! Это тот инструмент, в котором дата сайентисты проводят больше всего времени, работая с данными при помощи кода на Python. Здесь очень удобно работать в интерактивном режиме, запуская отдельные ячейки, а не весь код сразу и полностью. Тут же можно делать и отчеты, поскольку помимо кода, здесь удобно строить графики и писать текст."
   ]
  },
  {
   "cell_type": "markdown",
   "metadata": {
    "id": "nGSsI7ysu3uC",
    "pycharm": {
     "name": "#%% md\n"
    }
   },
   "source": [
    "Мы понимаем, что вы не программисты и скорее всего не планируете ими стать, поэтому насколько это возможно мы будем сопровождать такие ноутбуки комментариями и полезными командами, которые могут вам пригодиться для решения задачи. Но естественно здесь будет не всё: что-то вам придется поискать самостоятельно в интернете. Такова уж методология Школы 21, и она приносит свои плоды."
   ]
  },
  {
   "cell_type": "markdown",
   "metadata": {
    "pycharm": {
     "name": "#%% md\n"
    }
   },
   "source": [
    "## 0. Импорт библиотек"
   ]
  },
  {
   "cell_type": "markdown",
   "metadata": {
    "pycharm": {
     "name": "#%% md\n"
    }
   },
   "source": [
    "Библиотека – это по сути набор полезных функций и методов, которые написали одни программисты, а другие программисты могут уже не писать их с нуля, а пользоваться готовыми. Например, вы хотите посчитать среднее арифметическое значение по ряду. Вы можете самостоятельно написать код, который посчитает сумму по ряду и поделит на количество элементов в ряду, а можете импортировать библиотеку, где уже есть эта функция и воспользоваться ею. Это сэкономит вам время, силы, и код будет менее объемным.\n",
    "\n",
    "Ниже мы импортируем широко используемую библиотеку Pandas. В ней есть много полезных функций для работы с табличными данными. Почти Excel, только взаимодействие с ним через код на Python. Мы будем пользоваться этой библиотекой в течение всего курса."
   ]
  },
  {
   "cell_type": "code",
   "execution_count": 1,
   "metadata": {
    "collapsed": false,
    "jupyter": {
     "outputs_hidden": false
    },
    "pycharm": {
     "name": "#%%\n"
    }
   },
   "outputs": [],
   "source": [
    "import pandas as pd #мы будем часто пользоваться методами этой библиотеки, поэтому введем для нее сокращенное название – pd\n",
    "import numpy as np"
   ]
  },
  {
   "cell_type": "markdown",
   "metadata": {},
   "source": [
    "Давайте познакомимся с библиотекой Pandas. Pandas - это библиотека языка Python, который предоставляет быстрые, гибкие и выразительные структуры данных, разработанные для того, чтобы сделать работу с табличными данными простой и интуитивно понятной. "
   ]
  },
  {
   "cell_type": "markdown",
   "metadata": {
    "pycharm": {
     "name": "#%% md\n"
    }
   },
   "source": [
    "## 1. Загрузка данных"
   ]
  },
  {
   "cell_type": "code",
   "execution_count": 11,
   "metadata": {},
   "outputs": [],
   "source": [
    "df1 = pd.read_csv('../datasets/dataset_1.csv') #указываем путь к файлу\n",
    "df1.head() #посмотрим несколько первых строк получившегося датафрейма\n",
    "ptd1 = pd.read_csv('../datasets/part_01.csv')\n",
    "ptd2 = pd.read_csv('../datasets/part_02.csv')\n",
    "ptd3 = pd.read_csv('../datasets/part_03.csv')\n",
    "ptd4 = pd.read_csv('../datasets/part_04.csv')\n",
    "ptd5 = pd.read_csv('../datasets/part_05.csv')\n",
    "ptd6 = pd.read_csv('../datasets/part_06.csv')\n",
    "ptd7 = pd.read_csv('../datasets/part_07.csv')\n",
    "ptd8 = pd.read_csv('../datasets/part_08.csv')\n",
    "ptd9 = pd.read_csv('../datasets/part_09.csv')\n",
    "ptd10 = pd.read_csv('../datasets/part_10.csv')\n",
    "ptd11 = pd.read_csv('../datasets/part_11.csv')\n",
    "ptd12 = pd.read_csv('../datasets/part_12.csv')"
   ]
  },
  {
   "cell_type": "code",
   "execution_count": 4,
   "metadata": {},
   "outputs": [
    {
     "data": {
      "text/html": [
       "<div>\n",
       "<style scoped>\n",
       "    .dataframe tbody tr th:only-of-type {\n",
       "        vertical-align: middle;\n",
       "    }\n",
       "\n",
       "    .dataframe tbody tr th {\n",
       "        vertical-align: top;\n",
       "    }\n",
       "\n",
       "    .dataframe thead th {\n",
       "        text-align: right;\n",
       "    }\n",
       "</style>\n",
       "<table border=\"1\" class=\"dataframe\">\n",
       "  <thead>\n",
       "    <tr style=\"text-align: right;\">\n",
       "      <th></th>\n",
       "      <th>version https://git-lfs.github.com/spec/v1</th>\n",
       "    </tr>\n",
       "  </thead>\n",
       "  <tbody>\n",
       "    <tr>\n",
       "      <th>0</th>\n",
       "      <td>oid sha256:fade9e846afa2931d45d997fb0b8a509364...</td>\n",
       "    </tr>\n",
       "    <tr>\n",
       "      <th>1</th>\n",
       "      <td>size 273</td>\n",
       "    </tr>\n",
       "  </tbody>\n",
       "</table>\n",
       "</div>"
      ],
      "text/plain": [
       "          version https://git-lfs.github.com/spec/v1\n",
       "0  oid sha256:fade9e846afa2931d45d997fb0b8a509364...\n",
       "1                                           size 273"
      ]
     },
     "execution_count": 4,
     "metadata": {},
     "output_type": "execute_result"
    }
   ],
   "source": [
    "df = pd.read_csv('../datasets/dataset_2.csv')\n",
    "df.head()"
   ]
  },
  {
   "cell_type": "markdown",
   "metadata": {
    "pycharm": {
     "name": "#%% md\n"
    }
   },
   "source": [
    "Если всё получилось, то вы увидите небольшой кусок таблицы: шапку, первые пять строчек"
   ]
  },
  {
   "cell_type": "markdown",
   "metadata": {},
   "source": [
    "Загрузим еще несколько датасетов"
   ]
  },
  {
   "cell_type": "code",
   "execution_count": 3,
   "metadata": {},
   "outputs": [],
   "source": [
    "df2 = pd.read_csv('../datasets/dataset_2.csv')"
   ]
  },
  {
   "cell_type": "code",
   "execution_count": 4,
   "metadata": {},
   "outputs": [
    {
     "data": {
      "text/html": [
       "<div>\n",
       "<style scoped>\n",
       "    .dataframe tbody tr th:only-of-type {\n",
       "        vertical-align: middle;\n",
       "    }\n",
       "\n",
       "    .dataframe tbody tr th {\n",
       "        vertical-align: top;\n",
       "    }\n",
       "\n",
       "    .dataframe thead th {\n",
       "        text-align: right;\n",
       "    }\n",
       "</style>\n",
       "<table border=\"1\" class=\"dataframe\">\n",
       "  <thead>\n",
       "    <tr style=\"text-align: right;\">\n",
       "      <th></th>\n",
       "      <th>ID</th>\n",
       "      <th>AMOUNT_RUB_SUP_PRC</th>\n",
       "      <th>CNT_TRAN_ATM_TENDENCY1M</th>\n",
       "      <th>APP_COMP_TYPE</th>\n",
       "    </tr>\n",
       "  </thead>\n",
       "  <tbody>\n",
       "    <tr>\n",
       "      <th>0</th>\n",
       "      <td>358628</td>\n",
       "      <td>0.030183</td>\n",
       "      <td>0.216216</td>\n",
       "      <td>NaN</td>\n",
       "    </tr>\n",
       "    <tr>\n",
       "      <th>1</th>\n",
       "      <td>528730</td>\n",
       "      <td>NaN</td>\n",
       "      <td>NaN</td>\n",
       "      <td>PRIVATE</td>\n",
       "    </tr>\n",
       "    <tr>\n",
       "      <th>2</th>\n",
       "      <td>160451</td>\n",
       "      <td>0.000765</td>\n",
       "      <td>NaN</td>\n",
       "      <td>STATE</td>\n",
       "    </tr>\n",
       "    <tr>\n",
       "      <th>3</th>\n",
       "      <td>210467</td>\n",
       "      <td>0.009256</td>\n",
       "      <td>NaN</td>\n",
       "      <td>PRIVATE</td>\n",
       "    </tr>\n",
       "    <tr>\n",
       "      <th>4</th>\n",
       "      <td>211110</td>\n",
       "      <td>0.023359</td>\n",
       "      <td>0.238095</td>\n",
       "      <td>PRIVATE</td>\n",
       "    </tr>\n",
       "    <tr>\n",
       "      <th>5</th>\n",
       "      <td>333131</td>\n",
       "      <td>0.045329</td>\n",
       "      <td>0.400000</td>\n",
       "      <td>NaN</td>\n",
       "    </tr>\n",
       "  </tbody>\n",
       "</table>\n",
       "</div>"
      ],
      "text/plain": [
       "       ID  AMOUNT_RUB_SUP_PRC  CNT_TRAN_ATM_TENDENCY1M APP_COMP_TYPE\n",
       "0  358628            0.030183                 0.216216           NaN\n",
       "1  528730                 NaN                      NaN       PRIVATE\n",
       "2  160451            0.000765                      NaN         STATE\n",
       "3  210467            0.009256                      NaN       PRIVATE\n",
       "4  211110            0.023359                 0.238095       PRIVATE\n",
       "5  333131            0.045329                 0.400000           NaN"
      ]
     },
     "execution_count": 4,
     "metadata": {},
     "output_type": "execute_result"
    }
   ],
   "source": [
    "df2"
   ]
  },
  {
   "cell_type": "code",
   "execution_count": 5,
   "metadata": {},
   "outputs": [],
   "source": [
    "df3 = pd.read_csv('../datasets/dataset_3.csv') #указываем путь к файлу"
   ]
  },
  {
   "cell_type": "code",
   "execution_count": 6,
   "metadata": {},
   "outputs": [
    {
     "data": {
      "text/html": [
       "<div>\n",
       "<style scoped>\n",
       "    .dataframe tbody tr th:only-of-type {\n",
       "        vertical-align: middle;\n",
       "    }\n",
       "\n",
       "    .dataframe tbody tr th {\n",
       "        vertical-align: top;\n",
       "    }\n",
       "\n",
       "    .dataframe thead th {\n",
       "        text-align: right;\n",
       "    }\n",
       "</style>\n",
       "<table border=\"1\" class=\"dataframe\">\n",
       "  <thead>\n",
       "    <tr style=\"text-align: right;\">\n",
       "      <th></th>\n",
       "      <th>ID</th>\n",
       "      <th>AMOUNT_RUB_ATM_PRC</th>\n",
       "      <th>AMOUNT_RUB_CLO_PRC</th>\n",
       "      <th>AMOUNT_RUB_NAS_PRC</th>\n",
       "      <th>AMOUNT_RUB_SUP_PRC</th>\n",
       "      <th>CNT_TRAN_ATM_TENDENCY1M</th>\n",
       "      <th>APP_COMP_TYPE</th>\n",
       "    </tr>\n",
       "  </thead>\n",
       "  <tbody>\n",
       "    <tr>\n",
       "      <th>0</th>\n",
       "      <td>274285</td>\n",
       "      <td>0.998698</td>\n",
       "      <td>0.0</td>\n",
       "      <td>0.000000</td>\n",
       "      <td>0.000000</td>\n",
       "      <td>0.653846</td>\n",
       "      <td>NaN</td>\n",
       "    </tr>\n",
       "    <tr>\n",
       "      <th>1</th>\n",
       "      <td>577671</td>\n",
       "      <td>0.000000</td>\n",
       "      <td>0.0</td>\n",
       "      <td>0.036643</td>\n",
       "      <td>0.150664</td>\n",
       "      <td>NaN</td>\n",
       "      <td>NaN</td>\n",
       "    </tr>\n",
       "  </tbody>\n",
       "</table>\n",
       "</div>"
      ],
      "text/plain": [
       "       ID  AMOUNT_RUB_ATM_PRC  AMOUNT_RUB_CLO_PRC  AMOUNT_RUB_NAS_PRC  \\\n",
       "0  274285            0.998698                 0.0            0.000000   \n",
       "1  577671            0.000000                 0.0            0.036643   \n",
       "\n",
       "   AMOUNT_RUB_SUP_PRC  CNT_TRAN_ATM_TENDENCY1M  APP_COMP_TYPE  \n",
       "0            0.000000                 0.653846            NaN  \n",
       "1            0.150664                      NaN            NaN  "
      ]
     },
     "execution_count": 6,
     "metadata": {},
     "output_type": "execute_result"
    }
   ],
   "source": [
    "df3"
   ]
  },
  {
   "cell_type": "markdown",
   "metadata": {
    "pycharm": {
     "name": "#%% md\n"
    }
   },
   "source": [
    "## 2. Полезные команды"
   ]
  },
  {
   "cell_type": "markdown",
   "metadata": {
    "pycharm": {
     "name": "#%% md\n"
    }
   },
   "source": [
    "Ниже мы покажем несколько полезных команд, которые вам могут пригодиться для выполнения сегодняшнего задания."
   ]
  },
  {
   "cell_type": "markdown",
   "metadata": {
    "pycharm": {
     "name": "#%% md\n"
    }
   },
   "source": [
    "1. Узнать **названия полей** в датафрейме."
   ]
  },
  {
   "cell_type": "code",
   "execution_count": 7,
   "metadata": {
    "collapsed": false,
    "jupyter": {
     "outputs_hidden": false
    },
    "pycharm": {
     "name": "#%%\n"
    }
   },
   "outputs": [
    {
     "data": {
      "text/plain": [
       "Index(['ID', 'AMOUNT_RUB_ATM_PRC', 'AMOUNT_RUB_CLO_PRC', 'AMOUNT_RUB_NAS_PRC',\n",
       "       'APP_COMP_TYPE'],\n",
       "      dtype='object')"
      ]
     },
     "execution_count": 7,
     "metadata": {},
     "output_type": "execute_result"
    }
   ],
   "source": [
    "df1.columns"
   ]
  },
  {
   "cell_type": "markdown",
   "metadata": {
    "pycharm": {
     "name": "#%% md\n"
    }
   },
   "source": [
    "2. Присоединить датафрейм **справа**:"
   ]
  },
  {
   "cell_type": "code",
   "execution_count": 8,
   "metadata": {
    "collapsed": false,
    "jupyter": {
     "outputs_hidden": false
    },
    "pycharm": {
     "name": "#%%\n"
    }
   },
   "outputs": [],
   "source": [
    "df4 = df1.merge(df2, left_on='ID', right_on='ID') # выбираем ID в качестве ключа, по которому датафреймы будут объединяться"
   ]
  },
  {
   "cell_type": "code",
   "execution_count": 9,
   "metadata": {},
   "outputs": [
    {
     "data": {
      "text/html": [
       "<div>\n",
       "<style scoped>\n",
       "    .dataframe tbody tr th:only-of-type {\n",
       "        vertical-align: middle;\n",
       "    }\n",
       "\n",
       "    .dataframe tbody tr th {\n",
       "        vertical-align: top;\n",
       "    }\n",
       "\n",
       "    .dataframe thead th {\n",
       "        text-align: right;\n",
       "    }\n",
       "</style>\n",
       "<table border=\"1\" class=\"dataframe\">\n",
       "  <thead>\n",
       "    <tr style=\"text-align: right;\">\n",
       "      <th></th>\n",
       "      <th>ID</th>\n",
       "      <th>AMOUNT_RUB_ATM_PRC</th>\n",
       "      <th>AMOUNT_RUB_CLO_PRC</th>\n",
       "      <th>AMOUNT_RUB_NAS_PRC</th>\n",
       "      <th>APP_COMP_TYPE_x</th>\n",
       "      <th>AMOUNT_RUB_SUP_PRC</th>\n",
       "      <th>CNT_TRAN_ATM_TENDENCY1M</th>\n",
       "      <th>APP_COMP_TYPE_y</th>\n",
       "    </tr>\n",
       "  </thead>\n",
       "  <tbody>\n",
       "    <tr>\n",
       "      <th>0</th>\n",
       "      <td>358628</td>\n",
       "      <td>0.914453</td>\n",
       "      <td>0.003802</td>\n",
       "      <td>0.000000</td>\n",
       "      <td>NaN</td>\n",
       "      <td>0.030183</td>\n",
       "      <td>0.216216</td>\n",
       "      <td>NaN</td>\n",
       "    </tr>\n",
       "    <tr>\n",
       "      <th>1</th>\n",
       "      <td>528730</td>\n",
       "      <td>NaN</td>\n",
       "      <td>NaN</td>\n",
       "      <td>NaN</td>\n",
       "      <td>PRIVATE</td>\n",
       "      <td>NaN</td>\n",
       "      <td>NaN</td>\n",
       "      <td>PRIVATE</td>\n",
       "    </tr>\n",
       "    <tr>\n",
       "      <th>2</th>\n",
       "      <td>160451</td>\n",
       "      <td>0.989403</td>\n",
       "      <td>0.000239</td>\n",
       "      <td>0.000992</td>\n",
       "      <td>STATE</td>\n",
       "      <td>0.000765</td>\n",
       "      <td>NaN</td>\n",
       "      <td>STATE</td>\n",
       "    </tr>\n",
       "    <tr>\n",
       "      <th>3</th>\n",
       "      <td>210467</td>\n",
       "      <td>0.561584</td>\n",
       "      <td>0.000000</td>\n",
       "      <td>0.016932</td>\n",
       "      <td>PRIVATE</td>\n",
       "      <td>0.009256</td>\n",
       "      <td>NaN</td>\n",
       "      <td>PRIVATE</td>\n",
       "    </tr>\n",
       "    <tr>\n",
       "      <th>4</th>\n",
       "      <td>211110</td>\n",
       "      <td>0.909531</td>\n",
       "      <td>0.051183</td>\n",
       "      <td>0.000000</td>\n",
       "      <td>PRIVATE</td>\n",
       "      <td>0.023359</td>\n",
       "      <td>0.238095</td>\n",
       "      <td>PRIVATE</td>\n",
       "    </tr>\n",
       "    <tr>\n",
       "      <th>5</th>\n",
       "      <td>333131</td>\n",
       "      <td>0.485581</td>\n",
       "      <td>0.008142</td>\n",
       "      <td>0.000000</td>\n",
       "      <td>NaN</td>\n",
       "      <td>0.045329</td>\n",
       "      <td>0.400000</td>\n",
       "      <td>NaN</td>\n",
       "    </tr>\n",
       "  </tbody>\n",
       "</table>\n",
       "</div>"
      ],
      "text/plain": [
       "       ID  AMOUNT_RUB_ATM_PRC  AMOUNT_RUB_CLO_PRC  AMOUNT_RUB_NAS_PRC  \\\n",
       "0  358628            0.914453            0.003802            0.000000   \n",
       "1  528730                 NaN                 NaN                 NaN   \n",
       "2  160451            0.989403            0.000239            0.000992   \n",
       "3  210467            0.561584            0.000000            0.016932   \n",
       "4  211110            0.909531            0.051183            0.000000   \n",
       "5  333131            0.485581            0.008142            0.000000   \n",
       "\n",
       "  APP_COMP_TYPE_x  AMOUNT_RUB_SUP_PRC  CNT_TRAN_ATM_TENDENCY1M APP_COMP_TYPE_y  \n",
       "0             NaN            0.030183                 0.216216             NaN  \n",
       "1         PRIVATE                 NaN                      NaN         PRIVATE  \n",
       "2           STATE            0.000765                      NaN           STATE  \n",
       "3         PRIVATE            0.009256                      NaN         PRIVATE  \n",
       "4         PRIVATE            0.023359                 0.238095         PRIVATE  \n",
       "5             NaN            0.045329                 0.400000             NaN  "
      ]
     },
     "execution_count": 9,
     "metadata": {},
     "output_type": "execute_result"
    }
   ],
   "source": [
    "df4"
   ]
  },
  {
   "cell_type": "markdown",
   "metadata": {
    "pycharm": {
     "name": "#%% md\n"
    }
   },
   "source": [
    "2. Присоединить датафрейм **снизу**:"
   ]
  },
  {
   "cell_type": "code",
   "execution_count": 10,
   "metadata": {
    "collapsed": false,
    "jupyter": {
     "outputs_hidden": false
    },
    "pycharm": {
     "name": "#%%\n"
    }
   },
   "outputs": [
    {
     "data": {
      "text/html": [
       "<div>\n",
       "<style scoped>\n",
       "    .dataframe tbody tr th:only-of-type {\n",
       "        vertical-align: middle;\n",
       "    }\n",
       "\n",
       "    .dataframe tbody tr th {\n",
       "        vertical-align: top;\n",
       "    }\n",
       "\n",
       "    .dataframe thead th {\n",
       "        text-align: right;\n",
       "    }\n",
       "</style>\n",
       "<table border=\"1\" class=\"dataframe\">\n",
       "  <thead>\n",
       "    <tr style=\"text-align: right;\">\n",
       "      <th></th>\n",
       "      <th>ID</th>\n",
       "      <th>AMOUNT_RUB_SUP_PRC</th>\n",
       "      <th>CNT_TRAN_ATM_TENDENCY1M</th>\n",
       "      <th>APP_COMP_TYPE</th>\n",
       "      <th>AMOUNT_RUB_ATM_PRC</th>\n",
       "      <th>AMOUNT_RUB_CLO_PRC</th>\n",
       "      <th>AMOUNT_RUB_NAS_PRC</th>\n",
       "      <th>APP_COMP_TYPE_x</th>\n",
       "      <th>APP_COMP_TYPE_y</th>\n",
       "    </tr>\n",
       "  </thead>\n",
       "  <tbody>\n",
       "    <tr>\n",
       "      <th>0</th>\n",
       "      <td>358628</td>\n",
       "      <td>0.030183</td>\n",
       "      <td>0.216216</td>\n",
       "      <td>NaN</td>\n",
       "      <td>NaN</td>\n",
       "      <td>NaN</td>\n",
       "      <td>NaN</td>\n",
       "      <td>NaN</td>\n",
       "      <td>NaN</td>\n",
       "    </tr>\n",
       "    <tr>\n",
       "      <th>1</th>\n",
       "      <td>528730</td>\n",
       "      <td>NaN</td>\n",
       "      <td>NaN</td>\n",
       "      <td>PRIVATE</td>\n",
       "      <td>NaN</td>\n",
       "      <td>NaN</td>\n",
       "      <td>NaN</td>\n",
       "      <td>NaN</td>\n",
       "      <td>NaN</td>\n",
       "    </tr>\n",
       "    <tr>\n",
       "      <th>2</th>\n",
       "      <td>160451</td>\n",
       "      <td>0.000765</td>\n",
       "      <td>NaN</td>\n",
       "      <td>STATE</td>\n",
       "      <td>NaN</td>\n",
       "      <td>NaN</td>\n",
       "      <td>NaN</td>\n",
       "      <td>NaN</td>\n",
       "      <td>NaN</td>\n",
       "    </tr>\n",
       "    <tr>\n",
       "      <th>3</th>\n",
       "      <td>210467</td>\n",
       "      <td>0.009256</td>\n",
       "      <td>NaN</td>\n",
       "      <td>PRIVATE</td>\n",
       "      <td>NaN</td>\n",
       "      <td>NaN</td>\n",
       "      <td>NaN</td>\n",
       "      <td>NaN</td>\n",
       "      <td>NaN</td>\n",
       "    </tr>\n",
       "    <tr>\n",
       "      <th>4</th>\n",
       "      <td>211110</td>\n",
       "      <td>0.023359</td>\n",
       "      <td>0.238095</td>\n",
       "      <td>PRIVATE</td>\n",
       "      <td>NaN</td>\n",
       "      <td>NaN</td>\n",
       "      <td>NaN</td>\n",
       "      <td>NaN</td>\n",
       "      <td>NaN</td>\n",
       "    </tr>\n",
       "    <tr>\n",
       "      <th>5</th>\n",
       "      <td>333131</td>\n",
       "      <td>0.045329</td>\n",
       "      <td>0.400000</td>\n",
       "      <td>NaN</td>\n",
       "      <td>NaN</td>\n",
       "      <td>NaN</td>\n",
       "      <td>NaN</td>\n",
       "      <td>NaN</td>\n",
       "      <td>NaN</td>\n",
       "    </tr>\n",
       "    <tr>\n",
       "      <th>6</th>\n",
       "      <td>358628</td>\n",
       "      <td>0.030183</td>\n",
       "      <td>0.216216</td>\n",
       "      <td>NaN</td>\n",
       "      <td>0.914453</td>\n",
       "      <td>0.003802</td>\n",
       "      <td>0.000000</td>\n",
       "      <td>NaN</td>\n",
       "      <td>NaN</td>\n",
       "    </tr>\n",
       "    <tr>\n",
       "      <th>7</th>\n",
       "      <td>528730</td>\n",
       "      <td>NaN</td>\n",
       "      <td>NaN</td>\n",
       "      <td>NaN</td>\n",
       "      <td>NaN</td>\n",
       "      <td>NaN</td>\n",
       "      <td>NaN</td>\n",
       "      <td>PRIVATE</td>\n",
       "      <td>PRIVATE</td>\n",
       "    </tr>\n",
       "    <tr>\n",
       "      <th>8</th>\n",
       "      <td>160451</td>\n",
       "      <td>0.000765</td>\n",
       "      <td>NaN</td>\n",
       "      <td>NaN</td>\n",
       "      <td>0.989403</td>\n",
       "      <td>0.000239</td>\n",
       "      <td>0.000992</td>\n",
       "      <td>STATE</td>\n",
       "      <td>STATE</td>\n",
       "    </tr>\n",
       "    <tr>\n",
       "      <th>9</th>\n",
       "      <td>210467</td>\n",
       "      <td>0.009256</td>\n",
       "      <td>NaN</td>\n",
       "      <td>NaN</td>\n",
       "      <td>0.561584</td>\n",
       "      <td>0.000000</td>\n",
       "      <td>0.016932</td>\n",
       "      <td>PRIVATE</td>\n",
       "      <td>PRIVATE</td>\n",
       "    </tr>\n",
       "    <tr>\n",
       "      <th>10</th>\n",
       "      <td>211110</td>\n",
       "      <td>0.023359</td>\n",
       "      <td>0.238095</td>\n",
       "      <td>NaN</td>\n",
       "      <td>0.909531</td>\n",
       "      <td>0.051183</td>\n",
       "      <td>0.000000</td>\n",
       "      <td>PRIVATE</td>\n",
       "      <td>PRIVATE</td>\n",
       "    </tr>\n",
       "    <tr>\n",
       "      <th>11</th>\n",
       "      <td>333131</td>\n",
       "      <td>0.045329</td>\n",
       "      <td>0.400000</td>\n",
       "      <td>NaN</td>\n",
       "      <td>0.485581</td>\n",
       "      <td>0.008142</td>\n",
       "      <td>0.000000</td>\n",
       "      <td>NaN</td>\n",
       "      <td>NaN</td>\n",
       "    </tr>\n",
       "  </tbody>\n",
       "</table>\n",
       "</div>"
      ],
      "text/plain": [
       "        ID  AMOUNT_RUB_SUP_PRC  CNT_TRAN_ATM_TENDENCY1M APP_COMP_TYPE  \\\n",
       "0   358628            0.030183                 0.216216           NaN   \n",
       "1   528730                 NaN                      NaN       PRIVATE   \n",
       "2   160451            0.000765                      NaN         STATE   \n",
       "3   210467            0.009256                      NaN       PRIVATE   \n",
       "4   211110            0.023359                 0.238095       PRIVATE   \n",
       "5   333131            0.045329                 0.400000           NaN   \n",
       "6   358628            0.030183                 0.216216           NaN   \n",
       "7   528730                 NaN                      NaN           NaN   \n",
       "8   160451            0.000765                      NaN           NaN   \n",
       "9   210467            0.009256                      NaN           NaN   \n",
       "10  211110            0.023359                 0.238095           NaN   \n",
       "11  333131            0.045329                 0.400000           NaN   \n",
       "\n",
       "    AMOUNT_RUB_ATM_PRC  AMOUNT_RUB_CLO_PRC  AMOUNT_RUB_NAS_PRC  \\\n",
       "0                  NaN                 NaN                 NaN   \n",
       "1                  NaN                 NaN                 NaN   \n",
       "2                  NaN                 NaN                 NaN   \n",
       "3                  NaN                 NaN                 NaN   \n",
       "4                  NaN                 NaN                 NaN   \n",
       "5                  NaN                 NaN                 NaN   \n",
       "6             0.914453            0.003802            0.000000   \n",
       "7                  NaN                 NaN                 NaN   \n",
       "8             0.989403            0.000239            0.000992   \n",
       "9             0.561584            0.000000            0.016932   \n",
       "10            0.909531            0.051183            0.000000   \n",
       "11            0.485581            0.008142            0.000000   \n",
       "\n",
       "   APP_COMP_TYPE_x APP_COMP_TYPE_y  \n",
       "0              NaN             NaN  \n",
       "1              NaN             NaN  \n",
       "2              NaN             NaN  \n",
       "3              NaN             NaN  \n",
       "4              NaN             NaN  \n",
       "5              NaN             NaN  \n",
       "6              NaN             NaN  \n",
       "7          PRIVATE         PRIVATE  \n",
       "8            STATE           STATE  \n",
       "9          PRIVATE         PRIVATE  \n",
       "10         PRIVATE         PRIVATE  \n",
       "11             NaN             NaN  "
      ]
     },
     "execution_count": 10,
     "metadata": {},
     "output_type": "execute_result"
    }
   ],
   "source": [
    "df5 = pd.concat([df2, df4], ignore_index=True)\n",
    "df5"
   ]
  },
  {
   "cell_type": "markdown",
   "metadata": {
    "pycharm": {
     "name": "#%% md\n"
    }
   },
   "source": [
    "Теперь перейдем к этапу очистки данных. Напомним: вам нужно значения текстовых полей привести к единообразию. То есть слова, написанные немного по-разному, привести к одному варианту их написания."
   ]
  },
  {
   "cell_type": "markdown",
   "metadata": {
    "pycharm": {
     "name": "#%% md\n"
    }
   },
   "source": [
    "Ниже вы найдете перечень команд, которые помогут справиться с этим заданием по очистке полученного на предыдущем шаге датасета."
   ]
  },
  {
   "cell_type": "markdown",
   "metadata": {
    "pycharm": {
     "name": "#%% md\n"
    }
   },
   "source": [
    "4. Команда, которая поможет вам выявить, какие же поля являются текстовыми."
   ]
  },
  {
   "cell_type": "code",
   "execution_count": 11,
   "metadata": {
    "collapsed": false,
    "jupyter": {
     "outputs_hidden": false
    },
    "pycharm": {
     "name": "#%%\n"
    }
   },
   "outputs": [
    {
     "name": "stdout",
     "output_type": "stream",
     "text": [
      "<class 'pandas.core.frame.DataFrame'>\n",
      "RangeIndex: 12 entries, 0 to 11\n",
      "Data columns (total 9 columns):\n",
      " #   Column                   Non-Null Count  Dtype  \n",
      "---  ------                   --------------  -----  \n",
      " 0   ID                       12 non-null     int64  \n",
      " 1   AMOUNT_RUB_SUP_PRC       10 non-null     float64\n",
      " 2   CNT_TRAN_ATM_TENDENCY1M  6 non-null      float64\n",
      " 3   APP_COMP_TYPE            4 non-null      object \n",
      " 4   AMOUNT_RUB_ATM_PRC       5 non-null      float64\n",
      " 5   AMOUNT_RUB_CLO_PRC       5 non-null      float64\n",
      " 6   AMOUNT_RUB_NAS_PRC       5 non-null      float64\n",
      " 7   APP_COMP_TYPE_x          4 non-null      object \n",
      " 8   APP_COMP_TYPE_y          4 non-null      object \n",
      "dtypes: float64(5), int64(1), object(3)\n",
      "memory usage: 992.0+ bytes\n"
     ]
    }
   ],
   "source": [
    "df5.info(verbose=True)"
   ]
  },
  {
   "cell_type": "markdown",
   "metadata": {
    "pycharm": {
     "name": "#%% md\n"
    }
   },
   "source": [
    "5. Команда, позволяющая посмотреть **список уникальных значений** в столбце:"
   ]
  },
  {
   "cell_type": "code",
   "execution_count": 12,
   "metadata": {
    "collapsed": false,
    "jupyter": {
     "outputs_hidden": false
    },
    "pycharm": {
     "name": "#%%\n"
    }
   },
   "outputs": [
    {
     "data": {
      "text/plain": [
       "array([nan, 'PRIVATE', 'STATE'], dtype=object)"
      ]
     },
     "execution_count": 12,
     "metadata": {},
     "output_type": "execute_result"
    }
   ],
   "source": [
    "df5.APP_COMP_TYPE.unique() "
   ]
  },
  {
   "cell_type": "markdown",
   "metadata": {
    "pycharm": {
     "name": "#%% md\n"
    }
   },
   "source": [
    " Она же, только представленная **в виде списка**. Бывает полезной, когда уникальных значений слишком много и в предыдущем варианте показываются не все из них. Плюс результат не содержит всякой лишней информации."
   ]
  },
  {
   "cell_type": "code",
   "execution_count": 13,
   "metadata": {
    "collapsed": false,
    "jupyter": {
     "outputs_hidden": false
    },
    "pycharm": {
     "name": "#%%\n"
    }
   },
   "outputs": [
    {
     "data": {
      "text/plain": [
       "[nan, 'PRIVATE', 'STATE']"
      ]
     },
     "execution_count": 13,
     "metadata": {},
     "output_type": "execute_result"
    }
   ],
   "source": [
    "list(df5.APP_COMP_TYPE.unique()) "
   ]
  },
  {
   "cell_type": "markdown",
   "metadata": {
    "pycharm": {
     "name": "#%% md\n"
    }
   },
   "source": [
    "6. Команда, которая позволяет привести все значения признака в **в нижний регистр**:"
   ]
  },
  {
   "cell_type": "code",
   "execution_count": 14,
   "metadata": {
    "collapsed": false,
    "jupyter": {
     "outputs_hidden": false
    },
    "pycharm": {
     "name": "#%%\n"
    }
   },
   "outputs": [],
   "source": [
    "df5.APP_COMP_TYPE = df5.APP_COMP_TYPE.str.lower() #недостаточно просто применить метод lower к столбцу, нужно как бы его перезаписать "
   ]
  },
  {
   "cell_type": "code",
   "execution_count": 15,
   "metadata": {
    "collapsed": false,
    "jupyter": {
     "outputs_hidden": false
    },
    "pycharm": {
     "name": "#%%\n"
    }
   },
   "outputs": [
    {
     "data": {
      "text/plain": [
       "[nan, 'private', 'state']"
      ]
     },
     "execution_count": 15,
     "metadata": {},
     "output_type": "execute_result"
    }
   ],
   "source": [
    "list(df5.APP_COMP_TYPE.unique()) "
   ]
  },
  {
   "cell_type": "markdown",
   "metadata": {
    "pycharm": {
     "name": "#%% md\n"
    }
   },
   "source": [
    "7. Команда, которая позволяет заменить значения в столбце на другие значения:"
   ]
  },
  {
   "cell_type": "code",
   "execution_count": 16,
   "metadata": {
    "collapsed": false,
    "jupyter": {
     "outputs_hidden": false
    },
    "pycharm": {
     "name": "#%%\n"
    }
   },
   "outputs": [],
   "source": [
    "df5.APP_COMP_TYPE.replace('state','гос',inplace=True) "
   ]
  },
  {
   "cell_type": "code",
   "execution_count": 17,
   "metadata": {
    "collapsed": false,
    "jupyter": {
     "outputs_hidden": false
    },
    "pycharm": {
     "name": "#%%\n"
    }
   },
   "outputs": [
    {
     "data": {
      "text/plain": [
       "[nan, 'private', 'гос']"
      ]
     },
     "execution_count": 17,
     "metadata": {},
     "output_type": "execute_result"
    }
   ],
   "source": [
    "list(df5.APP_COMP_TYPE.unique()) "
   ]
  },
  {
   "cell_type": "markdown",
   "metadata": {
    "pycharm": {
     "name": "#%% md\n"
    }
   },
   "source": [
    "8. Команда, которая позволяет **отсортировать** значения в списке (может пригодиться, чтобы посмотреть на длинный список):"
   ]
  },
  {
   "cell_type": "code",
   "execution_count": 18,
   "metadata": {
    "collapsed": false,
    "jupyter": {
     "outputs_hidden": false
    },
    "pycharm": {
     "name": "#%%\n"
    }
   },
   "outputs": [
    {
     "ename": "TypeError",
     "evalue": "'<' not supported between instances of 'str' and 'float'",
     "output_type": "error",
     "traceback": [
      "\u001b[0;31m---------------------------------------------------------------------------\u001b[0m",
      "\u001b[0;31mTypeError\u001b[0m                                 Traceback (most recent call last)",
      "\u001b[0;32m/var/folders/05/_5jlrw8d0qn32lkr9k4_3jjw0000gn/T/ipykernel_32979/1690491859.py\u001b[0m in \u001b[0;36m<module>\u001b[0;34m\u001b[0m\n\u001b[0;32m----> 1\u001b[0;31m \u001b[0mlist\u001b[0m\u001b[0;34m(\u001b[0m\u001b[0mdf5\u001b[0m\u001b[0;34m.\u001b[0m\u001b[0mAPP_COMP_TYPE\u001b[0m\u001b[0;34m.\u001b[0m\u001b[0munique\u001b[0m\u001b[0;34m(\u001b[0m\u001b[0;34m)\u001b[0m\u001b[0;34m)\u001b[0m\u001b[0;34m.\u001b[0m\u001b[0msort\u001b[0m\u001b[0;34m(\u001b[0m\u001b[0;34m)\u001b[0m\u001b[0;34m\u001b[0m\u001b[0;34m\u001b[0m\u001b[0m\n\u001b[0m",
      "\u001b[0;31mTypeError\u001b[0m: '<' not supported between instances of 'str' and 'float'"
     ]
    }
   ],
   "source": [
    "list(df5.APP_COMP_TYPE.unique()).sort() "
   ]
  },
  {
   "cell_type": "markdown",
   "metadata": {
    "pycharm": {
     "name": "#%% md\n"
    }
   },
   "source": [
    "После нее выведется ошибка, потому что в списке есть nan – специальный тип данных, обозначающий пустое значение. По этой причине не может отсортировать список: все значения текстовые, а одно значение nan. Нужно этот nan удалить из списка уникальных значений, чтобы не мешался. Не будем вдаваться в подробности почему ниже команда выглядит именно так. Она приводит нас к результату."
   ]
  },
  {
   "cell_type": "code",
   "execution_count": 19,
   "metadata": {
    "pycharm": {
     "name": "#%% md\n"
    }
   },
   "outputs": [
    {
     "data": {
      "text/plain": [
       "['private', 'гос']"
      ]
     },
     "execution_count": 19,
     "metadata": {},
     "output_type": "execute_result"
    }
   ],
   "source": [
    "spisok = [x for x in list(df5.APP_COMP_TYPE.unique()) if x == x]\n",
    "spisok.sort()\n",
    "spisok"
   ]
  },
  {
   "cell_type": "markdown",
   "metadata": {
    "pycharm": {
     "name": "#%% md\n"
    }
   },
   "source": [
    "9. Команда, которая помогает **удалить из текстового поля числовые значения**, короткие значения, значения, где есть знаки препинания."
   ]
  },
  {
   "cell_type": "code",
   "execution_count": 20,
   "metadata": {
    "collapsed": false,
    "jupyter": {
     "outputs_hidden": false
    },
    "pycharm": {
     "name": "#%%\n"
    }
   },
   "outputs": [],
   "source": [
    "df5.APP_COMP_TYPE.where(df5.APP_COMP_TYPE.str.replace(' ','').str.isalpha(), np.nan, inplace=True) "
   ]
  },
  {
   "cell_type": "markdown",
   "metadata": {
    "id": "1o090lgxu3uK",
    "pycharm": {
     "name": "#%% md\n"
    }
   },
   "source": [
    "Если вам не хватает команд, представленных в этом ноутбуке, то вы можете **самостоятельно воспользоваться поиском в Google**.\n",
    "\n",
    "    \"pandas how to save a csv-file with header\"\n",
    "    \n",
    "    \"pandas how to save a csv-file with header\"\n",
    "     \n",
    "    \"pandas how to compare values of two columns\""
   ]
  },
  {
   "cell_type": "markdown",
   "metadata": {
    "id": "t14ECHnDu3uL",
    "pycharm": {
     "name": "#%% md\n"
    }
   },
   "source": [
    "## 3. Самостоятельная часть"
   ]
  },
  {
   "cell_type": "markdown",
   "metadata": {
    "id": "5Pnmm1v-u3uL",
    "pycharm": {
     "name": "#%% md\n"
    }
   },
   "source": [
    "Ниже вам нужно самим собрать целиком датасет из разрозненных кусков и почистить датасет в части текстовых полей."
   ]
  },
  {
   "cell_type": "markdown",
   "metadata": {},
   "source": [
    "### 3.1 Объединение датасета\n",
    "Вам нужно собрать полный датасет, собранный из частей датасета всех участников.\n",
    "1. Датасет должен содержать в шапке названия полей.\n",
    "2. Датасет не должен содержать лишних столбцов – только те, что были представлены в частях датасета.\n",
    "3. Датасет должен быть отсортирован по возрастанию значений поля `ID`.\n",
    "4. В датасете не должно быть дублирующихся строк и столбцов."
   ]
  },
  {
   "cell_type": "markdown",
   "metadata": {},
   "source": [
    "5. Выведете первые 10 строк объединенного датасета"
   ]
  },
  {
   "cell_type": "markdown",
   "metadata": {
    "id": "fCpCZqCMu3uM",
    "pycharm": {
     "name": "#%%\n"
    }
   },
   "source": [
    "6. Выведите количество столбцов и колонок в объединенном датасете"
   ]
  },
  {
   "cell_type": "code",
   "execution_count": null,
   "metadata": {},
   "outputs": [],
   "source": []
  },
  {
   "cell_type": "markdown",
   "metadata": {},
   "source": [
    "7. Проверьте датасеты на отсутствие дубликатов"
   ]
  },
  {
   "cell_type": "code",
   "execution_count": null,
   "metadata": {},
   "outputs": [],
   "source": []
  },
  {
   "cell_type": "markdown",
   "metadata": {
    "pycharm": {
     "name": "#%%\n"
    }
   },
   "source": [
    "### 3.2. Очистка текстовых данных\n",
    "Теперь можно приступать к очистке данных. Для этого нужно:\n",
    "1. Найти в получившемся датасете все поля, которые являются текстовыми.\n",
    "2. Привести их значения к нижнему регистру.\n",
    "3. В тех полях, где есть одновременно русское и английское написание одного и того же слова, оставить только русское (заменить английское на русское). Это условие не применять к полю `CLNT_JOB_POSITION`. Это будет чересчур даже для нашего курса :)\n",
    "4. Если текстовое значение состоит только из “` `“ (пробел), то его заменить на `NaN` (пустое значение, а не строку 'NaN').\n",
    "5. Если в текстовом значении есть цифры (телефон, дата рождения и др.), то всё значение текстового поля тоже заменить на `NaN`. Поле `PACK` оставить в исходном виде. Оно отвечает за пакет услуг клиента, и нам эта информация может быть важной. Затирать ее на пустые значения было бы опрометчиво.\n",
    "6. Если есть столбцы, которые абсолютно идентичны по своим значениям для одних и тех же строк, то оставить только тот столбец, который идет первее. Речь идет только о текстовых полях."
   ]
  },
  {
   "cell_type": "code",
   "execution_count": null,
   "metadata": {},
   "outputs": [],
   "source": []
  },
  {
   "cell_type": "code",
   "execution_count": null,
   "metadata": {},
   "outputs": [],
   "source": []
  },
  {
   "cell_type": "code",
   "execution_count": null,
   "metadata": {},
   "outputs": [],
   "source": []
  },
  {
   "cell_type": "markdown",
   "metadata": {},
   "source": [
    "7. Выведите количество уникальных значения в полях CLNT_TRUST_RELATION, APP_MARITAL_STATUS, CLNT_JOB_POSITION"
   ]
  },
  {
   "cell_type": "code",
   "execution_count": null,
   "metadata": {},
   "outputs": [],
   "source": []
  },
  {
   "cell_type": "markdown",
   "metadata": {},
   "source": [
    "8. Выведите колонки итогового датасета"
   ]
  },
  {
   "cell_type": "code",
   "execution_count": null,
   "metadata": {},
   "outputs": [],
   "source": []
  }
 ],
 "metadata": {
  "colab": {
   "collapsed_sections": [],
   "name": "d00_task.ipynb",
   "provenance": []
  },
  "kernelspec": {
   "display_name": "Python 3 (ipykernel)",
   "language": "python",
   "name": "python3"
  },
  "language_info": {
   "codemirror_mode": {
    "name": "ipython",
    "version": 3
   },
   "file_extension": ".py",
   "mimetype": "text/x-python",
   "name": "python",
   "nbconvert_exporter": "python",
   "pygments_lexer": "ipython3",
   "version": "3.9.10"
  }
 },
 "nbformat": 4,
 "nbformat_minor": 4
}
