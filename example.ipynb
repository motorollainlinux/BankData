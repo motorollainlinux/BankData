{
  "cells": [
    {
      "cell_type": "markdown",
      "metadata": {
        "id": "G4X2ZDUzu3t-",
        "pycharm": {
          "name": "#%% md\n"
        }
      },
      "source": [
        "# День 00 – Сбор и очистка данных"
      ]
    },
    {
      "cell_type": "markdown",
      "metadata": {
        "pycharm": {
          "name": "#%% md\n"
        },
        "id": "KE1bTbwvA825"
      },
      "source": [
        " Добро пожаловать в Jupyter Notebook! Это тот инструмент, в котором дата сайентисты проводят больше всего времени, работая с данными при помощи кода на Python. Здесь очень удобно работать в интерактивном режиме, запуская отдельные ячейки, а не весь код сразу и полностью. Тут же можно делать и отчеты, поскольку помимо кода, здесь удобно строить графики и писать текст."
      ]
    },
    {
      "cell_type": "markdown",
      "metadata": {
        "id": "nGSsI7ysu3uC",
        "pycharm": {
          "name": "#%% md\n"
        }
      },
      "source": [
        "Мы понимаем, что вы не программисты и скорее всего не планируете ими стать, поэтому насколько это возможно мы будем сопровождать такие ноутбуки комментариями и полезными командами, которые могут вам пригодиться для решения задачи. Но естественно здесь будет не всё: что-то вам придется поискать самостоятельно в интернете. Такова уж методология Школы 21, и она приносит свои плоды."
      ]
    },
    {
      "cell_type": "markdown",
      "metadata": {
        "pycharm": {
          "name": "#%% md\n"
        },
        "id": "wNoJxTlfA826"
      },
      "source": [
        "## 0. Импорт библиотек"
      ]
    },
    {
      "cell_type": "markdown",
      "metadata": {
        "pycharm": {
          "name": "#%% md\n"
        },
        "id": "TbOeuMbdA826"
      },
      "source": [
        "Библиотека – это по сути набор полезных функций и методов, которые написали одни программисты, а другие программисты могут уже не писать их с нуля, а пользоваться готовыми. Например, вы хотите посчитать среднее арифметическое значение по ряду. Вы можете самостоятельно написать код, который посчитает сумму по ряду и поделит на количество элементов в ряду, а можете импортировать библиотеку, где уже есть эта функция и воспользоваться ею. Это сэкономит вам время, силы, и код будет менее объемным.\n",
        "\n",
        "Ниже мы импортируем широко используемую библиотеку Pandas. В ней есть много полезных функций для работы с табличными данными. Почти Excel, только взаимодействие с ним через код на Python. Мы будем пользоваться этой библиотекой в течение всего курса."
      ]
    },
    {
      "cell_type": "code",
      "execution_count": null,
      "metadata": {
        "jupyter": {
          "outputs_hidden": false
        },
        "pycharm": {
          "name": "#%%\n"
        },
        "id": "hrPX4wb1A826"
      },
      "outputs": [],
      "source": [
        "import pandas as pd #мы будем часто пользоваться методами этой библиотеки, поэтому введем для нее сокращенное название – pd\n",
        "import numpy as np"
      ]
    },
    {
      "cell_type": "markdown",
      "metadata": {
        "id": "48CHlvSNA827"
      },
      "source": [
        "Давайте познакомимся с библиотекой Pandas. Pandas - это библиотека языка Python, который предоставляет быстрые, гибкие и выразительные структуры данных, разработанные для того, чтобы сделать работу с табличными данными простой и интуитивно понятной."
      ]
    },
    {
      "cell_type": "markdown",
      "metadata": {
        "pycharm": {
          "name": "#%% md\n"
        },
        "id": "Q9LPyJDGA827"
      },
      "source": [
        "## 1. Загрузка данных"
      ]
    },
    {
      "cell_type": "code",
      "execution_count": null,
      "metadata": {
        "id": "o9LpYE15A827"
      },
      "outputs": [],
      "source": [
        "df1 = pd.read_csv('../datasets/dataset_1.csv') #указываем путь к файлу\n",
        "df1.head() #посмотрим несколько первых строк получившегося датафрейма\n",
        "ptd1 = pd.read_csv('../datasets/part_01.csv')\n",
        "ptd2 = pd.read_csv('../datasets/part_02.csv')\n",
        "ptd3 = pd.read_csv('../datasets/part_03.csv')\n",
        "ptd4 = pd.read_csv('../datasets/part_04.csv')\n",
        "ptd5 = pd.read_csv('../datasets/part_05.csv')\n",
        "ptd6 = pd.read_csv('../datasets/part_06.csv')\n",
        "ptd7 = pd.read_csv('../datasets/part_07.csv')\n",
        "ptd8 = pd.read_csv('../datasets/part_08.csv')\n",
        "ptd9 = pd.read_csv('../datasets/part_09.csv')\n",
        "ptd10 = pd.read_csv('../datasets/part_10.csv')\n",
        "ptd11 = pd.read_csv('../datasets/part_11.csv')\n",
        "ptd12 = pd.read_csv('../datasets/part_12.csv')"
      ]
    },
    {
      "cell_type": "code",
      "execution_count": null,
      "metadata": {
        "id": "K0vFzjCEA827",
        "outputId": "53f154fb-955e-4a2e-ee3e-31ec5f5c77f4"
      },
      "outputs": [
        {
          "data": {
            "text/html": [
              "<div>\n",
              "<style scoped>\n",
              "    .dataframe tbody tr th:only-of-type {\n",
              "        vertical-align: middle;\n",
              "    }\n",
              "\n",
              "    .dataframe tbody tr th {\n",
              "        vertical-align: top;\n",
              "    }\n",
              "\n",
              "    .dataframe thead th {\n",
              "        text-align: right;\n",
              "    }\n",
              "</style>\n",
              "<table border=\"1\" class=\"dataframe\">\n",
              "  <thead>\n",
              "    <tr style=\"text-align: right;\">\n",
              "      <th></th>\n",
              "      <th>version https://git-lfs.github.com/spec/v1</th>\n",
              "    </tr>\n",
              "  </thead>\n",
              "  <tbody>\n",
              "    <tr>\n",
              "      <th>0</th>\n",
              "      <td>oid sha256:fade9e846afa2931d45d997fb0b8a509364...</td>\n",
              "    </tr>\n",
              "    <tr>\n",
              "      <th>1</th>\n",
              "      <td>size 273</td>\n",
              "    </tr>\n",
              "  </tbody>\n",
              "</table>\n",
              "</div>"
            ],
            "text/plain": [
              "          version https://git-lfs.github.com/spec/v1\n",
              "0  oid sha256:fade9e846afa2931d45d997fb0b8a509364...\n",
              "1                                           size 273"
            ]
          },
          "execution_count": 4,
          "metadata": {},
          "output_type": "execute_result"
        }
      ],
      "source": [
        "df = pd.read_csv('../datasets/dataset_2.csv')\n",
        "df.head()"
      ]
    },
    {
      "cell_type": "markdown",
      "metadata": {
        "pycharm": {
          "name": "#%% md\n"
        },
        "id": "K_3KAJw_A828"
      },
      "source": [
        "Если всё получилось, то вы увидите небольшой кусок таблицы: шапку, первые пять строчек"
      ]
    },
    {
      "cell_type": "markdown",
      "metadata": {
        "id": "ezHQwNeAA828"
      },
      "source": [
        "Загрузим еще несколько датасетов"
      ]
    },
    {
      "cell_type": "code",
      "execution_count": null,
      "metadata": {
        "id": "nv5Ox9n-A828"
      },
      "outputs": [],
      "source": [
        "df2 = pd.read_csv('../datasets/dataset_2.csv')"
      ]
    },
    {
      "cell_type": "code",
      "execution_count": null,
      "metadata": {
        "id": "7sVIWCQRA828",
        "outputId": "54c5e17a-03f8-4046-806a-5af8e7bebc4c"
      },
      "outputs": [
        {
          "data": {
            "text/html": [
              "<div>\n",
              "<style scoped>\n",
              "    .dataframe tbody tr th:only-of-type {\n",
              "        vertical-align: middle;\n",
              "    }\n",
              "\n",
              "    .dataframe tbody tr th {\n",
              "        vertical-align: top;\n",
              "    }\n",
              "\n",
              "    .dataframe thead th {\n",
              "        text-align: right;\n",
              "    }\n",
              "</style>\n",
              "<table border=\"1\" class=\"dataframe\">\n",
              "  <thead>\n",
              "    <tr style=\"text-align: right;\">\n",
              "      <th></th>\n",
              "      <th>ID</th>\n",
              "      <th>AMOUNT_RUB_SUP_PRC</th>\n",
              "      <th>CNT_TRAN_ATM_TENDENCY1M</th>\n",
              "      <th>APP_COMP_TYPE</th>\n",
              "    </tr>\n",
              "  </thead>\n",
              "  <tbody>\n",
              "    <tr>\n",
              "      <th>0</th>\n",
              "      <td>358628</td>\n",
              "      <td>0.030183</td>\n",
              "      <td>0.216216</td>\n",
              "      <td>NaN</td>\n",
              "    </tr>\n",
              "    <tr>\n",
              "      <th>1</th>\n",
              "      <td>528730</td>\n",
              "      <td>NaN</td>\n",
              "      <td>NaN</td>\n",
              "      <td>PRIVATE</td>\n",
              "    </tr>\n",
              "    <tr>\n",
              "      <th>2</th>\n",
              "      <td>160451</td>\n",
              "      <td>0.000765</td>\n",
              "      <td>NaN</td>\n",
              "      <td>STATE</td>\n",
              "    </tr>\n",
              "    <tr>\n",
              "      <th>3</th>\n",
              "      <td>210467</td>\n",
              "      <td>0.009256</td>\n",
              "      <td>NaN</td>\n",
              "      <td>PRIVATE</td>\n",
              "    </tr>\n",
              "    <tr>\n",
              "      <th>4</th>\n",
              "      <td>211110</td>\n",
              "      <td>0.023359</td>\n",
              "      <td>0.238095</td>\n",
              "      <td>PRIVATE</td>\n",
              "    </tr>\n",
              "    <tr>\n",
              "      <th>5</th>\n",
              "      <td>333131</td>\n",
              "      <td>0.045329</td>\n",
              "      <td>0.400000</td>\n",
              "      <td>NaN</td>\n",
              "    </tr>\n",
              "  </tbody>\n",
              "</table>\n",
              "</div>"
            ],
            "text/plain": [
              "       ID  AMOUNT_RUB_SUP_PRC  CNT_TRAN_ATM_TENDENCY1M APP_COMP_TYPE\n",
              "0  358628            0.030183                 0.216216           NaN\n",
              "1  528730                 NaN                      NaN       PRIVATE\n",
              "2  160451            0.000765                      NaN         STATE\n",
              "3  210467            0.009256                      NaN       PRIVATE\n",
              "4  211110            0.023359                 0.238095       PRIVATE\n",
              "5  333131            0.045329                 0.400000           NaN"
            ]
          },
          "execution_count": 4,
          "metadata": {},
          "output_type": "execute_result"
        }
      ],
      "source": [
        "df2"
      ]
    },
    {
      "cell_type": "code",
      "execution_count": null,
      "metadata": {
        "id": "DoyZjrA_A828"
      },
      "outputs": [],
      "source": [
        "df3 = pd.read_csv('../datasets/dataset_3.csv') #указываем путь к файлу"
      ]
    },
    {
      "cell_type": "code",
      "execution_count": null,
      "metadata": {
        "id": "Juv7u3LxA829",
        "outputId": "42fdf53e-6f66-407b-ce68-ab83bee4cd85"
      },
      "outputs": [
        {
          "data": {
            "text/html": [
              "<div>\n",
              "<style scoped>\n",
              "    .dataframe tbody tr th:only-of-type {\n",
              "        vertical-align: middle;\n",
              "    }\n",
              "\n",
              "    .dataframe tbody tr th {\n",
              "        vertical-align: top;\n",
              "    }\n",
              "\n",
              "    .dataframe thead th {\n",
              "        text-align: right;\n",
              "    }\n",
              "</style>\n",
              "<table border=\"1\" class=\"dataframe\">\n",
              "  <thead>\n",
              "    <tr style=\"text-align: right;\">\n",
              "      <th></th>\n",
              "      <th>ID</th>\n",
              "      <th>AMOUNT_RUB_ATM_PRC</th>\n",
              "      <th>AMOUNT_RUB_CLO_PRC</th>\n",
              "      <th>AMOUNT_RUB_NAS_PRC</th>\n",
              "      <th>AMOUNT_RUB_SUP_PRC</th>\n",
              "      <th>CNT_TRAN_ATM_TENDENCY1M</th>\n",
              "      <th>APP_COMP_TYPE</th>\n",
              "    </tr>\n",
              "  </thead>\n",
              "  <tbody>\n",
              "    <tr>\n",
              "      <th>0</th>\n",
              "      <td>274285</td>\n",
              "      <td>0.998698</td>\n",
              "      <td>0.0</td>\n",
              "      <td>0.000000</td>\n",
              "      <td>0.000000</td>\n",
              "      <td>0.653846</td>\n",
              "      <td>NaN</td>\n",
              "    </tr>\n",
              "    <tr>\n",
              "      <th>1</th>\n",
              "      <td>577671</td>\n",
              "      <td>0.000000</td>\n",
              "      <td>0.0</td>\n",
              "      <td>0.036643</td>\n",
              "      <td>0.150664</td>\n",
              "      <td>NaN</td>\n",
              "      <td>NaN</td>\n",
              "    </tr>\n",
              "  </tbody>\n",
              "</table>\n",
              "</div>"
            ],
            "text/plain": [
              "       ID  AMOUNT_RUB_ATM_PRC  AMOUNT_RUB_CLO_PRC  AMOUNT_RUB_NAS_PRC  \\\n",
              "0  274285            0.998698                 0.0            0.000000   \n",
              "1  577671            0.000000                 0.0            0.036643   \n",
              "\n",
              "   AMOUNT_RUB_SUP_PRC  CNT_TRAN_ATM_TENDENCY1M  APP_COMP_TYPE  \n",
              "0            0.000000                 0.653846            NaN  \n",
              "1            0.150664                      NaN            NaN  "
            ]
          },
          "execution_count": 6,
          "metadata": {},
          "output_type": "execute_result"
        }
      ],
      "source": [
        "df3"
      ]
    },
    {
      "cell_type": "markdown",
      "metadata": {
        "pycharm": {
          "name": "#%% md\n"
        },
        "id": "ufuZJ3G5A829"
      },
      "source": [
        "## 2. Полезные команды"
      ]
    },
    {
      "cell_type": "markdown",
      "metadata": {
        "pycharm": {
          "name": "#%% md\n"
        },
        "id": "TRdee5LqA829"
      },
      "source": [
        "Ниже мы покажем несколько полезных команд, которые вам могут пригодиться для выполнения сегодняшнего задания."
      ]
    },
    {
      "cell_type": "markdown",
      "metadata": {
        "pycharm": {
          "name": "#%% md\n"
        },
        "id": "FzjIekiUA829"
      },
      "source": [
        "1. Узнать **названия полей** в датафрейме."
      ]
    },
    {
      "cell_type": "code",
      "execution_count": null,
      "metadata": {
        "jupyter": {
          "outputs_hidden": false
        },
        "pycharm": {
          "name": "#%%\n"
        },
        "id": "h8nDRnxTA829",
        "outputId": "1c37057f-d231-427d-d05a-4bb5afac989b"
      },
      "outputs": [
        {
          "data": {
            "text/plain": [
              "Index(['ID', 'AMOUNT_RUB_ATM_PRC', 'AMOUNT_RUB_CLO_PRC', 'AMOUNT_RUB_NAS_PRC',\n",
              "       'APP_COMP_TYPE'],\n",
              "      dtype='object')"
            ]
          },
          "execution_count": 7,
          "metadata": {},
          "output_type": "execute_result"
        }
      ],
      "source": [
        "df1.columns"
      ]
    },
    {
      "cell_type": "markdown",
      "metadata": {
        "pycharm": {
          "name": "#%% md\n"
        },
        "id": "7LjZWk2aA829"
      },
      "source": [
        "2. Присоединить датафрейм **справа**:"
      ]
    },
    {
      "cell_type": "code",
      "execution_count": null,
      "metadata": {
        "jupyter": {
          "outputs_hidden": false
        },
        "pycharm": {
          "name": "#%%\n"
        },
        "id": "C5jDw4nHA829"
      },
      "outputs": [],
      "source": [
        "df4 = df1.merge(df2, left_on='ID', right_on='ID') # выбираем ID в качестве ключа, по которому датафреймы будут объединяться"
      ]
    },
    {
      "cell_type": "code",
      "execution_count": null,
      "metadata": {
        "id": "DPkqAnfnA829",
        "outputId": "03ee0db7-1756-4639-b3fe-30e7b37ce6db"
      },
      "outputs": [
        {
          "data": {
            "text/html": [
              "<div>\n",
              "<style scoped>\n",
              "    .dataframe tbody tr th:only-of-type {\n",
              "        vertical-align: middle;\n",
              "    }\n",
              "\n",
              "    .dataframe tbody tr th {\n",
              "        vertical-align: top;\n",
              "    }\n",
              "\n",
              "    .dataframe thead th {\n",
              "        text-align: right;\n",
              "    }\n",
              "</style>\n",
              "<table border=\"1\" class=\"dataframe\">\n",
              "  <thead>\n",
              "    <tr style=\"text-align: right;\">\n",
              "      <th></th>\n",
              "      <th>ID</th>\n",
              "      <th>AMOUNT_RUB_ATM_PRC</th>\n",
              "      <th>AMOUNT_RUB_CLO_PRC</th>\n",
              "      <th>AMOUNT_RUB_NAS_PRC</th>\n",
              "      <th>APP_COMP_TYPE_x</th>\n",
              "      <th>AMOUNT_RUB_SUP_PRC</th>\n",
              "      <th>CNT_TRAN_ATM_TENDENCY1M</th>\n",
              "      <th>APP_COMP_TYPE_y</th>\n",
              "    </tr>\n",
              "  </thead>\n",
              "  <tbody>\n",
              "    <tr>\n",
              "      <th>0</th>\n",
              "      <td>358628</td>\n",
              "      <td>0.914453</td>\n",
              "      <td>0.003802</td>\n",
              "      <td>0.000000</td>\n",
              "      <td>NaN</td>\n",
              "      <td>0.030183</td>\n",
              "      <td>0.216216</td>\n",
              "      <td>NaN</td>\n",
              "    </tr>\n",
              "    <tr>\n",
              "      <th>1</th>\n",
              "      <td>528730</td>\n",
              "      <td>NaN</td>\n",
              "      <td>NaN</td>\n",
              "      <td>NaN</td>\n",
              "      <td>PRIVATE</td>\n",
              "      <td>NaN</td>\n",
              "      <td>NaN</td>\n",
              "      <td>PRIVATE</td>\n",
              "    </tr>\n",
              "    <tr>\n",
              "      <th>2</th>\n",
              "      <td>160451</td>\n",
              "      <td>0.989403</td>\n",
              "      <td>0.000239</td>\n",
              "      <td>0.000992</td>\n",
              "      <td>STATE</td>\n",
              "      <td>0.000765</td>\n",
              "      <td>NaN</td>\n",
              "      <td>STATE</td>\n",
              "    </tr>\n",
              "    <tr>\n",
              "      <th>3</th>\n",
              "      <td>210467</td>\n",
              "      <td>0.561584</td>\n",
              "      <td>0.000000</td>\n",
              "      <td>0.016932</td>\n",
              "      <td>PRIVATE</td>\n",
              "      <td>0.009256</td>\n",
              "      <td>NaN</td>\n",
              "      <td>PRIVATE</td>\n",
              "    </tr>\n",
              "    <tr>\n",
              "      <th>4</th>\n",
              "      <td>211110</td>\n",
              "      <td>0.909531</td>\n",
              "      <td>0.051183</td>\n",
              "      <td>0.000000</td>\n",
              "      <td>PRIVATE</td>\n",
              "      <td>0.023359</td>\n",
              "      <td>0.238095</td>\n",
              "      <td>PRIVATE</td>\n",
              "    </tr>\n",
              "    <tr>\n",
              "      <th>5</th>\n",
              "      <td>333131</td>\n",
              "      <td>0.485581</td>\n",
              "      <td>0.008142</td>\n",
              "      <td>0.000000</td>\n",
              "      <td>NaN</td>\n",
              "      <td>0.045329</td>\n",
              "      <td>0.400000</td>\n",
              "      <td>NaN</td>\n",
              "    </tr>\n",
              "  </tbody>\n",
              "</table>\n",
              "</div>"
            ],
            "text/plain": [
              "       ID  AMOUNT_RUB_ATM_PRC  AMOUNT_RUB_CLO_PRC  AMOUNT_RUB_NAS_PRC  \\\n",
              "0  358628            0.914453            0.003802            0.000000   \n",
              "1  528730                 NaN                 NaN                 NaN   \n",
              "2  160451            0.989403            0.000239            0.000992   \n",
              "3  210467            0.561584            0.000000            0.016932   \n",
              "4  211110            0.909531            0.051183            0.000000   \n",
              "5  333131            0.485581            0.008142            0.000000   \n",
              "\n",
              "  APP_COMP_TYPE_x  AMOUNT_RUB_SUP_PRC  CNT_TRAN_ATM_TENDENCY1M APP_COMP_TYPE_y  \n",
              "0             NaN            0.030183                 0.216216             NaN  \n",
              "1         PRIVATE                 NaN                      NaN         PRIVATE  \n",
              "2           STATE            0.000765                      NaN           STATE  \n",
              "3         PRIVATE            0.009256                      NaN         PRIVATE  \n",
              "4         PRIVATE            0.023359                 0.238095         PRIVATE  \n",
              "5             NaN            0.045329                 0.400000             NaN  "
            ]
          },
          "execution_count": 9,
          "metadata": {},
          "output_type": "execute_result"
        }
      ],
      "source": [
        "df4"
      ]
    },
    {
      "cell_type": "markdown",
      "metadata": {
        "pycharm": {
          "name": "#%% md\n"
        },
        "id": "cB_IhB3-A829"
      },
      "source": [
        "2. Присоединить датафрейм **снизу**:"
      ]
    },
    {
      "cell_type": "code",
      "execution_count": null,
      "metadata": {
        "jupyter": {
          "outputs_hidden": false
        },
        "pycharm": {
          "name": "#%%\n"
        },
        "id": "QthOGoGmA82-",
        "outputId": "e1ca6f8c-a1b8-4403-bf7c-36108ae3f1e8"
      },
      "outputs": [
        {
          "data": {
            "text/html": [
              "<div>\n",
              "<style scoped>\n",
              "    .dataframe tbody tr th:only-of-type {\n",
              "        vertical-align: middle;\n",
              "    }\n",
              "\n",
              "    .dataframe tbody tr th {\n",
              "        vertical-align: top;\n",
              "    }\n",
              "\n",
              "    .dataframe thead th {\n",
              "        text-align: right;\n",
              "    }\n",
              "</style>\n",
              "<table border=\"1\" class=\"dataframe\">\n",
              "  <thead>\n",
              "    <tr style=\"text-align: right;\">\n",
              "      <th></th>\n",
              "      <th>ID</th>\n",
              "      <th>AMOUNT_RUB_SUP_PRC</th>\n",
              "      <th>CNT_TRAN_ATM_TENDENCY1M</th>\n",
              "      <th>APP_COMP_TYPE</th>\n",
              "      <th>AMOUNT_RUB_ATM_PRC</th>\n",
              "      <th>AMOUNT_RUB_CLO_PRC</th>\n",
              "      <th>AMOUNT_RUB_NAS_PRC</th>\n",
              "      <th>APP_COMP_TYPE_x</th>\n",
              "      <th>APP_COMP_TYPE_y</th>\n",
              "    </tr>\n",
              "  </thead>\n",
              "  <tbody>\n",
              "    <tr>\n",
              "      <th>0</th>\n",
              "      <td>358628</td>\n",
              "      <td>0.030183</td>\n",
              "      <td>0.216216</td>\n",
              "      <td>NaN</td>\n",
              "      <td>NaN</td>\n",
              "      <td>NaN</td>\n",
              "      <td>NaN</td>\n",
              "      <td>NaN</td>\n",
              "      <td>NaN</td>\n",
              "    </tr>\n",
              "    <tr>\n",
              "      <th>1</th>\n",
              "      <td>528730</td>\n",
              "      <td>NaN</td>\n",
              "      <td>NaN</td>\n",
              "      <td>PRIVATE</td>\n",
              "      <td>NaN</td>\n",
              "      <td>NaN</td>\n",
              "      <td>NaN</td>\n",
              "      <td>NaN</td>\n",
              "      <td>NaN</td>\n",
              "    </tr>\n",
              "    <tr>\n",
              "      <th>2</th>\n",
              "      <td>160451</td>\n",
              "      <td>0.000765</td>\n",
              "      <td>NaN</td>\n",
              "      <td>STATE</td>\n",
              "      <td>NaN</td>\n",
              "      <td>NaN</td>\n",
              "      <td>NaN</td>\n",
              "      <td>NaN</td>\n",
              "      <td>NaN</td>\n",
              "    </tr>\n",
              "    <tr>\n",
              "      <th>3</th>\n",
              "      <td>210467</td>\n",
              "      <td>0.009256</td>\n",
              "      <td>NaN</td>\n",
              "      <td>PRIVATE</td>\n",
              "      <td>NaN</td>\n",
              "      <td>NaN</td>\n",
              "      <td>NaN</td>\n",
              "      <td>NaN</td>\n",
              "      <td>NaN</td>\n",
              "    </tr>\n",
              "    <tr>\n",
              "      <th>4</th>\n",
              "      <td>211110</td>\n",
              "      <td>0.023359</td>\n",
              "      <td>0.238095</td>\n",
              "      <td>PRIVATE</td>\n",
              "      <td>NaN</td>\n",
              "      <td>NaN</td>\n",
              "      <td>NaN</td>\n",
              "      <td>NaN</td>\n",
              "      <td>NaN</td>\n",
              "    </tr>\n",
              "    <tr>\n",
              "      <th>5</th>\n",
              "      <td>333131</td>\n",
              "      <td>0.045329</td>\n",
              "      <td>0.400000</td>\n",
              "      <td>NaN</td>\n",
              "      <td>NaN</td>\n",
              "      <td>NaN</td>\n",
              "      <td>NaN</td>\n",
              "      <td>NaN</td>\n",
              "      <td>NaN</td>\n",
              "    </tr>\n",
              "    <tr>\n",
              "      <th>6</th>\n",
              "      <td>358628</td>\n",
              "      <td>0.030183</td>\n",
              "      <td>0.216216</td>\n",
              "      <td>NaN</td>\n",
              "      <td>0.914453</td>\n",
              "      <td>0.003802</td>\n",
              "      <td>0.000000</td>\n",
              "      <td>NaN</td>\n",
              "      <td>NaN</td>\n",
              "    </tr>\n",
              "    <tr>\n",
              "      <th>7</th>\n",
              "      <td>528730</td>\n",
              "      <td>NaN</td>\n",
              "      <td>NaN</td>\n",
              "      <td>NaN</td>\n",
              "      <td>NaN</td>\n",
              "      <td>NaN</td>\n",
              "      <td>NaN</td>\n",
              "      <td>PRIVATE</td>\n",
              "      <td>PRIVATE</td>\n",
              "    </tr>\n",
              "    <tr>\n",
              "      <th>8</th>\n",
              "      <td>160451</td>\n",
              "      <td>0.000765</td>\n",
              "      <td>NaN</td>\n",
              "      <td>NaN</td>\n",
              "      <td>0.989403</td>\n",
              "      <td>0.000239</td>\n",
              "      <td>0.000992</td>\n",
              "      <td>STATE</td>\n",
              "      <td>STATE</td>\n",
              "    </tr>\n",
              "    <tr>\n",
              "      <th>9</th>\n",
              "      <td>210467</td>\n",
              "      <td>0.009256</td>\n",
              "      <td>NaN</td>\n",
              "      <td>NaN</td>\n",
              "      <td>0.561584</td>\n",
              "      <td>0.000000</td>\n",
              "      <td>0.016932</td>\n",
              "      <td>PRIVATE</td>\n",
              "      <td>PRIVATE</td>\n",
              "    </tr>\n",
              "    <tr>\n",
              "      <th>10</th>\n",
              "      <td>211110</td>\n",
              "      <td>0.023359</td>\n",
              "      <td>0.238095</td>\n",
              "      <td>NaN</td>\n",
              "      <td>0.909531</td>\n",
              "      <td>0.051183</td>\n",
              "      <td>0.000000</td>\n",
              "      <td>PRIVATE</td>\n",
              "      <td>PRIVATE</td>\n",
              "    </tr>\n",
              "    <tr>\n",
              "      <th>11</th>\n",
              "      <td>333131</td>\n",
              "      <td>0.045329</td>\n",
              "      <td>0.400000</td>\n",
              "      <td>NaN</td>\n",
              "      <td>0.485581</td>\n",
              "      <td>0.008142</td>\n",
              "      <td>0.000000</td>\n",
              "      <td>NaN</td>\n",
              "      <td>NaN</td>\n",
              "    </tr>\n",
              "  </tbody>\n",
              "</table>\n",
              "</div>"
            ],
            "text/plain": [
              "        ID  AMOUNT_RUB_SUP_PRC  CNT_TRAN_ATM_TENDENCY1M APP_COMP_TYPE  \\\n",
              "0   358628            0.030183                 0.216216           NaN   \n",
              "1   528730                 NaN                      NaN       PRIVATE   \n",
              "2   160451            0.000765                      NaN         STATE   \n",
              "3   210467            0.009256                      NaN       PRIVATE   \n",
              "4   211110            0.023359                 0.238095       PRIVATE   \n",
              "5   333131            0.045329                 0.400000           NaN   \n",
              "6   358628            0.030183                 0.216216           NaN   \n",
              "7   528730                 NaN                      NaN           NaN   \n",
              "8   160451            0.000765                      NaN           NaN   \n",
              "9   210467            0.009256                      NaN           NaN   \n",
              "10  211110            0.023359                 0.238095           NaN   \n",
              "11  333131            0.045329                 0.400000           NaN   \n",
              "\n",
              "    AMOUNT_RUB_ATM_PRC  AMOUNT_RUB_CLO_PRC  AMOUNT_RUB_NAS_PRC  \\\n",
              "0                  NaN                 NaN                 NaN   \n",
              "1                  NaN                 NaN                 NaN   \n",
              "2                  NaN                 NaN                 NaN   \n",
              "3                  NaN                 NaN                 NaN   \n",
              "4                  NaN                 NaN                 NaN   \n",
              "5                  NaN                 NaN                 NaN   \n",
              "6             0.914453            0.003802            0.000000   \n",
              "7                  NaN                 NaN                 NaN   \n",
              "8             0.989403            0.000239            0.000992   \n",
              "9             0.561584            0.000000            0.016932   \n",
              "10            0.909531            0.051183            0.000000   \n",
              "11            0.485581            0.008142            0.000000   \n",
              "\n",
              "   APP_COMP_TYPE_x APP_COMP_TYPE_y  \n",
              "0              NaN             NaN  \n",
              "1              NaN             NaN  \n",
              "2              NaN             NaN  \n",
              "3              NaN             NaN  \n",
              "4              NaN             NaN  \n",
              "5              NaN             NaN  \n",
              "6              NaN             NaN  \n",
              "7          PRIVATE         PRIVATE  \n",
              "8            STATE           STATE  \n",
              "9          PRIVATE         PRIVATE  \n",
              "10         PRIVATE         PRIVATE  \n",
              "11             NaN             NaN  "
            ]
          },
          "execution_count": 10,
          "metadata": {},
          "output_type": "execute_result"
        }
      ],
      "source": [
        "df5 = pd.concat([df2, df4], ignore_index=True)\n",
        "df5"
      ]
    },
    {
      "cell_type": "markdown",
      "metadata": {
        "pycharm": {
          "name": "#%% md\n"
        },
        "id": "_DF6zmoYA82-"
      },
      "source": [
        "Теперь перейдем к этапу очистки данных. Напомним: вам нужно значения текстовых полей привести к единообразию. То есть слова, написанные немного по-разному, привести к одному варианту их написания."
      ]
    },
    {
      "cell_type": "markdown",
      "metadata": {
        "pycharm": {
          "name": "#%% md\n"
        },
        "id": "vxO54wi4A82-"
      },
      "source": [
        "Ниже вы найдете перечень команд, которые помогут справиться с этим заданием по очистке полученного на предыдущем шаге датасета."
      ]
    },
    {
      "cell_type": "markdown",
      "metadata": {
        "pycharm": {
          "name": "#%% md\n"
        },
        "id": "N82viZDCA82-"
      },
      "source": [
        "4. Команда, которая поможет вам выявить, какие же поля являются текстовыми."
      ]
    },
    {
      "cell_type": "code",
      "execution_count": null,
      "metadata": {
        "jupyter": {
          "outputs_hidden": false
        },
        "pycharm": {
          "name": "#%%\n"
        },
        "id": "mr4IbcK_A82-",
        "outputId": "22738188-a929-4410-f3c4-c26060d32aae"
      },
      "outputs": [
        {
          "name": "stdout",
          "output_type": "stream",
          "text": [
            "<class 'pandas.core.frame.DataFrame'>\n",
            "RangeIndex: 12 entries, 0 to 11\n",
            "Data columns (total 9 columns):\n",
            " #   Column                   Non-Null Count  Dtype  \n",
            "---  ------                   --------------  -----  \n",
            " 0   ID                       12 non-null     int64  \n",
            " 1   AMOUNT_RUB_SUP_PRC       10 non-null     float64\n",
            " 2   CNT_TRAN_ATM_TENDENCY1M  6 non-null      float64\n",
            " 3   APP_COMP_TYPE            4 non-null      object \n",
            " 4   AMOUNT_RUB_ATM_PRC       5 non-null      float64\n",
            " 5   AMOUNT_RUB_CLO_PRC       5 non-null      float64\n",
            " 6   AMOUNT_RUB_NAS_PRC       5 non-null      float64\n",
            " 7   APP_COMP_TYPE_x          4 non-null      object \n",
            " 8   APP_COMP_TYPE_y          4 non-null      object \n",
            "dtypes: float64(5), int64(1), object(3)\n",
            "memory usage: 992.0+ bytes\n"
          ]
        }
      ],
      "source": [
        "df5.info(verbose=True)"
      ]
    },
    {
      "cell_type": "markdown",
      "metadata": {
        "pycharm": {
          "name": "#%% md\n"
        },
        "id": "bQ6lDSpmA82-"
      },
      "source": [
        "5. Команда, позволяющая посмотреть **список уникальных значений** в столбце:"
      ]
    },
    {
      "cell_type": "code",
      "execution_count": null,
      "metadata": {
        "jupyter": {
          "outputs_hidden": false
        },
        "pycharm": {
          "name": "#%%\n"
        },
        "id": "nVop7aN9A82-",
        "outputId": "9d08d522-ee48-44bd-9411-cd88ea098f40"
      },
      "outputs": [
        {
          "data": {
            "text/plain": [
              "array([nan, 'PRIVATE', 'STATE'], dtype=object)"
            ]
          },
          "execution_count": 12,
          "metadata": {},
          "output_type": "execute_result"
        }
      ],
      "source": [
        "df5.APP_COMP_TYPE.unique()"
      ]
    },
    {
      "cell_type": "markdown",
      "metadata": {
        "pycharm": {
          "name": "#%% md\n"
        },
        "id": "vGAfNKNtA82-"
      },
      "source": [
        " Она же, только представленная **в виде списка**. Бывает полезной, когда уникальных значений слишком много и в предыдущем варианте показываются не все из них. Плюс результат не содержит всякой лишней информации."
      ]
    },
    {
      "cell_type": "code",
      "execution_count": null,
      "metadata": {
        "jupyter": {
          "outputs_hidden": false
        },
        "pycharm": {
          "name": "#%%\n"
        },
        "id": "Cp20SAWCA82-",
        "outputId": "f8442e4d-2fe1-434a-e379-f413bfddeefc"
      },
      "outputs": [
        {
          "data": {
            "text/plain": [
              "[nan, 'PRIVATE', 'STATE']"
            ]
          },
          "execution_count": 13,
          "metadata": {},
          "output_type": "execute_result"
        }
      ],
      "source": [
        "list(df5.APP_COMP_TYPE.unique())"
      ]
    },
    {
      "cell_type": "markdown",
      "metadata": {
        "pycharm": {
          "name": "#%% md\n"
        },
        "id": "iBVZB9QvA82_"
      },
      "source": [
        "6. Команда, которая позволяет привести все значения признака в **в нижний регистр**:"
      ]
    },
    {
      "cell_type": "code",
      "execution_count": null,
      "metadata": {
        "jupyter": {
          "outputs_hidden": false
        },
        "pycharm": {
          "name": "#%%\n"
        },
        "id": "RQYoZE6LA82_"
      },
      "outputs": [],
      "source": [
        "df5.APP_COMP_TYPE = df5.APP_COMP_TYPE.str.lower() #недостаточно просто применить метод lower к столбцу, нужно как бы его перезаписать"
      ]
    },
    {
      "cell_type": "code",
      "execution_count": null,
      "metadata": {
        "jupyter": {
          "outputs_hidden": false
        },
        "pycharm": {
          "name": "#%%\n"
        },
        "id": "oQQUxuMjA82_",
        "outputId": "36875b17-47de-4926-cc12-8991a021b540"
      },
      "outputs": [
        {
          "data": {
            "text/plain": [
              "[nan, 'private', 'state']"
            ]
          },
          "execution_count": 15,
          "metadata": {},
          "output_type": "execute_result"
        }
      ],
      "source": [
        "list(df5.APP_COMP_TYPE.unique())"
      ]
    },
    {
      "cell_type": "markdown",
      "metadata": {
        "pycharm": {
          "name": "#%% md\n"
        },
        "id": "J0AsJU_uA82_"
      },
      "source": [
        "7. Команда, которая позволяет заменить значения в столбце на другие значения:"
      ]
    },
    {
      "cell_type": "code",
      "execution_count": null,
      "metadata": {
        "jupyter": {
          "outputs_hidden": false
        },
        "pycharm": {
          "name": "#%%\n"
        },
        "id": "e05X2bDQA82_"
      },
      "outputs": [],
      "source": [
        "df5.APP_COMP_TYPE.replace('state','гос',inplace=True)"
      ]
    },
    {
      "cell_type": "code",
      "execution_count": null,
      "metadata": {
        "jupyter": {
          "outputs_hidden": false
        },
        "pycharm": {
          "name": "#%%\n"
        },
        "id": "XPTsJQuWA82_",
        "outputId": "7728bd7e-cb5c-4e5f-daf7-df85d26f6d22"
      },
      "outputs": [
        {
          "data": {
            "text/plain": [
              "[nan, 'private', 'гос']"
            ]
          },
          "execution_count": 17,
          "metadata": {},
          "output_type": "execute_result"
        }
      ],
      "source": [
        "list(df5.APP_COMP_TYPE.unique())"
      ]
    },
    {
      "cell_type": "markdown",
      "metadata": {
        "pycharm": {
          "name": "#%% md\n"
        },
        "id": "WKli0hT6A83A"
      },
      "source": [
        "8. Команда, которая позволяет **отсортировать** значения в списке (может пригодиться, чтобы посмотреть на длинный список):"
      ]
    },
    {
      "cell_type": "code",
      "execution_count": null,
      "metadata": {
        "jupyter": {
          "outputs_hidden": false
        },
        "pycharm": {
          "name": "#%%\n"
        },
        "id": "uoLUB8TEA83A",
        "outputId": "4e24d4be-fb60-4659-f6da-a8aa1c8568da"
      },
      "outputs": [
        {
          "ename": "TypeError",
          "evalue": "'<' not supported between instances of 'str' and 'float'",
          "output_type": "error",
          "traceback": [
            "\u001b[0;31m---------------------------------------------------------------------------\u001b[0m",
            "\u001b[0;31mTypeError\u001b[0m                                 Traceback (most recent call last)",
            "\u001b[0;32m/var/folders/05/_5jlrw8d0qn32lkr9k4_3jjw0000gn/T/ipykernel_32979/1690491859.py\u001b[0m in \u001b[0;36m<module>\u001b[0;34m\u001b[0m\n\u001b[0;32m----> 1\u001b[0;31m \u001b[0mlist\u001b[0m\u001b[0;34m(\u001b[0m\u001b[0mdf5\u001b[0m\u001b[0;34m.\u001b[0m\u001b[0mAPP_COMP_TYPE\u001b[0m\u001b[0;34m.\u001b[0m\u001b[0munique\u001b[0m\u001b[0;34m(\u001b[0m\u001b[0;34m)\u001b[0m\u001b[0;34m)\u001b[0m\u001b[0;34m.\u001b[0m\u001b[0msort\u001b[0m\u001b[0;34m(\u001b[0m\u001b[0;34m)\u001b[0m\u001b[0;34m\u001b[0m\u001b[0;34m\u001b[0m\u001b[0m\n\u001b[0m",
            "\u001b[0;31mTypeError\u001b[0m: '<' not supported between instances of 'str' and 'float'"
          ]
        }
      ],
      "source": [
        "list(df5.APP_COMP_TYPE.unique()).sort()"
      ]
    },
    {
      "cell_type": "markdown",
      "metadata": {
        "pycharm": {
          "name": "#%% md\n"
        },
        "id": "r7kk8MJoA83A"
      },
      "source": [
        "После нее выведется ошибка, потому что в списке есть nan – специальный тип данных, обозначающий пустое значение. По этой причине не может отсортировать список: все значения текстовые, а одно значение nan. Нужно этот nan удалить из списка уникальных значений, чтобы не мешался. Не будем вдаваться в подробности почему ниже команда выглядит именно так. Она приводит нас к результату."
      ]
    },
    {
      "cell_type": "code",
      "execution_count": null,
      "metadata": {
        "pycharm": {
          "name": "#%% md\n"
        },
        "id": "yPfInxNyA83A",
        "outputId": "565f9d9c-e701-4924-fd41-4fa626bc4f5c"
      },
      "outputs": [
        {
          "data": {
            "text/plain": [
              "['private', 'гос']"
            ]
          },
          "execution_count": 19,
          "metadata": {},
          "output_type": "execute_result"
        }
      ],
      "source": [
        "spisok = [x for x in list(df5.APP_COMP_TYPE.unique()) if x == x]\n",
        "spisok.sort()\n",
        "spisok"
      ]
    },
    {
      "cell_type": "markdown",
      "metadata": {
        "pycharm": {
          "name": "#%% md\n"
        },
        "id": "0VdKAAHNA83A"
      },
      "source": [
        "9. Команда, которая помогает **удалить из текстового поля числовые значения**, короткие значения, значения, где есть знаки препинания."
      ]
    },
    {
      "cell_type": "code",
      "execution_count": null,
      "metadata": {
        "jupyter": {
          "outputs_hidden": false
        },
        "pycharm": {
          "name": "#%%\n"
        },
        "id": "tywmLFLzA83A"
      },
      "outputs": [],
      "source": [
        "df5.APP_COMP_TYPE.where(df5.APP_COMP_TYPE.str.replace(' ','').str.isalpha(), np.nan, inplace=True)"
      ]
    },
    {
      "cell_type": "markdown",
      "metadata": {
        "id": "1o090lgxu3uK",
        "pycharm": {
          "name": "#%% md\n"
        }
      },
      "source": [
        "Если вам не хватает команд, представленных в этом ноутбуке, то вы можете **самостоятельно воспользоваться поиском в Google**.\n",
        "\n",
        "    \"pandas how to save a csv-file with header\"\n",
        "    \n",
        "    \"pandas how to save a csv-file with header\"\n",
        "     \n",
        "    \"pandas how to compare values of two columns\""
      ]
    },
    {
      "cell_type": "markdown",
      "metadata": {
        "id": "t14ECHnDu3uL",
        "pycharm": {
          "name": "#%% md\n"
        }
      },
      "source": [
        "## 3. Самостоятельная часть"
      ]
    },
    {
      "cell_type": "markdown",
      "metadata": {
        "id": "5Pnmm1v-u3uL",
        "pycharm": {
          "name": "#%% md\n"
        }
      },
      "source": [
        "Ниже вам нужно самим собрать целиком датасет из разрозненных кусков и почистить датасет в части текстовых полей."
      ]
    },
    {
      "cell_type": "markdown",
      "metadata": {
        "id": "3pWgxmSMA83B"
      },
      "source": [
        "### 3.1 Объединение датасета\n",
        "Вам нужно собрать полный датасет, собранный из частей датасета всех участников.\n",
        "1. Датасет должен содержать в шапке названия полей.\n",
        "2. Датасет не должен содержать лишних столбцов – только те, что были представлены в частях датасета.\n",
        "3. Датасет должен быть отсортирован по возрастанию значений поля `ID`.\n",
        "4. В датасете не должно быть дублирующихся строк и столбцов."
      ]
    },
    {
      "cell_type": "markdown",
      "metadata": {
        "id": "zM1maJ5NA83B"
      },
      "source": [
        "5. Выведете первые 10 строк объединенного датасета"
      ]
    },
    {
      "cell_type": "markdown",
      "metadata": {
        "id": "fCpCZqCMu3uM",
        "pycharm": {
          "name": "#%%\n"
        }
      },
      "source": [
        "6. Выведите количество столбцов и колонок в объединенном датасете"
      ]
    },
    {
      "cell_type": "code",
      "execution_count": 13,
      "metadata": {
        "id": "XtKNngqOA83B",
        "outputId": "62449c4d-18b3-49b4-8b19-a21ec1fcd22f",
        "colab": {
          "base_uri": "https://localhost:8080/",
          "height": 430
        }
      },
      "outputs": [
        {
          "output_type": "stream",
          "name": "stdout",
          "text": [
            "(5443, 116)\n"
          ]
        },
        {
          "output_type": "execute_result",
          "data": {
            "text/plain": [
              "          ID  AMOUNT_RUB_ATM_PRC  AMOUNT_RUB_CLO_PRC  AMOUNT_RUB_NAS_PRC  \\\n",
              "1468  146858            0.987257            0.000000            0.000000   \n",
              "2579  146859            0.985019            0.000000            0.000000   \n",
              "5334  146873            0.580898            0.000000            0.001035   \n",
              "3745  146886            1.000000            0.000000            0.000000   \n",
              "4854  146927            0.821829            0.063757            0.000000   \n",
              "3242  147088                 NaN                 NaN                 NaN   \n",
              "1981  147169            0.825056            0.000000            0.004125   \n",
              "4623  147261            0.851709            0.033868            0.008637   \n",
              "626   147262            0.636364            0.000000            0.363636   \n",
              "69    147330            0.000000            0.186782            0.000000   \n",
              "\n",
              "      AMOUNT_RUB_SUP_PRC  CNT_TRAN_ATM_TENDENCY1M  CNT_TRAN_ATM_TENDENCY3M  \\\n",
              "1468            0.000000                 0.125000                 0.250000   \n",
              "2579            0.000000                 0.333333                 1.000000   \n",
              "5334            0.031860                 0.266667                 0.533333   \n",
              "3745            0.000000                 0.142857                 0.380952   \n",
              "4854            0.007720                 0.181818                 0.363636   \n",
              "3242                 NaN                      NaN                      NaN   \n",
              "1981            0.091190                 0.272727                 0.454545   \n",
              "4623            0.000000                      NaN                 1.000000   \n",
              "626             0.000000                 1.000000                 1.000000   \n",
              "69              0.346079                      NaN                      NaN   \n",
              "\n",
              "      CNT_TRAN_AUT_TENDENCY1M  CNT_TRAN_AUT_TENDENCY3M  \\\n",
              "1468                      NaN                      NaN   \n",
              "2579                      NaN                      NaN   \n",
              "5334                      0.1                      0.6   \n",
              "3745                      NaN                      NaN   \n",
              "4854                      NaN                      NaN   \n",
              "3242                      NaN                      NaN   \n",
              "1981                      NaN                      NaN   \n",
              "4623                      NaN                      NaN   \n",
              "626                       NaN                      NaN   \n",
              "69                        NaN                      NaN   \n",
              "\n",
              "      CNT_TRAN_CLO_TENDENCY1M  ...  TURNOVER_CC  TURNOVER_DYNAMIC_CC_1M  \\\n",
              "1468                      NaN  ...          0.0                     0.0   \n",
              "2579                      NaN  ...          0.0                     0.0   \n",
              "5334                      NaN  ...          0.0                     0.0   \n",
              "3745                      NaN  ...          0.0                     0.0   \n",
              "4854                     0.25  ...          0.0                     0.0   \n",
              "3242                      NaN  ...          0.0                     0.0   \n",
              "1981                      NaN  ...          0.0                     0.0   \n",
              "4623                      NaN  ...          0.0                     0.0   \n",
              "626                       NaN  ...          0.0                     0.0   \n",
              "69                       1.00  ...          0.0                     0.0   \n",
              "\n",
              "      TURNOVER_DYNAMIC_CC_3M  TURNOVER_DYNAMIC_CUR_1M  \\\n",
              "1468                     0.0                 0.042694   \n",
              "2579                     0.0                 0.235878   \n",
              "5334                     0.0                 0.174925   \n",
              "3745                     0.0                 0.220986   \n",
              "4854                     0.0                 0.148287   \n",
              "3242                     0.0                 0.000000   \n",
              "1981                     0.0                 0.000000   \n",
              "4623                     0.0                 0.011021   \n",
              "626                      0.0                 0.179274   \n",
              "69                       0.0                 0.230038   \n",
              "\n",
              "      TURNOVER_DYNAMIC_CUR_3M  TURNOVER_DYNAMIC_IL_1M  TURNOVER_DYNAMIC_IL_3M  \\\n",
              "1468                 0.224078                     0.0                 0.00000   \n",
              "2579                 0.987447                     0.0                 0.00000   \n",
              "5334                 0.512234                     0.0                 0.00000   \n",
              "3745                 0.436326                     0.0                 0.57799   \n",
              "4854                 0.356910                     0.0                 0.00000   \n",
              "3242                 0.000000                     0.0                 0.00000   \n",
              "1981                 1.000000                     0.0                 0.00000   \n",
              "4623                 0.011021                     0.0                 0.00000   \n",
              "626                  0.429872                     0.0                 0.00000   \n",
              "69                   0.230218                     0.0                 0.00000   \n",
              "\n",
              "      TURNOVER_DYNAMIC_PAYM_1M  TURNOVER_DYNAMIC_PAYM_3M  TURNOVER_PAYM  \n",
              "1468                  0.000000                  0.000000       0.000000  \n",
              "2579                  0.000000                  0.000000       9.873333  \n",
              "5334                  0.000000                  0.000000       0.000000  \n",
              "3745                  0.000000                  0.000000       0.000000  \n",
              "4854                  0.000000                  0.000000       0.000000  \n",
              "3242                  0.000000                  0.000000       0.000000  \n",
              "1981                  0.038519                  0.242430  139615.321667  \n",
              "4623                  0.053120                  0.543099   70378.180000  \n",
              "626                   0.000000                  0.000000       0.000000  \n",
              "69                    0.000000                  0.000000       0.000000  \n",
              "\n",
              "[10 rows x 116 columns]"
            ],
            "text/html": [
              "\n",
              "  <div id=\"df-92893826-1f0d-47b4-a04b-8cffd932f450\" class=\"colab-df-container\">\n",
              "    <div>\n",
              "<style scoped>\n",
              "    .dataframe tbody tr th:only-of-type {\n",
              "        vertical-align: middle;\n",
              "    }\n",
              "\n",
              "    .dataframe tbody tr th {\n",
              "        vertical-align: top;\n",
              "    }\n",
              "\n",
              "    .dataframe thead th {\n",
              "        text-align: right;\n",
              "    }\n",
              "</style>\n",
              "<table border=\"1\" class=\"dataframe\">\n",
              "  <thead>\n",
              "    <tr style=\"text-align: right;\">\n",
              "      <th></th>\n",
              "      <th>ID</th>\n",
              "      <th>AMOUNT_RUB_ATM_PRC</th>\n",
              "      <th>AMOUNT_RUB_CLO_PRC</th>\n",
              "      <th>AMOUNT_RUB_NAS_PRC</th>\n",
              "      <th>AMOUNT_RUB_SUP_PRC</th>\n",
              "      <th>CNT_TRAN_ATM_TENDENCY1M</th>\n",
              "      <th>CNT_TRAN_ATM_TENDENCY3M</th>\n",
              "      <th>CNT_TRAN_AUT_TENDENCY1M</th>\n",
              "      <th>CNT_TRAN_AUT_TENDENCY3M</th>\n",
              "      <th>CNT_TRAN_CLO_TENDENCY1M</th>\n",
              "      <th>...</th>\n",
              "      <th>TURNOVER_CC</th>\n",
              "      <th>TURNOVER_DYNAMIC_CC_1M</th>\n",
              "      <th>TURNOVER_DYNAMIC_CC_3M</th>\n",
              "      <th>TURNOVER_DYNAMIC_CUR_1M</th>\n",
              "      <th>TURNOVER_DYNAMIC_CUR_3M</th>\n",
              "      <th>TURNOVER_DYNAMIC_IL_1M</th>\n",
              "      <th>TURNOVER_DYNAMIC_IL_3M</th>\n",
              "      <th>TURNOVER_DYNAMIC_PAYM_1M</th>\n",
              "      <th>TURNOVER_DYNAMIC_PAYM_3M</th>\n",
              "      <th>TURNOVER_PAYM</th>\n",
              "    </tr>\n",
              "  </thead>\n",
              "  <tbody>\n",
              "    <tr>\n",
              "      <th>1468</th>\n",
              "      <td>146858</td>\n",
              "      <td>0.987257</td>\n",
              "      <td>0.000000</td>\n",
              "      <td>0.000000</td>\n",
              "      <td>0.000000</td>\n",
              "      <td>0.125000</td>\n",
              "      <td>0.250000</td>\n",
              "      <td>NaN</td>\n",
              "      <td>NaN</td>\n",
              "      <td>NaN</td>\n",
              "      <td>...</td>\n",
              "      <td>0.0</td>\n",
              "      <td>0.0</td>\n",
              "      <td>0.0</td>\n",
              "      <td>0.042694</td>\n",
              "      <td>0.224078</td>\n",
              "      <td>0.0</td>\n",
              "      <td>0.00000</td>\n",
              "      <td>0.000000</td>\n",
              "      <td>0.000000</td>\n",
              "      <td>0.000000</td>\n",
              "    </tr>\n",
              "    <tr>\n",
              "      <th>2579</th>\n",
              "      <td>146859</td>\n",
              "      <td>0.985019</td>\n",
              "      <td>0.000000</td>\n",
              "      <td>0.000000</td>\n",
              "      <td>0.000000</td>\n",
              "      <td>0.333333</td>\n",
              "      <td>1.000000</td>\n",
              "      <td>NaN</td>\n",
              "      <td>NaN</td>\n",
              "      <td>NaN</td>\n",
              "      <td>...</td>\n",
              "      <td>0.0</td>\n",
              "      <td>0.0</td>\n",
              "      <td>0.0</td>\n",
              "      <td>0.235878</td>\n",
              "      <td>0.987447</td>\n",
              "      <td>0.0</td>\n",
              "      <td>0.00000</td>\n",
              "      <td>0.000000</td>\n",
              "      <td>0.000000</td>\n",
              "      <td>9.873333</td>\n",
              "    </tr>\n",
              "    <tr>\n",
              "      <th>5334</th>\n",
              "      <td>146873</td>\n",
              "      <td>0.580898</td>\n",
              "      <td>0.000000</td>\n",
              "      <td>0.001035</td>\n",
              "      <td>0.031860</td>\n",
              "      <td>0.266667</td>\n",
              "      <td>0.533333</td>\n",
              "      <td>0.1</td>\n",
              "      <td>0.6</td>\n",
              "      <td>NaN</td>\n",
              "      <td>...</td>\n",
              "      <td>0.0</td>\n",
              "      <td>0.0</td>\n",
              "      <td>0.0</td>\n",
              "      <td>0.174925</td>\n",
              "      <td>0.512234</td>\n",
              "      <td>0.0</td>\n",
              "      <td>0.00000</td>\n",
              "      <td>0.000000</td>\n",
              "      <td>0.000000</td>\n",
              "      <td>0.000000</td>\n",
              "    </tr>\n",
              "    <tr>\n",
              "      <th>3745</th>\n",
              "      <td>146886</td>\n",
              "      <td>1.000000</td>\n",
              "      <td>0.000000</td>\n",
              "      <td>0.000000</td>\n",
              "      <td>0.000000</td>\n",
              "      <td>0.142857</td>\n",
              "      <td>0.380952</td>\n",
              "      <td>NaN</td>\n",
              "      <td>NaN</td>\n",
              "      <td>NaN</td>\n",
              "      <td>...</td>\n",
              "      <td>0.0</td>\n",
              "      <td>0.0</td>\n",
              "      <td>0.0</td>\n",
              "      <td>0.220986</td>\n",
              "      <td>0.436326</td>\n",
              "      <td>0.0</td>\n",
              "      <td>0.57799</td>\n",
              "      <td>0.000000</td>\n",
              "      <td>0.000000</td>\n",
              "      <td>0.000000</td>\n",
              "    </tr>\n",
              "    <tr>\n",
              "      <th>4854</th>\n",
              "      <td>146927</td>\n",
              "      <td>0.821829</td>\n",
              "      <td>0.063757</td>\n",
              "      <td>0.000000</td>\n",
              "      <td>0.007720</td>\n",
              "      <td>0.181818</td>\n",
              "      <td>0.363636</td>\n",
              "      <td>NaN</td>\n",
              "      <td>NaN</td>\n",
              "      <td>0.25</td>\n",
              "      <td>...</td>\n",
              "      <td>0.0</td>\n",
              "      <td>0.0</td>\n",
              "      <td>0.0</td>\n",
              "      <td>0.148287</td>\n",
              "      <td>0.356910</td>\n",
              "      <td>0.0</td>\n",
              "      <td>0.00000</td>\n",
              "      <td>0.000000</td>\n",
              "      <td>0.000000</td>\n",
              "      <td>0.000000</td>\n",
              "    </tr>\n",
              "    <tr>\n",
              "      <th>3242</th>\n",
              "      <td>147088</td>\n",
              "      <td>NaN</td>\n",
              "      <td>NaN</td>\n",
              "      <td>NaN</td>\n",
              "      <td>NaN</td>\n",
              "      <td>NaN</td>\n",
              "      <td>NaN</td>\n",
              "      <td>NaN</td>\n",
              "      <td>NaN</td>\n",
              "      <td>NaN</td>\n",
              "      <td>...</td>\n",
              "      <td>0.0</td>\n",
              "      <td>0.0</td>\n",
              "      <td>0.0</td>\n",
              "      <td>0.000000</td>\n",
              "      <td>0.000000</td>\n",
              "      <td>0.0</td>\n",
              "      <td>0.00000</td>\n",
              "      <td>0.000000</td>\n",
              "      <td>0.000000</td>\n",
              "      <td>0.000000</td>\n",
              "    </tr>\n",
              "    <tr>\n",
              "      <th>1981</th>\n",
              "      <td>147169</td>\n",
              "      <td>0.825056</td>\n",
              "      <td>0.000000</td>\n",
              "      <td>0.004125</td>\n",
              "      <td>0.091190</td>\n",
              "      <td>0.272727</td>\n",
              "      <td>0.454545</td>\n",
              "      <td>NaN</td>\n",
              "      <td>NaN</td>\n",
              "      <td>NaN</td>\n",
              "      <td>...</td>\n",
              "      <td>0.0</td>\n",
              "      <td>0.0</td>\n",
              "      <td>0.0</td>\n",
              "      <td>0.000000</td>\n",
              "      <td>1.000000</td>\n",
              "      <td>0.0</td>\n",
              "      <td>0.00000</td>\n",
              "      <td>0.038519</td>\n",
              "      <td>0.242430</td>\n",
              "      <td>139615.321667</td>\n",
              "    </tr>\n",
              "    <tr>\n",
              "      <th>4623</th>\n",
              "      <td>147261</td>\n",
              "      <td>0.851709</td>\n",
              "      <td>0.033868</td>\n",
              "      <td>0.008637</td>\n",
              "      <td>0.000000</td>\n",
              "      <td>NaN</td>\n",
              "      <td>1.000000</td>\n",
              "      <td>NaN</td>\n",
              "      <td>NaN</td>\n",
              "      <td>NaN</td>\n",
              "      <td>...</td>\n",
              "      <td>0.0</td>\n",
              "      <td>0.0</td>\n",
              "      <td>0.0</td>\n",
              "      <td>0.011021</td>\n",
              "      <td>0.011021</td>\n",
              "      <td>0.0</td>\n",
              "      <td>0.00000</td>\n",
              "      <td>0.053120</td>\n",
              "      <td>0.543099</td>\n",
              "      <td>70378.180000</td>\n",
              "    </tr>\n",
              "    <tr>\n",
              "      <th>626</th>\n",
              "      <td>147262</td>\n",
              "      <td>0.636364</td>\n",
              "      <td>0.000000</td>\n",
              "      <td>0.363636</td>\n",
              "      <td>0.000000</td>\n",
              "      <td>1.000000</td>\n",
              "      <td>1.000000</td>\n",
              "      <td>NaN</td>\n",
              "      <td>NaN</td>\n",
              "      <td>NaN</td>\n",
              "      <td>...</td>\n",
              "      <td>0.0</td>\n",
              "      <td>0.0</td>\n",
              "      <td>0.0</td>\n",
              "      <td>0.179274</td>\n",
              "      <td>0.429872</td>\n",
              "      <td>0.0</td>\n",
              "      <td>0.00000</td>\n",
              "      <td>0.000000</td>\n",
              "      <td>0.000000</td>\n",
              "      <td>0.000000</td>\n",
              "    </tr>\n",
              "    <tr>\n",
              "      <th>69</th>\n",
              "      <td>147330</td>\n",
              "      <td>0.000000</td>\n",
              "      <td>0.186782</td>\n",
              "      <td>0.000000</td>\n",
              "      <td>0.346079</td>\n",
              "      <td>NaN</td>\n",
              "      <td>NaN</td>\n",
              "      <td>NaN</td>\n",
              "      <td>NaN</td>\n",
              "      <td>1.00</td>\n",
              "      <td>...</td>\n",
              "      <td>0.0</td>\n",
              "      <td>0.0</td>\n",
              "      <td>0.0</td>\n",
              "      <td>0.230038</td>\n",
              "      <td>0.230218</td>\n",
              "      <td>0.0</td>\n",
              "      <td>0.00000</td>\n",
              "      <td>0.000000</td>\n",
              "      <td>0.000000</td>\n",
              "      <td>0.000000</td>\n",
              "    </tr>\n",
              "  </tbody>\n",
              "</table>\n",
              "<p>10 rows × 116 columns</p>\n",
              "</div>\n",
              "    <div class=\"colab-df-buttons\">\n",
              "\n",
              "  <div class=\"colab-df-container\">\n",
              "    <button class=\"colab-df-convert\" onclick=\"convertToInteractive('df-92893826-1f0d-47b4-a04b-8cffd932f450')\"\n",
              "            title=\"Convert this dataframe to an interactive table.\"\n",
              "            style=\"display:none;\">\n",
              "\n",
              "  <svg xmlns=\"http://www.w3.org/2000/svg\" height=\"24px\" viewBox=\"0 -960 960 960\">\n",
              "    <path d=\"M120-120v-720h720v720H120Zm60-500h600v-160H180v160Zm220 220h160v-160H400v160Zm0 220h160v-160H400v160ZM180-400h160v-160H180v160Zm440 0h160v-160H620v160ZM180-180h160v-160H180v160Zm440 0h160v-160H620v160Z\"/>\n",
              "  </svg>\n",
              "    </button>\n",
              "\n",
              "  <style>\n",
              "    .colab-df-container {\n",
              "      display:flex;\n",
              "      gap: 12px;\n",
              "    }\n",
              "\n",
              "    .colab-df-convert {\n",
              "      background-color: #E8F0FE;\n",
              "      border: none;\n",
              "      border-radius: 50%;\n",
              "      cursor: pointer;\n",
              "      display: none;\n",
              "      fill: #1967D2;\n",
              "      height: 32px;\n",
              "      padding: 0 0 0 0;\n",
              "      width: 32px;\n",
              "    }\n",
              "\n",
              "    .colab-df-convert:hover {\n",
              "      background-color: #E2EBFA;\n",
              "      box-shadow: 0px 1px 2px rgba(60, 64, 67, 0.3), 0px 1px 3px 1px rgba(60, 64, 67, 0.15);\n",
              "      fill: #174EA6;\n",
              "    }\n",
              "\n",
              "    .colab-df-buttons div {\n",
              "      margin-bottom: 4px;\n",
              "    }\n",
              "\n",
              "    [theme=dark] .colab-df-convert {\n",
              "      background-color: #3B4455;\n",
              "      fill: #D2E3FC;\n",
              "    }\n",
              "\n",
              "    [theme=dark] .colab-df-convert:hover {\n",
              "      background-color: #434B5C;\n",
              "      box-shadow: 0px 1px 3px 1px rgba(0, 0, 0, 0.15);\n",
              "      filter: drop-shadow(0px 1px 2px rgba(0, 0, 0, 0.3));\n",
              "      fill: #FFFFFF;\n",
              "    }\n",
              "  </style>\n",
              "\n",
              "    <script>\n",
              "      const buttonEl =\n",
              "        document.querySelector('#df-92893826-1f0d-47b4-a04b-8cffd932f450 button.colab-df-convert');\n",
              "      buttonEl.style.display =\n",
              "        google.colab.kernel.accessAllowed ? 'block' : 'none';\n",
              "\n",
              "      async function convertToInteractive(key) {\n",
              "        const element = document.querySelector('#df-92893826-1f0d-47b4-a04b-8cffd932f450');\n",
              "        const dataTable =\n",
              "          await google.colab.kernel.invokeFunction('convertToInteractive',\n",
              "                                                    [key], {});\n",
              "        if (!dataTable) return;\n",
              "\n",
              "        const docLinkHtml = 'Like what you see? Visit the ' +\n",
              "          '<a target=\"_blank\" href=https://colab.research.google.com/notebooks/data_table.ipynb>data table notebook</a>'\n",
              "          + ' to learn more about interactive tables.';\n",
              "        element.innerHTML = '';\n",
              "        dataTable['output_type'] = 'display_data';\n",
              "        await google.colab.output.renderOutput(dataTable, element);\n",
              "        const docLink = document.createElement('div');\n",
              "        docLink.innerHTML = docLinkHtml;\n",
              "        element.appendChild(docLink);\n",
              "      }\n",
              "    </script>\n",
              "  </div>\n",
              "\n",
              "\n",
              "<div id=\"df-830389c0-4fb6-4734-9c50-c51e3ee4c96f\">\n",
              "  <button class=\"colab-df-quickchart\" onclick=\"quickchart('df-830389c0-4fb6-4734-9c50-c51e3ee4c96f')\"\n",
              "            title=\"Suggest charts\"\n",
              "            style=\"display:none;\">\n",
              "\n",
              "<svg xmlns=\"http://www.w3.org/2000/svg\" height=\"24px\"viewBox=\"0 0 24 24\"\n",
              "     width=\"24px\">\n",
              "    <g>\n",
              "        <path d=\"M19 3H5c-1.1 0-2 .9-2 2v14c0 1.1.9 2 2 2h14c1.1 0 2-.9 2-2V5c0-1.1-.9-2-2-2zM9 17H7v-7h2v7zm4 0h-2V7h2v10zm4 0h-2v-4h2v4z\"/>\n",
              "    </g>\n",
              "</svg>\n",
              "  </button>\n",
              "\n",
              "<style>\n",
              "  .colab-df-quickchart {\n",
              "      --bg-color: #E8F0FE;\n",
              "      --fill-color: #1967D2;\n",
              "      --hover-bg-color: #E2EBFA;\n",
              "      --hover-fill-color: #174EA6;\n",
              "      --disabled-fill-color: #AAA;\n",
              "      --disabled-bg-color: #DDD;\n",
              "  }\n",
              "\n",
              "  [theme=dark] .colab-df-quickchart {\n",
              "      --bg-color: #3B4455;\n",
              "      --fill-color: #D2E3FC;\n",
              "      --hover-bg-color: #434B5C;\n",
              "      --hover-fill-color: #FFFFFF;\n",
              "      --disabled-bg-color: #3B4455;\n",
              "      --disabled-fill-color: #666;\n",
              "  }\n",
              "\n",
              "  .colab-df-quickchart {\n",
              "    background-color: var(--bg-color);\n",
              "    border: none;\n",
              "    border-radius: 50%;\n",
              "    cursor: pointer;\n",
              "    display: none;\n",
              "    fill: var(--fill-color);\n",
              "    height: 32px;\n",
              "    padding: 0;\n",
              "    width: 32px;\n",
              "  }\n",
              "\n",
              "  .colab-df-quickchart:hover {\n",
              "    background-color: var(--hover-bg-color);\n",
              "    box-shadow: 0 1px 2px rgba(60, 64, 67, 0.3), 0 1px 3px 1px rgba(60, 64, 67, 0.15);\n",
              "    fill: var(--button-hover-fill-color);\n",
              "  }\n",
              "\n",
              "  .colab-df-quickchart-complete:disabled,\n",
              "  .colab-df-quickchart-complete:disabled:hover {\n",
              "    background-color: var(--disabled-bg-color);\n",
              "    fill: var(--disabled-fill-color);\n",
              "    box-shadow: none;\n",
              "  }\n",
              "\n",
              "  .colab-df-spinner {\n",
              "    border: 2px solid var(--fill-color);\n",
              "    border-color: transparent;\n",
              "    border-bottom-color: var(--fill-color);\n",
              "    animation:\n",
              "      spin 1s steps(1) infinite;\n",
              "  }\n",
              "\n",
              "  @keyframes spin {\n",
              "    0% {\n",
              "      border-color: transparent;\n",
              "      border-bottom-color: var(--fill-color);\n",
              "      border-left-color: var(--fill-color);\n",
              "    }\n",
              "    20% {\n",
              "      border-color: transparent;\n",
              "      border-left-color: var(--fill-color);\n",
              "      border-top-color: var(--fill-color);\n",
              "    }\n",
              "    30% {\n",
              "      border-color: transparent;\n",
              "      border-left-color: var(--fill-color);\n",
              "      border-top-color: var(--fill-color);\n",
              "      border-right-color: var(--fill-color);\n",
              "    }\n",
              "    40% {\n",
              "      border-color: transparent;\n",
              "      border-right-color: var(--fill-color);\n",
              "      border-top-color: var(--fill-color);\n",
              "    }\n",
              "    60% {\n",
              "      border-color: transparent;\n",
              "      border-right-color: var(--fill-color);\n",
              "    }\n",
              "    80% {\n",
              "      border-color: transparent;\n",
              "      border-right-color: var(--fill-color);\n",
              "      border-bottom-color: var(--fill-color);\n",
              "    }\n",
              "    90% {\n",
              "      border-color: transparent;\n",
              "      border-bottom-color: var(--fill-color);\n",
              "    }\n",
              "  }\n",
              "</style>\n",
              "\n",
              "  <script>\n",
              "    async function quickchart(key) {\n",
              "      const quickchartButtonEl =\n",
              "        document.querySelector('#' + key + ' button');\n",
              "      quickchartButtonEl.disabled = true;  // To prevent multiple clicks.\n",
              "      quickchartButtonEl.classList.add('colab-df-spinner');\n",
              "      try {\n",
              "        const charts = await google.colab.kernel.invokeFunction(\n",
              "            'suggestCharts', [key], {});\n",
              "      } catch (error) {\n",
              "        console.error('Error during call to suggestCharts:', error);\n",
              "      }\n",
              "      quickchartButtonEl.classList.remove('colab-df-spinner');\n",
              "      quickchartButtonEl.classList.add('colab-df-quickchart-complete');\n",
              "    }\n",
              "    (() => {\n",
              "      let quickchartButtonEl =\n",
              "        document.querySelector('#df-830389c0-4fb6-4734-9c50-c51e3ee4c96f button');\n",
              "      quickchartButtonEl.style.display =\n",
              "        google.colab.kernel.accessAllowed ? 'block' : 'none';\n",
              "    })();\n",
              "  </script>\n",
              "</div>\n",
              "    </div>\n",
              "  </div>\n"
            ]
          },
          "metadata": {},
          "execution_count": 13
        }
      ],
      "source": [
        "import pandas as pd\n",
        "import numpy as np\n",
        "\n",
        "ptd1 = pd.read_csv('/content/datasets/part_01.csv')\n",
        "ptd2 = pd.read_csv('/content/datasets/part_02.csv')\n",
        "ptd3 = pd.read_csv('/content/datasets/part_03.csv')\n",
        "ptd4 = pd.read_csv('/content/datasets/part_04.csv')\n",
        "ptd5 = pd.read_csv('/content/datasets/part_05.csv')\n",
        "ptd6 = pd.read_csv('/content/datasets/part_06.csv')\n",
        "ptd7 = pd.read_csv('/content/datasets/part_07.csv')\n",
        "ptd8 = pd.read_csv('/content/datasets/part_08.csv')\n",
        "ptd9 = pd.read_csv('/content/datasets/part_09.csv')\n",
        "ptd10 = pd.read_csv('/content/datasets/part_10.csv')\n",
        "ptd11 = pd.read_csv('/content/datasets/part_11.csv')\n",
        "ptd12 = pd.read_csv('/content/datasets/part_12.csv')\n",
        "parts_merge = [ptd3, ptd4, ptd5, ptd6]\n",
        "parts_contains = [[ptd1, ptd9], [ptd2, ptd11], [ptd4, ptd7], [ptd5, ptd12] ,[ptd6, ptd10], [ptd3, ptd8]]\n",
        "\n",
        "for i in parts_contains:\n",
        "  i[0] = pd.concat(i, ignore_index=True)\n",
        "df = ptd1.merge(ptd2, left_on='ID', right_on='ID')\n",
        "for i in parts_merge:\n",
        "  df = df.merge(i, left_on='ID', right_on='ID')\n",
        "df = df.sort_values('ID')\n",
        "print(df.shape)\n",
        "df.head(10)\n",
        "\n"
      ]
    },
    {
      "cell_type": "code",
      "source": [
        "from google.colab import drive\n",
        "drive.mount('/content/drive')"
      ],
      "metadata": {
        "id": "_9k89l4l6W-g",
        "outputId": "4d18e402-d60e-4f80-8a3e-2acaf796ecdb",
        "colab": {
          "base_uri": "https://localhost:8080/"
        }
      },
      "execution_count": 2,
      "outputs": [
        {
          "output_type": "stream",
          "name": "stdout",
          "text": [
            "Mounted at /content/drive\n"
          ]
        }
      ]
    },
    {
      "cell_type": "markdown",
      "metadata": {
        "id": "xrU97zAGA83B"
      },
      "source": [
        "7. Проверьте датасеты на отсутствие дубликатов"
      ]
    },
    {
      "cell_type": "code",
      "execution_count": 15,
      "metadata": {
        "id": "Hy6FSpebA83B",
        "outputId": "ebf721fa-bf6e-46b6-f845-62619324b74f",
        "colab": {
          "base_uri": "https://localhost:8080/",
          "height": 116
        }
      },
      "outputs": [
        {
          "output_type": "stream",
          "name": "stdout",
          "text": [
            "(0, 116)\n"
          ]
        },
        {
          "output_type": "execute_result",
          "data": {
            "text/plain": [
              "Empty DataFrame\n",
              "Columns: [ID, AMOUNT_RUB_ATM_PRC, AMOUNT_RUB_CLO_PRC, AMOUNT_RUB_NAS_PRC, AMOUNT_RUB_SUP_PRC, CNT_TRAN_ATM_TENDENCY1M, CNT_TRAN_ATM_TENDENCY3M, CNT_TRAN_AUT_TENDENCY1M, CNT_TRAN_AUT_TENDENCY3M, CNT_TRAN_CLO_TENDENCY1M, CNT_TRAN_CLO_TENDENCY3M, CNT_TRAN_MED_TENDENCY1M, CNT_TRAN_MED_TENDENCY3M, CNT_TRAN_SUP_TENDENCY1M, CNT_TRAN_SUP_TENDENCY3M, SUM_TRAN_ATM_TENDENCY1M, SUM_TRAN_ATM_TENDENCY3M, SUM_TRAN_AUT_TENDENCY1M, SUM_TRAN_AUT_TENDENCY3M, SUM_TRAN_CLO_TENDENCY1M, SUM_TRAN_CLO_TENDENCY3M, SUM_TRAN_MED_TENDENCY1M, SUM_TRAN_MED_TENDENCY3M, SUM_TRAN_SUP_TENDENCY1M, SUM_TRAN_SUP_TENDENCY3M, TRANS_AMOUNT_TENDENCY3M, TRANS_CNT_TENDENCY3M, TRANS_COUNT_ATM_PRC, TRANS_COUNT_NAS_PRC, TRANS_COUNT_SUP_PRC, AGE, APP_CAR, APP_COMP_TYPE, APP_DRIVING_LICENSE, APP_EDUCATION, APP_EMP_TYPE, APP_KIND_OF_PROP_HABITATION, APP_MARITAL_STATUS, APP_POSITION_TYPE, APP_REGISTR_RGN_CODE, APP_TRAVEL_PASS, AVG_PCT_DEBT_TO_DEAL_AMT, AVG_PCT_MONTH_TO_PCLOSE, DEAL_GRACE_DAYS_ACC_AVG, DEAL_GRACE_DAYS_ACC_MAX, DEAL_GRACE_DAYS_ACC_S1X1, DEAL_YQZ_IR_MAX, DEAL_YQZ_IR_MIN, DEAL_YWZ_IR_MAX, DEAL_YWZ_IR_MIN, LDEAL_ACT_DAYS_ACC_PCT_AVG, LDEAL_ACT_DAYS_PCT_AAVG, LDEAL_ACT_DAYS_PCT_CURR, LDEAL_ACT_DAYS_PCT_TR, LDEAL_ACT_DAYS_PCT_TR3, LDEAL_ACT_DAYS_PCT_TR4, LDEAL_AMT_MONTH, LDEAL_DELINQ_PER_MAXYQZ, LDEAL_DELINQ_PER_MAXYWZ, LDEAL_GRACE_DAYS_PCT_MED, LDEAL_TENOR_MAX, LDEAL_TENOR_MIN, LDEAL_USED_AMT_AVG_YQZ, LDEAL_USED_AMT_AVG_YWZ, LDEAL_YQZ_CHRG, LDEAL_YQZ_COM, LDEAL_YQZ_PC, MAX_PCLOSE_DATE, MED_DEBT_PRC_YQZ, MED_DEBT_PRC_YWZ, CLNT_JOB_POSITION, CLNT_JOB_POSITION_TYPE, CLNT_SALARY_VALUE, CLNT_SETUP_TENOR, CLNT_TRUST_RELATION, CR_PROD_CNT_CC, CR_PROD_CNT_CCFP, CR_PROD_CNT_IL, CR_PROD_CNT_PIL, CR_PROD_CNT_TOVR, CR_PROD_CNT_VCU, PACK, TARGET, CNT_ACCEPTS_MTP, CNT_ACCEPTS_TK, PRC_ACCEPTS_A_AMOBILE, PRC_ACCEPTS_A_ATM, PRC_ACCEPTS_A_EMAIL_LINK, PRC_ACCEPTS_A_MTP, PRC_ACCEPTS_A_POS, PRC_ACCEPTS_A_TK, PRC_ACCEPTS_MTP, PRC_ACCEPTS_TK, REST_AVG_CUR, REST_AVG_PAYM, REST_DYNAMIC_CC_1M, REST_DYNAMIC_CC_3M, REST_DYNAMIC_CUR_1M, REST_DYNAMIC_CUR_3M, REST_DYNAMIC_FDEP_1M, ...]\n",
              "Index: []\n",
              "\n",
              "[0 rows x 116 columns]"
            ],
            "text/html": [
              "\n",
              "  <div id=\"df-495445fa-70fa-45d9-858d-751f3ee1515e\" class=\"colab-df-container\">\n",
              "    <div>\n",
              "<style scoped>\n",
              "    .dataframe tbody tr th:only-of-type {\n",
              "        vertical-align: middle;\n",
              "    }\n",
              "\n",
              "    .dataframe tbody tr th {\n",
              "        vertical-align: top;\n",
              "    }\n",
              "\n",
              "    .dataframe thead th {\n",
              "        text-align: right;\n",
              "    }\n",
              "</style>\n",
              "<table border=\"1\" class=\"dataframe\">\n",
              "  <thead>\n",
              "    <tr style=\"text-align: right;\">\n",
              "      <th></th>\n",
              "      <th>ID</th>\n",
              "      <th>AMOUNT_RUB_ATM_PRC</th>\n",
              "      <th>AMOUNT_RUB_CLO_PRC</th>\n",
              "      <th>AMOUNT_RUB_NAS_PRC</th>\n",
              "      <th>AMOUNT_RUB_SUP_PRC</th>\n",
              "      <th>CNT_TRAN_ATM_TENDENCY1M</th>\n",
              "      <th>CNT_TRAN_ATM_TENDENCY3M</th>\n",
              "      <th>CNT_TRAN_AUT_TENDENCY1M</th>\n",
              "      <th>CNT_TRAN_AUT_TENDENCY3M</th>\n",
              "      <th>CNT_TRAN_CLO_TENDENCY1M</th>\n",
              "      <th>...</th>\n",
              "      <th>TURNOVER_CC</th>\n",
              "      <th>TURNOVER_DYNAMIC_CC_1M</th>\n",
              "      <th>TURNOVER_DYNAMIC_CC_3M</th>\n",
              "      <th>TURNOVER_DYNAMIC_CUR_1M</th>\n",
              "      <th>TURNOVER_DYNAMIC_CUR_3M</th>\n",
              "      <th>TURNOVER_DYNAMIC_IL_1M</th>\n",
              "      <th>TURNOVER_DYNAMIC_IL_3M</th>\n",
              "      <th>TURNOVER_DYNAMIC_PAYM_1M</th>\n",
              "      <th>TURNOVER_DYNAMIC_PAYM_3M</th>\n",
              "      <th>TURNOVER_PAYM</th>\n",
              "    </tr>\n",
              "  </thead>\n",
              "  <tbody>\n",
              "  </tbody>\n",
              "</table>\n",
              "<p>0 rows × 116 columns</p>\n",
              "</div>\n",
              "    <div class=\"colab-df-buttons\">\n",
              "\n",
              "  <div class=\"colab-df-container\">\n",
              "    <button class=\"colab-df-convert\" onclick=\"convertToInteractive('df-495445fa-70fa-45d9-858d-751f3ee1515e')\"\n",
              "            title=\"Convert this dataframe to an interactive table.\"\n",
              "            style=\"display:none;\">\n",
              "\n",
              "  <svg xmlns=\"http://www.w3.org/2000/svg\" height=\"24px\" viewBox=\"0 -960 960 960\">\n",
              "    <path d=\"M120-120v-720h720v720H120Zm60-500h600v-160H180v160Zm220 220h160v-160H400v160Zm0 220h160v-160H400v160ZM180-400h160v-160H180v160Zm440 0h160v-160H620v160ZM180-180h160v-160H180v160Zm440 0h160v-160H620v160Z\"/>\n",
              "  </svg>\n",
              "    </button>\n",
              "\n",
              "  <style>\n",
              "    .colab-df-container {\n",
              "      display:flex;\n",
              "      gap: 12px;\n",
              "    }\n",
              "\n",
              "    .colab-df-convert {\n",
              "      background-color: #E8F0FE;\n",
              "      border: none;\n",
              "      border-radius: 50%;\n",
              "      cursor: pointer;\n",
              "      display: none;\n",
              "      fill: #1967D2;\n",
              "      height: 32px;\n",
              "      padding: 0 0 0 0;\n",
              "      width: 32px;\n",
              "    }\n",
              "\n",
              "    .colab-df-convert:hover {\n",
              "      background-color: #E2EBFA;\n",
              "      box-shadow: 0px 1px 2px rgba(60, 64, 67, 0.3), 0px 1px 3px 1px rgba(60, 64, 67, 0.15);\n",
              "      fill: #174EA6;\n",
              "    }\n",
              "\n",
              "    .colab-df-buttons div {\n",
              "      margin-bottom: 4px;\n",
              "    }\n",
              "\n",
              "    [theme=dark] .colab-df-convert {\n",
              "      background-color: #3B4455;\n",
              "      fill: #D2E3FC;\n",
              "    }\n",
              "\n",
              "    [theme=dark] .colab-df-convert:hover {\n",
              "      background-color: #434B5C;\n",
              "      box-shadow: 0px 1px 3px 1px rgba(0, 0, 0, 0.15);\n",
              "      filter: drop-shadow(0px 1px 2px rgba(0, 0, 0, 0.3));\n",
              "      fill: #FFFFFF;\n",
              "    }\n",
              "  </style>\n",
              "\n",
              "    <script>\n",
              "      const buttonEl =\n",
              "        document.querySelector('#df-495445fa-70fa-45d9-858d-751f3ee1515e button.colab-df-convert');\n",
              "      buttonEl.style.display =\n",
              "        google.colab.kernel.accessAllowed ? 'block' : 'none';\n",
              "\n",
              "      async function convertToInteractive(key) {\n",
              "        const element = document.querySelector('#df-495445fa-70fa-45d9-858d-751f3ee1515e');\n",
              "        const dataTable =\n",
              "          await google.colab.kernel.invokeFunction('convertToInteractive',\n",
              "                                                    [key], {});\n",
              "        if (!dataTable) return;\n",
              "\n",
              "        const docLinkHtml = 'Like what you see? Visit the ' +\n",
              "          '<a target=\"_blank\" href=https://colab.research.google.com/notebooks/data_table.ipynb>data table notebook</a>'\n",
              "          + ' to learn more about interactive tables.';\n",
              "        element.innerHTML = '';\n",
              "        dataTable['output_type'] = 'display_data';\n",
              "        await google.colab.output.renderOutput(dataTable, element);\n",
              "        const docLink = document.createElement('div');\n",
              "        docLink.innerHTML = docLinkHtml;\n",
              "        element.appendChild(docLink);\n",
              "      }\n",
              "    </script>\n",
              "  </div>\n",
              "\n",
              "    </div>\n",
              "  </div>\n"
            ]
          },
          "metadata": {},
          "execution_count": 15
        }
      ],
      "source": [
        "duplicateRows = df[df.duplicated ()]\n",
        "print(duplicateRows.shape)\n",
        "duplicateRows"
      ]
    },
    {
      "cell_type": "markdown",
      "metadata": {
        "pycharm": {
          "name": "#%%\n"
        },
        "id": "KieJb3geA83B"
      },
      "source": [
        "### 3.2. Очистка текстовых данных\n",
        "Теперь можно приступать к очистке данных. Для этого нужно:\n",
        "1. Найти в получившемся датасете все поля, которые являются текстовыми.\n",
        "2. Привести их значения к нижнему регистру.\n",
        "3. В тех полях, где есть одновременно русское и английское написание одного и того же слова, оставить только русское (заменить английское на русское). Это условие не применять к полю `CLNT_JOB_POSITION`. Это будет чересчур даже для нашего курса :)\n",
        "4. Если текстовое значение состоит только из “` `“ (пробел), то его заменить на `NaN` (пустое значение, а не строку 'NaN').\n",
        "5. Если в текстовом значении есть цифры (телефон, дата рождения и др.), то всё значение текстового поля тоже заменить на `NaN`. Поле `PACK` оставить в исходном виде. Оно отвечает за пакет услуг клиента, и нам эта информация может быть важной. Затирать ее на пустые значения было бы опрометчиво.\n",
        "6. Если есть столбцы, которые абсолютно идентичны по своим значениям для одних и тех же строк, то оставить только тот столбец, который идет первее. Речь идет только о текстовых полях."
      ]
    },
    {
      "cell_type": "code",
      "execution_count": 27,
      "metadata": {
        "id": "5ZdvXFAlA83C"
      },
      "outputs": [],
      "source": [
        "df_object = df.select_dtypes(include = ['object'])\n",
        "df_strs = list(df_object)\n",
        "for i in df_strs:\n",
        "  df[i] = df[i].str.lower()\n",
        "df_strs.remove('CLNT_JOB_POSITION')\n"
      ]
    },
    {
      "cell_type": "code",
      "execution_count": null,
      "metadata": {
        "id": "vPyBm_sCA83C"
      },
      "outputs": [],
      "source": []
    },
    {
      "cell_type": "code",
      "execution_count": null,
      "metadata": {
        "id": "JzPaMNcwA83C"
      },
      "outputs": [],
      "source": []
    },
    {
      "cell_type": "markdown",
      "metadata": {
        "id": "NF8WhwWeA83C"
      },
      "source": [
        "7. Выведите количество уникальных значения в полях CLNT_TRUST_RELATION, APP_MARITAL_STATUS, CLNT_JOB_POSITION"
      ]
    },
    {
      "cell_type": "code",
      "execution_count": null,
      "metadata": {
        "id": "WHu5TAxbA83C"
      },
      "outputs": [],
      "source": []
    },
    {
      "cell_type": "markdown",
      "metadata": {
        "id": "csihkw4IA83C"
      },
      "source": [
        "8. Выведите колонки итогового датасета"
      ]
    },
    {
      "cell_type": "code",
      "execution_count": null,
      "metadata": {
        "id": "2NYH7pSEA83C"
      },
      "outputs": [],
      "source": []
    }
  ],
  "metadata": {
    "colab": {
      "name": "d00_task.ipynb",
      "provenance": []
    },
    "kernelspec": {
      "display_name": "Python 3 (ipykernel)",
      "language": "python",
      "name": "python3"
    },
    "language_info": {
      "codemirror_mode": {
        "name": "ipython",
        "version": 3
      },
      "file_extension": ".py",
      "mimetype": "text/x-python",
      "name": "python",
      "nbconvert_exporter": "python",
      "pygments_lexer": "ipython3",
      "version": "3.9.10"
    }
  },
  "nbformat": 4,
  "nbformat_minor": 0
}